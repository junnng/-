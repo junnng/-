{
 "cells": [
  {
   "cell_type": "code",
   "execution_count": 1,
   "id": "882dbd80",
   "metadata": {},
   "outputs": [],
   "source": [
    "# 데이터 가져오기\n",
    "import pandas as pd\n",
    "x_train=pd.read_csv('titanic_x_train.csv', encoding = 'CP949')\n",
    "x_test=pd.read_csv('titanic_x_test.csv', encoding = 'CP949')\n",
    "y_train=pd.read_csv('titanic_y_train.csv')"
   ]
  },
  {
   "cell_type": "code",
   "execution_count": 2,
   "id": "a8dcef9a",
   "metadata": {},
   "outputs": [],
   "source": [
    "# 전처리하기\n",
    "x_test_passenger_id =x_test['PassengerId']\n",
    "x_train = x_train.drop(columns=['PassengerId'])\n",
    "x_test = x_test.drop(columns=['PassengerId'])\n",
    "y_train = y_train.drop(columns=['PassengerId'])\n",
    "x_train = x_train.drop(columns=['티켓번호'])\n",
    "x_test = x_test.drop(columns=['티켓번호'])\n",
    "x_train = x_train.drop(columns=['승객이름'])\n",
    "x_test = x_test.drop(columns=['승객이름'])\n",
    "x_train = x_train.drop(columns=['나이'])\n",
    "x_test = x_test.drop(columns=['나이'])\n",
    "x_train = x_train.drop(columns=['객실번호'])\n",
    "x_test = x_test.drop(columns=['객실번호'])"
   ]
  },
  {
   "cell_type": "code",
   "execution_count": 4,
   "id": "6a2ffd5a",
   "metadata": {},
   "outputs": [],
   "source": [
    "#결측치 처리하기\n",
    "x_train['선착장'] = x_train['선착장'].fillna('S')\n",
    "x_test['선착장'] = x_test['선착장'].fillna('S')"
   ]
  },
  {
   "cell_type": "code",
   "execution_count": 5,
   "id": "cfcadda3",
   "metadata": {},
   "outputs": [],
   "source": [
    "#인코딩 수행하기\n",
    "x_train['성별']=x_train['성별'].replace('male',0).replace('female',1)\n",
    "x_test['성별']=x_test['성별'].replace('male',0).replace('female',1)\n",
    "선착장_dummy = pd.get_dummies(x_train['선착장'],drop_first = True).rename(columns= {'Q':'선착장Q', 'S':'선착장S'})\n",
    "x_train = pd.concat([x_train,선착장_dummy],axis=1)\n",
    "x_train=x_train.drop(columns=['선착장'])\n",
    "선착장_dummy = pd.get_dummies(x_test['선착장'],drop_first = True).rename(columns= {'Q':'선착장Q', 'S':'선착장S'})\n",
    "x_test = pd.concat([x_test,선착장_dummy],axis=1)\n",
    "x_test=x_test.drop(columns=['선착장'])"
   ]
  },
  {
   "cell_type": "code",
   "execution_count": 6,
   "id": "77399e14",
   "metadata": {},
   "outputs": [],
   "source": [
    "# 파생변수 만들기\n",
    "x_train['가족수'] =x_train['형제자매배우자수']+x_train['부모자식수']\n",
    "x_train=x_train.drop(columns=['형제자매배우자수','부모자식수'])\n",
    "x_test['가족수'] =x_test['형제자매배우자수']+x_test['부모자식수']\n",
    "x_test=x_test.drop(columns=['형제자매배우자수','부모자식수'])"
   ]
  },
  {
   "cell_type": "code",
   "execution_count": 7,
   "id": "277ac845",
   "metadata": {},
   "outputs": [],
   "source": [
    "#데이터 분리하기\n",
    "from sklearn.model_selection import train_test_split\n",
    "X_TRAIN,X_TEST,Y_TRAIN,Y_TEST = \\\n",
    "train_test_split(x_train,y_train, test_size=0.2 ,random_state=10)"
   ]
  },
  {
   "cell_type": "code",
   "execution_count": 9,
   "id": "f5fd57eb",
   "metadata": {},
   "outputs": [
    {
     "data": {
      "text/plain": [
       "XGBClassifier(base_score=0.5, booster='gbtree', colsample_bylevel=1,\n",
       "              colsample_bynode=1, colsample_bytree=1, enable_categorical=False,\n",
       "              eval_metric='error', gamma=0, gpu_id=-1, importance_type=None,\n",
       "              interaction_constraints='', learning_rate=0.300000012,\n",
       "              max_delta_step=0, max_depth=5, min_child_weight=1, missing=nan,\n",
       "              monotone_constraints='()', n_estimators=100, n_jobs=4,\n",
       "              num_parallel_tree=1, predictor='auto', random_state=10,\n",
       "              reg_alpha=0, reg_lambda=1, scale_pos_weight=1, subsample=1,\n",
       "              tree_method='exact', validate_parameters=1, verbosity=None)"
      ]
     },
     "execution_count": 9,
     "metadata": {},
     "output_type": "execute_result"
    }
   ],
   "source": [
    "# 모델 학습하기\n",
    "from xgboost import XGBClassifier\n",
    "model = XGBClassifier(n_estimators=100, max_depth = 5 , eval_metric = 'error',\\\n",
    "                     random_state=10)\n",
    "model.fit(X_TRAIN,Y_TRAIN)"
   ]
  },
  {
   "cell_type": "code",
   "execution_count": 11,
   "id": "7b90bb24",
   "metadata": {},
   "outputs": [],
   "source": [
    "# 최종 결과를 파일로 저장하기\n",
    "y_test_predicted = pd.DataFrame(model.predict(x_test)).rename(columns={0:'Survived'})\n",
    "final=pd.concat([x_test_passenger_id,y_test_predicted],axis=1)\n",
    "final.to_csv('123456.csv',index=False)"
   ]
  },
  {
   "cell_type": "code",
   "execution_count": null,
   "id": "3d81a1c5",
   "metadata": {},
   "outputs": [],
   "source": []
  },
  {
   "cell_type": "code",
   "execution_count": null,
   "id": "e393360a",
   "metadata": {},
   "outputs": [],
   "source": []
  }
 ],
 "metadata": {
  "kernelspec": {
   "display_name": "Python 3",
   "language": "python",
   "name": "python3"
  },
  "language_info": {
   "codemirror_mode": {
    "name": "ipython",
    "version": 3
   },
   "file_extension": ".py",
   "mimetype": "text/x-python",
   "name": "python",
   "nbconvert_exporter": "python",
   "pygments_lexer": "ipython3",
   "version": "3.8.8"
  }
 },
 "nbformat": 4,
 "nbformat_minor": 5
}
