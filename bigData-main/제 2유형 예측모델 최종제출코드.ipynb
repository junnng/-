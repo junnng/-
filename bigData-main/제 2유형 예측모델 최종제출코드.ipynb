{
 "cells": [
  {
   "cell_type": "code",
   "execution_count": 1,
   "id": "62b4f109",
   "metadata": {},
   "outputs": [],
   "source": [
    "# 데이터 가져오기\n",
    "import pandas as pd\n",
    "\n",
    "x_train = pd.read_csv('bike_x_train.csv', encoding='CP949')\n",
    "x_test = pd.read_csv('bike_x_test.csv' , encoding = 'CP949')\n",
    "y_train = pd.read_csv('bike_y_train.csv')"
   ]
  },
  {
   "cell_type": "code",
   "execution_count": 2,
   "id": "293b4a84",
   "metadata": {},
   "outputs": [],
   "source": [
    "#전처리하기\n",
    "x_train['datetime']=pd.to_datetime(x_train['datetime'])\n",
    "x_train['year']=x_train['datetime'].dt.year\n",
    "x_train['hour']=x_train['datetime'].dt.hour\n",
    "\n",
    "x_test['datetime']=pd.to_datetime(x_test['datetime'])\n",
    "x_test['year']=x_test['datetime'].dt.year\n",
    "x_test['hour']=x_test['datetime'].dt.hour\n",
    "\n",
    "x_test_datetime = x_test['datetime']\n",
    "\n",
    "x_train = x_train.drop(columns=['datetime'])\n",
    "x_test = x_test.drop(columns=['datetime'])\n",
    "y_train = y_train.drop(columns=['datetime'])"
   ]
  },
  {
   "cell_type": "code",
   "execution_count": 3,
   "id": "218e802c",
   "metadata": {},
   "outputs": [],
   "source": [
    "# 데이터 분리하기\n",
    "from sklearn.model_selection import train_test_split\n",
    "\n",
    "X_TRAIN,X_TEST,Y_TRAIN,Y_TEST = train_test_split(x_train,y_train,\\\n",
    "                                                test_size=0.2, random_state=10)"
   ]
  },
  {
   "cell_type": "code",
   "execution_count": 4,
   "id": "e231960e",
   "metadata": {},
   "outputs": [],
   "source": [
    "# 모델의 학습하고 테스트 데이터의 종속변수 값을 예측하기\n",
    "from xgboost import XGBRegressor\n",
    "model2= XGBRegressor(n_estimators=200,max_depth=5, random_state=10)\n",
    "model2.fit(X_TRAIN,Y_TRAIN)\n",
    "\n",
    "y_test_predicted2 = pd.DataFrame(model2.predict(x_test)).rename(columns={0:'count'})\n",
    "y_test_predicted2[y_test_predicted2['count']<0]=0\n",
    "\n",
    "Y_TEST_PREDICTED2=pd.DataFrame(model2.predict(X_TEST)).rename(columns={0:'count'})\n",
    "Y_TEST_PREDICTED2[Y_TEST_PREDICTED2['count']<0]=0"
   ]
  },
  {
   "cell_type": "code",
   "execution_count": 5,
   "id": "9ac8d324",
   "metadata": {},
   "outputs": [
    {
     "name": "stdout",
     "output_type": "stream",
     "text": [
      "0.9381182890431057\n"
     ]
    }
   ],
   "source": [
    "# 모델 평가하기\n",
    "from sklearn.metrics import r2_score\n",
    "print(r2_score(Y_TEST,Y_TEST_PREDICTED2))"
   ]
  },
  {
   "cell_type": "code",
   "execution_count": 6,
   "id": "20b3c539",
   "metadata": {},
   "outputs": [],
   "source": [
    "# 결과 제출하기\n",
    "final = pd.concat([x_test_datetime,y_test_predicted2],axis=1)\n",
    "final.to_csv('1234567.csv',index=False)"
   ]
  }
 ],
 "metadata": {
  "kernelspec": {
   "display_name": "Python 3",
   "language": "python",
   "name": "python3"
  },
  "language_info": {
   "codemirror_mode": {
    "name": "ipython",
    "version": 3
   },
   "file_extension": ".py",
   "mimetype": "text/x-python",
   "name": "python",
   "nbconvert_exporter": "python",
   "pygments_lexer": "ipython3",
   "version": "3.8.8"
  }
 },
 "nbformat": 4,
 "nbformat_minor": 5
}
