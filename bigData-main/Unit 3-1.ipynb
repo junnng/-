{
 "cells": [
  {
   "cell_type": "markdown",
   "id": "641f4027",
   "metadata": {},
   "source": [
    "데이터 로드하기"
   ]
  },
  {
   "cell_type": "code",
   "execution_count": 1,
   "id": "30034247",
   "metadata": {},
   "outputs": [],
   "source": [
    "import pandas as pd"
   ]
  },
  {
   "cell_type": "code",
   "execution_count": 2,
   "id": "00c43945",
   "metadata": {},
   "outputs": [],
   "source": [
    "data = pd.read_csv('mtcars.csv')"
   ]
  },
  {
   "cell_type": "code",
   "execution_count": 3,
   "id": "f105e4e8",
   "metadata": {},
   "outputs": [
    {
     "name": "stdout",
     "output_type": "stream",
     "text": [
      "          Unnamed: 0   mpg  cyl   disp   hp  drat     wt   qsec  vs      am  \\\n",
      "0          Mazda RX4  21.0  6.0  160.0  110  3.90  2.620  16.46   0  manual   \n",
      "1      Mazda RX4 Wag  21.0  6.0  160.0  110  3.90  2.875  17.02   0  manual   \n",
      "2         Datsun 710  22.8  4.0  108.0   93  3.85  2.320  18.61   1  manual   \n",
      "3     Hornet 4 Drive  21.4  6.0  258.0  110  3.08  3.215   0.10   1    auto   \n",
      "4  Hornet Sportabout  18.7  8.0  360.0  175  3.15  3.440  17.02   0    auto   \n",
      "\n",
      "  gear  carb  \n",
      "0    4     4  \n",
      "1    4     4  \n",
      "2    4     1  \n",
      "3    3     1  \n",
      "4    3     2  \n"
     ]
    }
   ],
   "source": [
    "print(data.head())"
   ]
  },
  {
   "cell_type": "code",
   "execution_count": 4,
   "id": "6d4d656d",
   "metadata": {},
   "outputs": [
    {
     "name": "stdout",
     "output_type": "stream",
     "text": [
      "(32, 12)\n"
     ]
    }
   ],
   "source": [
    "print(data.shape)"
   ]
  },
  {
   "cell_type": "code",
   "execution_count": 5,
   "id": "53584dac",
   "metadata": {},
   "outputs": [
    {
     "data": {
      "text/html": [
       "<div>\n",
       "<style scoped>\n",
       "    .dataframe tbody tr th:only-of-type {\n",
       "        vertical-align: middle;\n",
       "    }\n",
       "\n",
       "    .dataframe tbody tr th {\n",
       "        vertical-align: top;\n",
       "    }\n",
       "\n",
       "    .dataframe thead th {\n",
       "        text-align: right;\n",
       "    }\n",
       "</style>\n",
       "<table border=\"1\" class=\"dataframe\">\n",
       "  <thead>\n",
       "    <tr style=\"text-align: right;\">\n",
       "      <th></th>\n",
       "      <th>Unnamed: 0</th>\n",
       "      <th>mpg</th>\n",
       "      <th>cyl</th>\n",
       "      <th>disp</th>\n",
       "      <th>hp</th>\n",
       "      <th>drat</th>\n",
       "      <th>wt</th>\n",
       "      <th>qsec</th>\n",
       "      <th>vs</th>\n",
       "      <th>am</th>\n",
       "      <th>gear</th>\n",
       "      <th>carb</th>\n",
       "    </tr>\n",
       "  </thead>\n",
       "  <tbody>\n",
       "    <tr>\n",
       "      <th>0</th>\n",
       "      <td>Mazda RX4</td>\n",
       "      <td>21.0</td>\n",
       "      <td>6.0</td>\n",
       "      <td>160.0</td>\n",
       "      <td>110</td>\n",
       "      <td>3.90</td>\n",
       "      <td>2.620</td>\n",
       "      <td>16.46</td>\n",
       "      <td>0</td>\n",
       "      <td>manual</td>\n",
       "      <td>4</td>\n",
       "      <td>4</td>\n",
       "    </tr>\n",
       "    <tr>\n",
       "      <th>1</th>\n",
       "      <td>Mazda RX4 Wag</td>\n",
       "      <td>21.0</td>\n",
       "      <td>6.0</td>\n",
       "      <td>160.0</td>\n",
       "      <td>110</td>\n",
       "      <td>3.90</td>\n",
       "      <td>2.875</td>\n",
       "      <td>17.02</td>\n",
       "      <td>0</td>\n",
       "      <td>manual</td>\n",
       "      <td>4</td>\n",
       "      <td>4</td>\n",
       "    </tr>\n",
       "    <tr>\n",
       "      <th>2</th>\n",
       "      <td>Datsun 710</td>\n",
       "      <td>22.8</td>\n",
       "      <td>4.0</td>\n",
       "      <td>108.0</td>\n",
       "      <td>93</td>\n",
       "      <td>3.85</td>\n",
       "      <td>2.320</td>\n",
       "      <td>18.61</td>\n",
       "      <td>1</td>\n",
       "      <td>manual</td>\n",
       "      <td>4</td>\n",
       "      <td>1</td>\n",
       "    </tr>\n",
       "    <tr>\n",
       "      <th>3</th>\n",
       "      <td>Hornet 4 Drive</td>\n",
       "      <td>21.4</td>\n",
       "      <td>6.0</td>\n",
       "      <td>258.0</td>\n",
       "      <td>110</td>\n",
       "      <td>3.08</td>\n",
       "      <td>3.215</td>\n",
       "      <td>0.10</td>\n",
       "      <td>1</td>\n",
       "      <td>auto</td>\n",
       "      <td>3</td>\n",
       "      <td>1</td>\n",
       "    </tr>\n",
       "    <tr>\n",
       "      <th>4</th>\n",
       "      <td>Hornet Sportabout</td>\n",
       "      <td>18.7</td>\n",
       "      <td>8.0</td>\n",
       "      <td>360.0</td>\n",
       "      <td>175</td>\n",
       "      <td>3.15</td>\n",
       "      <td>3.440</td>\n",
       "      <td>17.02</td>\n",
       "      <td>0</td>\n",
       "      <td>auto</td>\n",
       "      <td>3</td>\n",
       "      <td>2</td>\n",
       "    </tr>\n",
       "  </tbody>\n",
       "</table>\n",
       "</div>"
      ],
      "text/plain": [
       "          Unnamed: 0   mpg  cyl   disp   hp  drat     wt   qsec  vs      am  \\\n",
       "0          Mazda RX4  21.0  6.0  160.0  110  3.90  2.620  16.46   0  manual   \n",
       "1      Mazda RX4 Wag  21.0  6.0  160.0  110  3.90  2.875  17.02   0  manual   \n",
       "2         Datsun 710  22.8  4.0  108.0   93  3.85  2.320  18.61   1  manual   \n",
       "3     Hornet 4 Drive  21.4  6.0  258.0  110  3.08  3.215   0.10   1    auto   \n",
       "4  Hornet Sportabout  18.7  8.0  360.0  175  3.15  3.440  17.02   0    auto   \n",
       "\n",
       "  gear  carb  \n",
       "0    4     4  \n",
       "1    4     4  \n",
       "2    4     1  \n",
       "3    3     1  \n",
       "4    3     2  "
      ]
     },
     "execution_count": 5,
     "metadata": {},
     "output_type": "execute_result"
    }
   ],
   "source": [
    "data.head()"
   ]
  },
  {
   "cell_type": "code",
   "execution_count": 6,
   "id": "18442f83",
   "metadata": {},
   "outputs": [
    {
     "name": "stdout",
     "output_type": "stream",
     "text": [
      "<class 'pandas.core.frame.DataFrame'>\n"
     ]
    }
   ],
   "source": [
    "print(type(data))"
   ]
  },
  {
   "cell_type": "code",
   "execution_count": 7,
   "id": "8aa27711",
   "metadata": {},
   "outputs": [
    {
     "name": "stdout",
     "output_type": "stream",
     "text": [
      "Index(['Unnamed: 0', 'mpg', 'cyl', 'disp', 'hp', 'drat', 'wt', 'qsec', 'vs',\n",
      "       'am', 'gear', 'carb'],\n",
      "      dtype='object')\n"
     ]
    }
   ],
   "source": [
    "print(data.columns) #data 변수의 열 이름 확인하기"
   ]
  },
  {
   "cell_type": "code",
   "execution_count": 8,
   "id": "91fd0175",
   "metadata": {},
   "outputs": [
    {
     "name": "stdout",
     "output_type": "stream",
     "text": [
      "             mpg        cyl        disp          hp       drat         wt  \\\n",
      "count  32.000000  30.000000   32.000000   32.000000  32.000000  32.000000   \n",
      "mean   20.090625   7.600000  230.721875  146.687500   3.596563   3.217250   \n",
      "std     6.026948   8.194195  123.938694   68.562868   0.534679   0.978457   \n",
      "min    10.400000   4.000000   71.100000   52.000000   2.760000   1.513000   \n",
      "25%    15.425000   4.000000  120.825000   96.500000   3.080000   2.581250   \n",
      "50%    19.200000   6.000000  196.300000  123.000000   3.695000   3.325000   \n",
      "75%    22.800000   8.000000  326.000000  180.000000   3.920000   3.610000   \n",
      "max    33.900000  50.000000  472.000000  335.000000   4.930000   5.424000   \n",
      "\n",
      "             qsec         vs     carb  \n",
      "count   31.000000  32.000000  32.0000  \n",
      "mean    19.866774   0.437500   2.8125  \n",
      "std     15.310469   0.504016   1.6152  \n",
      "min      0.100000   0.000000   1.0000  \n",
      "25%     16.785000   0.000000   2.0000  \n",
      "50%     17.600000   0.000000   2.0000  \n",
      "75%     18.755000   1.000000   4.0000  \n",
      "max    100.000000   1.000000   8.0000  \n"
     ]
    }
   ],
   "source": [
    "print(data.describe()) #기초통계량 구하기"
   ]
  },
  {
   "cell_type": "code",
   "execution_count": 9,
   "id": "9d114005",
   "metadata": {},
   "outputs": [
    {
     "name": "stdout",
     "output_type": "stream",
     "text": [
      "count     32.000000\n",
      "mean     146.687500\n",
      "std       68.562868\n",
      "min       52.000000\n",
      "25%       96.500000\n",
      "50%      123.000000\n",
      "75%      180.000000\n",
      "max      335.000000\n",
      "Name: hp, dtype: float64\n"
     ]
    }
   ],
   "source": [
    "print(data['hp'].describe()) #hp 수치형 변수의 기초 통계량 구하기"
   ]
  },
  {
   "cell_type": "code",
   "execution_count": 10,
   "id": "e214c7ca",
   "metadata": {},
   "outputs": [
    {
     "name": "stdout",
     "output_type": "stream",
     "text": [
      "['manual' 'auto']\n"
     ]
    }
   ],
   "source": [
    "print(data['am'].unique()) #am칼럼에서 중복 제거한 값들 구하기"
   ]
  },
  {
   "cell_type": "code",
   "execution_count": 11,
   "id": "b20185de",
   "metadata": {},
   "outputs": [
    {
     "name": "stdout",
     "output_type": "stream",
     "text": [
      "['4' '3' '*3' '5' '*5']\n"
     ]
    }
   ],
   "source": [
    "print(data['gear'].unique()) #gear 칼럼에서 중복 제거한 값을 구하기"
   ]
  },
  {
   "cell_type": "code",
   "execution_count": 13,
   "id": "b0b66d5b",
   "metadata": {},
   "outputs": [
    {
     "data": {
      "text/plain": [
       "array([0, 1], dtype=int64)"
      ]
     },
     "execution_count": 13,
     "metadata": {},
     "output_type": "execute_result"
    }
   ],
   "source": [
    "data['vs'].unique() #vs칼럼에서 중복 제거한 값들 구하기"
   ]
  },
  {
   "cell_type": "code",
   "execution_count": 14,
   "id": "f5e7989c",
   "metadata": {},
   "outputs": [
    {
     "name": "stdout",
     "output_type": "stream",
     "text": [
      "<class 'pandas.core.frame.DataFrame'>\n",
      "RangeIndex: 32 entries, 0 to 31\n",
      "Data columns (total 12 columns):\n",
      " #   Column      Non-Null Count  Dtype  \n",
      "---  ------      --------------  -----  \n",
      " 0   Unnamed: 0  32 non-null     object \n",
      " 1   mpg         32 non-null     float64\n",
      " 2   cyl         30 non-null     float64\n",
      " 3   disp        32 non-null     float64\n",
      " 4   hp          32 non-null     int64  \n",
      " 5   drat        32 non-null     float64\n",
      " 6   wt          32 non-null     float64\n",
      " 7   qsec        31 non-null     float64\n",
      " 8   vs          32 non-null     int64  \n",
      " 9   am          32 non-null     object \n",
      " 10  gear        32 non-null     object \n",
      " 11  carb        32 non-null     int64  \n",
      "dtypes: float64(6), int64(3), object(3)\n",
      "memory usage: 3.1+ KB\n",
      "None\n"
     ]
    }
   ],
   "source": [
    "print(data.info()) #데이터 요약정보 구하기"
   ]
  },
  {
   "cell_type": "code",
   "execution_count": 15,
   "id": "653e6db7",
   "metadata": {},
   "outputs": [
    {
     "name": "stdout",
     "output_type": "stream",
     "text": [
      "           mpg       cyl      disp        hp      drat        wt      qsec  \\\n",
      "mpg   1.000000 -0.460227 -0.847551 -0.776168  0.681172 -0.867659  0.013668   \n",
      "cyl  -0.460227  1.000000  0.544876  0.323293 -0.372671  0.533690 -0.012755   \n",
      "disp -0.847551  0.544876  1.000000  0.790949 -0.710214  0.887980  0.181810   \n",
      "hp   -0.776168  0.323293  0.790949  1.000000 -0.448759  0.658748  0.010807   \n",
      "drat  0.681172 -0.372671 -0.710214 -0.448759  1.000000 -0.712441 -0.120283   \n",
      "wt   -0.867659  0.533690  0.887980  0.658748 -0.712441  1.000000  0.093900   \n",
      "qsec  0.013668 -0.012755  0.181810  0.010807 -0.120283  0.093900  1.000000   \n",
      "vs    0.664039 -0.323960 -0.710416 -0.723097  0.440278 -0.554916 -0.112146   \n",
      "carb -0.550925  0.239980  0.394977  0.749812 -0.090790  0.427606 -0.120312   \n",
      "\n",
      "            vs      carb  \n",
      "mpg   0.664039 -0.550925  \n",
      "cyl  -0.323960  0.239980  \n",
      "disp -0.710416  0.394977  \n",
      "hp   -0.723097  0.749812  \n",
      "drat  0.440278 -0.090790  \n",
      "wt   -0.554916  0.427606  \n",
      "qsec -0.112146 -0.120312  \n",
      "vs    1.000000 -0.569607  \n",
      "carb -0.569607  1.000000  \n"
     ]
    }
   ],
   "source": [
    "print(data.corr()) #상관관계 "
   ]
  },
  {
   "cell_type": "code",
   "execution_count": 16,
   "id": "1209a357",
   "metadata": {},
   "outputs": [],
   "source": [
    "X = data.drop(columns='mpg') #독립변수 만들기"
   ]
  },
  {
   "cell_type": "code",
   "execution_count": 17,
   "id": "f6d0256d",
   "metadata": {},
   "outputs": [],
   "source": [
    "Y = data['mpg'] #종속변수 만들기"
   ]
  },
  {
   "cell_type": "code",
   "execution_count": 19,
   "id": "9c20c8c1",
   "metadata": {},
   "outputs": [
    {
     "name": "stdout",
     "output_type": "stream",
     "text": [
      "          Unnamed: 0  cyl   disp   hp  drat     wt   qsec  vs      am gear  \\\n",
      "0          Mazda RX4  6.0  160.0  110  3.90  2.620  16.46   0  manual    4   \n",
      "1      Mazda RX4 Wag  6.0  160.0  110  3.90  2.875  17.02   0  manual    4   \n",
      "2         Datsun 710  4.0  108.0   93  3.85  2.320  18.61   1  manual    4   \n",
      "3     Hornet 4 Drive  6.0  258.0  110  3.08  3.215   0.10   1    auto    3   \n",
      "4  Hornet Sportabout  8.0  360.0  175  3.15  3.440  17.02   0    auto    3   \n",
      "\n",
      "   carb  \n",
      "0     4  \n",
      "1     4  \n",
      "2     1  \n",
      "3     1  \n",
      "4     2  \n"
     ]
    }
   ],
   "source": [
    "print(X.head()) #독립변수의 상위 5행 확인하기"
   ]
  },
  {
   "cell_type": "code",
   "execution_count": 22,
   "id": "5d025f38",
   "metadata": {},
   "outputs": [
    {
     "name": "stdout",
     "output_type": "stream",
     "text": [
      "Index(['Unnamed: 0', 'cyl', 'disp', 'hp', 'drat', 'wt', 'qsec', 'vs', 'am',\n",
      "       'gear', 'carb'],\n",
      "      dtype='object')\n"
     ]
    }
   ],
   "source": [
    "print(X.columns) #독립변수 컬럼명 출력하기"
   ]
  },
  {
   "cell_type": "code",
   "execution_count": 21,
   "id": "ec3e36b7",
   "metadata": {},
   "outputs": [
    {
     "name": "stdout",
     "output_type": "stream",
     "text": [
      "0    21.0\n",
      "1    21.0\n",
      "2    22.8\n",
      "3    21.4\n",
      "4    18.7\n",
      "Name: mpg, dtype: float64\n"
     ]
    }
   ],
   "source": [
    "print(Y.head()) #종속변수 확인하기"
   ]
  },
  {
   "cell_type": "markdown",
   "id": "ef88c8be",
   "metadata": {},
   "source": [
    "데이터 전처리하기"
   ]
  },
  {
   "cell_type": "code",
   "execution_count": 24,
   "id": "7c05568d",
   "metadata": {},
   "outputs": [
    {
     "name": "stdout",
     "output_type": "stream",
     "text": [
      "          Unnamed: 0  cyl   disp   hp  drat     wt   qsec  vs      am gear  \\\n",
      "0          Mazda RX4  6.0  160.0  110  3.90  2.620  16.46   0  manual    4   \n",
      "1      Mazda RX4 Wag  6.0  160.0  110  3.90  2.875  17.02   0  manual    4   \n",
      "2         Datsun 710  4.0  108.0   93  3.85  2.320  18.61   1  manual    4   \n",
      "3     Hornet 4 Drive  6.0  258.0  110  3.08  3.215   0.10   1    auto    3   \n",
      "4  Hornet Sportabout  8.0  360.0  175  3.15  3.440  17.02   0    auto    3   \n",
      "\n",
      "   carb  \n",
      "0     4  \n",
      "1     4  \n",
      "2     1  \n",
      "3     1  \n",
      "4     2  \n"
     ]
    }
   ],
   "source": [
    "print(X.head()) #Unnamed는 종속변수에 영향을 안주므로 삭제하기"
   ]
  },
  {
   "cell_type": "code",
   "execution_count": 25,
   "id": "8dd98768",
   "metadata": {},
   "outputs": [],
   "source": [
    "X=X.iloc[:,1:] #X변수의 전체행과 1번 열-맨끝 열까지 추출후 다시 X변수에 저장하기"
   ]
  },
  {
   "cell_type": "code",
   "execution_count": 27,
   "id": "b5e7c225",
   "metadata": {},
   "outputs": [
    {
     "name": "stdout",
     "output_type": "stream",
     "text": [
      "   cyl   disp   hp  drat     wt   qsec  vs      am gear  carb\n",
      "0  6.0  160.0  110  3.90  2.620  16.46   0  manual    4     4\n",
      "1  6.0  160.0  110  3.90  2.875  17.02   0  manual    4     4\n",
      "2  4.0  108.0   93  3.85  2.320  18.61   1  manual    4     1\n",
      "3  6.0  258.0  110  3.08  3.215   0.10   1    auto    3     1\n",
      "4  8.0  360.0  175  3.15  3.440  17.02   0    auto    3     2\n"
     ]
    }
   ],
   "source": [
    "print(X.head()) #불필요한 열 삭제 확인"
   ]
  },
  {
   "cell_type": "raw",
   "id": "ca0ee675",
   "metadata": {},
   "source": [
    "결측치 처리하기"
   ]
  },
  {
   "cell_type": "code",
   "execution_count": 28,
   "id": "d40414ac",
   "metadata": {},
   "outputs": [
    {
     "data": {
      "text/html": [
       "<div>\n",
       "<style scoped>\n",
       "    .dataframe tbody tr th:only-of-type {\n",
       "        vertical-align: middle;\n",
       "    }\n",
       "\n",
       "    .dataframe tbody tr th {\n",
       "        vertical-align: top;\n",
       "    }\n",
       "\n",
       "    .dataframe thead th {\n",
       "        text-align: right;\n",
       "    }\n",
       "</style>\n",
       "<table border=\"1\" class=\"dataframe\">\n",
       "  <thead>\n",
       "    <tr style=\"text-align: right;\">\n",
       "      <th></th>\n",
       "      <th>cyl</th>\n",
       "      <th>disp</th>\n",
       "      <th>hp</th>\n",
       "      <th>drat</th>\n",
       "      <th>wt</th>\n",
       "      <th>qsec</th>\n",
       "      <th>vs</th>\n",
       "      <th>am</th>\n",
       "      <th>gear</th>\n",
       "      <th>carb</th>\n",
       "    </tr>\n",
       "  </thead>\n",
       "  <tbody>\n",
       "    <tr>\n",
       "      <th>0</th>\n",
       "      <td>False</td>\n",
       "      <td>False</td>\n",
       "      <td>False</td>\n",
       "      <td>False</td>\n",
       "      <td>False</td>\n",
       "      <td>False</td>\n",
       "      <td>False</td>\n",
       "      <td>False</td>\n",
       "      <td>False</td>\n",
       "      <td>False</td>\n",
       "    </tr>\n",
       "    <tr>\n",
       "      <th>1</th>\n",
       "      <td>False</td>\n",
       "      <td>False</td>\n",
       "      <td>False</td>\n",
       "      <td>False</td>\n",
       "      <td>False</td>\n",
       "      <td>False</td>\n",
       "      <td>False</td>\n",
       "      <td>False</td>\n",
       "      <td>False</td>\n",
       "      <td>False</td>\n",
       "    </tr>\n",
       "    <tr>\n",
       "      <th>2</th>\n",
       "      <td>False</td>\n",
       "      <td>False</td>\n",
       "      <td>False</td>\n",
       "      <td>False</td>\n",
       "      <td>False</td>\n",
       "      <td>False</td>\n",
       "      <td>False</td>\n",
       "      <td>False</td>\n",
       "      <td>False</td>\n",
       "      <td>False</td>\n",
       "    </tr>\n",
       "  </tbody>\n",
       "</table>\n",
       "</div>"
      ],
      "text/plain": [
       "     cyl   disp     hp   drat     wt   qsec     vs     am   gear   carb\n",
       "0  False  False  False  False  False  False  False  False  False  False\n",
       "1  False  False  False  False  False  False  False  False  False  False\n",
       "2  False  False  False  False  False  False  False  False  False  False"
      ]
     },
     "execution_count": 28,
     "metadata": {},
     "output_type": "execute_result"
    }
   ],
   "source": [
    "X.isnull().head(3) #X변수의 결측치 여부에 대한 결과를 상위 3개만 확인하기"
   ]
  },
  {
   "cell_type": "code",
   "execution_count": 29,
   "id": "f062b8cb",
   "metadata": {},
   "outputs": [
    {
     "name": "stdout",
     "output_type": "stream",
     "text": [
      "cyl     2\n",
      "disp    0\n",
      "hp      0\n",
      "drat    0\n",
      "wt      0\n",
      "qsec    1\n",
      "vs      0\n",
      "am      0\n",
      "gear    0\n",
      "carb    0\n",
      "dtype: int64\n"
     ]
    }
   ],
   "source": [
    "print(X.isnull().sum()) #결측치 개수세기"
   ]
  },
  {
   "cell_type": "code",
   "execution_count": 30,
   "id": "4890773f",
   "metadata": {},
   "outputs": [],
   "source": [
    "X_cyl_mean = X['cyl'].mean() #cyl열의 평균값을 X_cyl_mean 변수에 저장하기"
   ]
  },
  {
   "cell_type": "code",
   "execution_count": 31,
   "id": "266b7006",
   "metadata": {},
   "outputs": [
    {
     "name": "stdout",
     "output_type": "stream",
     "text": [
      "7.6\n"
     ]
    }
   ],
   "source": [
    "print(X_cyl_mean)"
   ]
  },
  {
   "cell_type": "code",
   "execution_count": 32,
   "id": "b5a296dc",
   "metadata": {},
   "outputs": [],
   "source": [
    "X['cyl']=X['cyl'].fillna(X_cyl_mean) #cyl열의 결측치를 X_cyl_mean 값으로 채운 후 다시 cyl열에 저장하기"
   ]
  },
  {
   "cell_type": "code",
   "execution_count": 33,
   "id": "d643b931",
   "metadata": {},
   "outputs": [
    {
     "name": "stdout",
     "output_type": "stream",
     "text": [
      "cyl     0\n",
      "disp    0\n",
      "hp      0\n",
      "drat    0\n",
      "wt      0\n",
      "qsec    1\n",
      "vs      0\n",
      "am      0\n",
      "gear    0\n",
      "carb    0\n",
      "dtype: int64\n"
     ]
    }
   ],
   "source": [
    "print(X.isnull().sum())"
   ]
  },
  {
   "cell_type": "code",
   "execution_count": 34,
   "id": "c8c5c27d",
   "metadata": {},
   "outputs": [],
   "source": [
    "X_qsec_median =X['qsec'].median()"
   ]
  },
  {
   "cell_type": "code",
   "execution_count": 35,
   "id": "45450a78",
   "metadata": {},
   "outputs": [
    {
     "name": "stdout",
     "output_type": "stream",
     "text": [
      "17.6\n"
     ]
    }
   ],
   "source": [
    "print(X_qsec_median)"
   ]
  },
  {
   "cell_type": "code",
   "execution_count": 36,
   "id": "2e96b272",
   "metadata": {},
   "outputs": [],
   "source": [
    "X['qsec']=X['qsec'].fillna(X_qsec_median)"
   ]
  },
  {
   "cell_type": "code",
   "execution_count": 38,
   "id": "28ff4d6c",
   "metadata": {},
   "outputs": [
    {
     "name": "stdout",
     "output_type": "stream",
     "text": [
      "0\n"
     ]
    }
   ],
   "source": [
    "print(X['qsec'].isnull().sum())"
   ]
  },
  {
   "cell_type": "code",
   "execution_count": 39,
   "id": "4dbfa498",
   "metadata": {},
   "outputs": [
    {
     "name": "stdout",
     "output_type": "stream",
     "text": [
      "['4' '3' '*3' '5' '*5']\n"
     ]
    }
   ],
   "source": [
    "print(X['gear'].unique()) #gear의 열 값 확인"
   ]
  },
  {
   "cell_type": "code",
   "execution_count": 40,
   "id": "4bc99eb0",
   "metadata": {},
   "outputs": [
    {
     "name": "stdout",
     "output_type": "stream",
     "text": [
      "0     4\n",
      "1     4\n",
      "2     4\n",
      "3     3\n",
      "4     3\n",
      "5     3\n",
      "6     3\n",
      "7     4\n",
      "8     4\n",
      "9     4\n",
      "10    4\n",
      "11    3\n",
      "12    3\n",
      "13    3\n",
      "14    3\n",
      "15    3\n",
      "16    3\n",
      "17    4\n",
      "18    4\n",
      "19    4\n",
      "20    3\n",
      "21    3\n",
      "22    3\n",
      "23    3\n",
      "24    3\n",
      "25    4\n",
      "26    5\n",
      "27    5\n",
      "28    5\n",
      "29    5\n",
      "30    5\n",
      "31    4\n",
      "Name: gear, dtype: object\n"
     ]
    }
   ],
   "source": [
    "print(X['gear'].replace('*3','3').replace('*5','5')) #gear의 열의 *3은 3으로 *5는 5로 바꾼 경우의 값 확인"
   ]
  },
  {
   "cell_type": "code",
   "execution_count": 42,
   "id": "5efb9080",
   "metadata": {},
   "outputs": [],
   "source": [
    "X['gear']=X['gear'].replace('*3','3').replace('*5','5') #바꾼값 다시 gear열에 저장하기"
   ]
  },
  {
   "cell_type": "code",
   "execution_count": 43,
   "id": "47fb729f",
   "metadata": {},
   "outputs": [
    {
     "name": "stdout",
     "output_type": "stream",
     "text": [
      "['4' '3' '5']\n"
     ]
    }
   ],
   "source": [
    "print(X['gear'].unique()) #중복되지 않은 값 출력"
   ]
  },
  {
   "cell_type": "markdown",
   "id": "e8bef820",
   "metadata": {},
   "source": [
    "이상값 처리하기"
   ]
  },
  {
   "cell_type": "code",
   "execution_count": 63,
   "id": "4c4093a7",
   "metadata": {},
   "outputs": [],
   "source": [
    "X_describe = X.describe() #기초통계량을 구한 후 X_describe 변수에 저장"
   ]
  },
  {
   "cell_type": "code",
   "execution_count": 64,
   "id": "16dfeeba",
   "metadata": {},
   "outputs": [
    {
     "name": "stdout",
     "output_type": "stream",
     "text": [
      "             cyl        disp          hp       drat         wt        qsec  \\\n",
      "count  32.000000   32.000000   32.000000  32.000000  32.000000   32.000000   \n",
      "mean    7.600000  230.721875  146.687500   3.596563   3.217250   19.795938   \n",
      "std     7.925459  123.938694   68.562868   0.534679   0.978457   15.066831   \n",
      "min     4.000000   71.100000   52.000000   2.760000   1.513000    0.100000   \n",
      "25%     4.000000  120.825000   96.500000   3.080000   2.581250   16.827500   \n",
      "50%     6.000000  196.300000  123.000000   3.695000   3.325000   17.600000   \n",
      "75%     8.000000  326.000000  180.000000   3.920000   3.610000   18.682500   \n",
      "max    50.000000  472.000000  335.000000   4.930000   5.424000  100.000000   \n",
      "\n",
      "              vs     carb  \n",
      "count  32.000000  32.0000  \n",
      "mean    0.437500   2.8125  \n",
      "std     0.504016   1.6152  \n",
      "min     0.000000   1.0000  \n",
      "25%     0.000000   2.0000  \n",
      "50%     0.000000   2.0000  \n",
      "75%     1.000000   4.0000  \n",
      "max     1.000000   8.0000  \n"
     ]
    }
   ],
   "source": [
    "print(X_describe)"
   ]
  },
  {
   "cell_type": "code",
   "execution_count": 65,
   "id": "578c4a6c",
   "metadata": {},
   "outputs": [
    {
     "name": "stdout",
     "output_type": "stream",
     "text": [
      "cyl       8.0000\n",
      "disp    326.0000\n",
      "hp      180.0000\n",
      "drat      3.9200\n",
      "wt        3.6100\n",
      "qsec     18.6825\n",
      "vs        1.0000\n",
      "carb      4.0000\n",
      "Name: 75%, dtype: float64 cyl       4.00000\n",
      "disp    120.82500\n",
      "hp       96.50000\n",
      "drat      3.08000\n",
      "wt        2.58125\n",
      "qsec     16.82750\n",
      "vs        0.00000\n",
      "carb      2.00000\n",
      "Name: 25%, dtype: float64\n"
     ]
    }
   ],
   "source": [
    "print(X_describe.loc['75%'],X_describe.loc['25%']) #75%행과 25%행 추출"
   ]
  },
  {
   "cell_type": "code",
   "execution_count": 66,
   "id": "108fe7aa",
   "metadata": {},
   "outputs": [],
   "source": [
    "X_iqr = X_describe.loc['75%']-X_describe.loc['25%'] #IQR 계산한 후 X_iqr 변수에 저장하기"
   ]
  },
  {
   "cell_type": "code",
   "execution_count": 67,
   "id": "0c01b8a4",
   "metadata": {},
   "outputs": [
    {
     "name": "stdout",
     "output_type": "stream",
     "text": [
      "cyl       4.00000\n",
      "disp    205.17500\n",
      "hp       83.50000\n",
      "drat      0.84000\n",
      "wt        1.02875\n",
      "qsec      1.85500\n",
      "vs        1.00000\n",
      "carb      2.00000\n",
      "dtype: float64\n"
     ]
    }
   ],
   "source": [
    "print(X_iqr) #IQR값 확인하기"
   ]
  },
  {
   "cell_type": "markdown",
   "id": "69e95d34",
   "metadata": {},
   "source": [
    "3사분위수 +1.5*IQR을 초과하는 이상값 구하기 "
   ]
  },
  {
   "cell_type": "code",
   "execution_count": 68,
   "id": "03e88a03",
   "metadata": {},
   "outputs": [
    {
     "name": "stdout",
     "output_type": "stream",
     "text": [
      "cyl      14.000000\n",
      "disp    633.762500\n",
      "hp      305.250000\n",
      "drat      5.180000\n",
      "wt        5.153125\n",
      "qsec     21.465000\n",
      "vs        2.500000\n",
      "carb      7.000000\n",
      "dtype: float64\n"
     ]
    }
   ],
   "source": [
    "print(X_describe.loc['75%']+(1.5*X_iqr)) #최대 경계값"
   ]
  },
  {
   "cell_type": "code",
   "execution_count": 69,
   "id": "d7a23d63",
   "metadata": {},
   "outputs": [
    {
     "name": "stdout",
     "output_type": "stream",
     "text": [
      "cyl      50.000\n",
      "disp    472.000\n",
      "hp      335.000\n",
      "drat      4.930\n",
      "wt        5.424\n",
      "qsec    100.000\n",
      "vs        1.000\n",
      "carb      8.000\n",
      "Name: max, dtype: float64\n"
     ]
    }
   ],
   "source": [
    "print(X_describe.loc['max']) #최대값이 최대 경계값보다 클 경우 이상값 존재 (hp, wt, qsec, carb 열 이상값 존재)"
   ]
  },
  {
   "cell_type": "code",
   "execution_count": 71,
   "id": "a14d5262",
   "metadata": {},
   "outputs": [
    {
     "name": "stdout",
     "output_type": "stream",
     "text": [
      "     cyl   disp   hp  drat    wt   qsec  vs    am gear  carb\n",
      "14  50.0  472.0  205  2.93  5.25  17.98   0  auto    3     4\n"
     ]
    }
   ],
   "source": [
    "print(X.loc[X['cyl']>14]) #cyl열 값이 14를 초과하는 값 추출하기"
   ]
  },
  {
   "cell_type": "code",
   "execution_count": 74,
   "id": "37bbbec3",
   "metadata": {},
   "outputs": [],
   "source": [
    "X.loc[14,'cyl']=14 #X변수에서 인덱스 14이고 열이 cyl인 값을 14로 변경하기"
   ]
  },
  {
   "cell_type": "code",
   "execution_count": 73,
   "id": "852984b9",
   "metadata": {},
   "outputs": [
    {
     "data": {
      "text/plain": [
       "14.0"
      ]
     },
     "execution_count": 73,
     "metadata": {},
     "output_type": "execute_result"
    }
   ],
   "source": [
    "X.loc[14,'cyl']"
   ]
  },
  {
   "cell_type": "code",
   "execution_count": 77,
   "id": "11403afa",
   "metadata": {},
   "outputs": [
    {
     "name": "stdout",
     "output_type": "stream",
     "text": [
      "    cyl   disp   hp  drat    wt  qsec  vs      am gear  carb\n",
      "30  8.0  301.0  335  3.54  3.57  14.6   0  manual    5     8\n"
     ]
    }
   ],
   "source": [
    "print(X.loc[X['hp']>305.25]) #hp열 값이 305.25를 초과하는 값 추출하기"
   ]
  },
  {
   "cell_type": "code",
   "execution_count": 79,
   "id": "5bdf3d14",
   "metadata": {},
   "outputs": [
    {
     "name": "stdout",
     "output_type": "stream",
     "text": [
      "305.25\n"
     ]
    }
   ],
   "source": [
    "X.loc[30,'hp']=305.25 #X변수에서 인덱스 30이고 열이 hp인 값을 305.25로 변경하기\n",
    "print(X.loc[30,'hp']) #X변수에서 인덱스 30이고 열 hp인 값 확인하기"
   ]
  },
  {
   "cell_type": "markdown",
   "id": "6757b8d4",
   "metadata": {},
   "source": [
    "최소 이상값 처리 25% - (1.5*iqr) 최소경계값 "
   ]
  },
  {
   "cell_type": "code",
   "execution_count": 81,
   "id": "64ab6aad",
   "metadata": {},
   "outputs": [
    {
     "name": "stdout",
     "output_type": "stream",
     "text": [
      "cyl      -2.000000\n",
      "disp   -186.937500\n",
      "hp      -28.750000\n",
      "drat      1.820000\n",
      "wt        1.038125\n",
      "qsec     14.045000\n",
      "vs       -1.500000\n",
      "carb     -1.000000\n",
      "dtype: float64\n"
     ]
    }
   ],
   "source": [
    "print(X_describe.loc['25%']-(X_iqr*1.5)) #1사분위수 - 1.5*IQR 구하기"
   ]
  },
  {
   "cell_type": "code",
   "execution_count": 83,
   "id": "9a0279f4",
   "metadata": {},
   "outputs": [
    {
     "name": "stdout",
     "output_type": "stream",
     "text": [
      "cyl      4.000\n",
      "disp    71.100\n",
      "hp      52.000\n",
      "drat     2.760\n",
      "wt       1.513\n",
      "qsec     0.100\n",
      "vs       0.000\n",
      "carb     1.000\n",
      "Name: min, dtype: float64\n"
     ]
    }
   ],
   "source": [
    "print(X_describe.loc['min']) #최소값확인 최소값이 최소경계값보다 적은게 없으므로 처리할 이상값 없음"
   ]
  },
  {
   "cell_type": "markdown",
   "id": "7f9c1672",
   "metadata": {},
   "source": [
    "평균과 표준편차를 활용해 이상값 처리"
   ]
  },
  {
   "cell_type": "code",
   "execution_count": 94,
   "id": "7233dda8",
   "metadata": {},
   "outputs": [],
   "source": [
    "#outlier 함수 만들기\n",
    "def outlier(data,column):\n",
    "    mean =data[column].mean()\n",
    "    std = data[column].std()\n",
    "    lowest = mean - (std*1.5)\n",
    "    highest = mean + (std*1.5)\n",
    "    print('최소 경계값 : ',lowest, '최대 경계값 :', highest)\n",
    "    outlier_index = data[column][ (data[column] < lowest)\\\n",
    "                                | (data[column] > highest) ].index\n",
    "    return outlier_index"
   ]
  },
  {
   "cell_type": "code",
   "execution_count": 95,
   "id": "bc01c9f5",
   "metadata": {},
   "outputs": [
    {
     "name": "stdout",
     "output_type": "stream",
     "text": [
      "최소 경계값 :  -2.8043094560577657 최대 경계값 : 42.39618445605777\n",
      "Int64Index([24], dtype='int64')\n"
     ]
    }
   ],
   "source": [
    "# X변수와 qsec열을 전달하여 이상값 정보를 출력하기\n",
    "print(outlier(X,'qsec'))"
   ]
  },
  {
   "cell_type": "code",
   "execution_count": 93,
   "id": "54cf5b80",
   "metadata": {},
   "outputs": [
    {
     "name": "stdout",
     "output_type": "stream",
     "text": [
      "100.0\n"
     ]
    }
   ],
   "source": [
    "print(X.loc[24,'qsec']) #인덱스 24, 열이 qsec인 값 확인"
   ]
  },
  {
   "cell_type": "code",
   "execution_count": 98,
   "id": "e6e0d408",
   "metadata": {},
   "outputs": [],
   "source": [
    "X.loc[24,'qsec']=42.4 #이상값 100을 최대경계값으로 변경하기"
   ]
  },
  {
   "cell_type": "code",
   "execution_count": 99,
   "id": "0884b13d",
   "metadata": {},
   "outputs": [
    {
     "name": "stdout",
     "output_type": "stream",
     "text": [
      "42.4\n"
     ]
    }
   ],
   "source": [
    "print(X.loc[24,'qsec'])"
   ]
  },
  {
   "cell_type": "code",
   "execution_count": 100,
   "id": "c8bb4fbb",
   "metadata": {},
   "outputs": [
    {
     "name": "stdout",
     "output_type": "stream",
     "text": [
      "최소 경계값 :  0.3897000335522218 최대 경계값 : 5.235299966447778\n",
      "Int64Index([29, 30], dtype='int64')\n"
     ]
    }
   ],
   "source": [
    "print(outlier(X,'carb')) #X변수와 carb열을 전달하여 이상값 정보를 추출하기"
   ]
  },
  {
   "cell_type": "code",
   "execution_count": 101,
   "id": "19f4c4ca",
   "metadata": {},
   "outputs": [
    {
     "name": "stdout",
     "output_type": "stream",
     "text": [
      "29    6\n",
      "30    8\n",
      "Name: carb, dtype: int64\n"
     ]
    }
   ],
   "source": [
    "print(X.loc[[29,30],'carb']) #최대경계값 5.235보다 큰 6,8"
   ]
  },
  {
   "cell_type": "code",
   "execution_count": 102,
   "id": "fef6a117",
   "metadata": {},
   "outputs": [],
   "source": [
    "X.loc[29,'carb'] =5.235 #최대경계값으로 변경하기\n",
    "X.loc[30,'carb']=5.235"
   ]
  },
  {
   "cell_type": "code",
   "execution_count": 104,
   "id": "2f1296cb",
   "metadata": {},
   "outputs": [
    {
     "name": "stdout",
     "output_type": "stream",
     "text": [
      "29    5.235\n",
      "30    5.235\n",
      "Name: carb, dtype: float64\n"
     ]
    }
   ],
   "source": [
    "print(X.loc[[29,30],'carb'])"
   ]
  },
  {
   "cell_type": "markdown",
   "id": "e42dd379",
   "metadata": {},
   "source": [
    "데이터를 동일한 범위로 맞추기 데이터 스케일링"
   ]
  },
  {
   "cell_type": "markdown",
   "id": "d0ea1738",
   "metadata": {},
   "source": [
    "표준 크기변환 StandardScaler 평균이 0 표준편차가 1로 변환"
   ]
  },
  {
   "cell_type": "code",
   "execution_count": 105,
   "id": "c73bcc93",
   "metadata": {},
   "outputs": [],
   "source": [
    "from sklearn.preprocessing import StandardScaler"
   ]
  },
  {
   "cell_type": "code",
   "execution_count": 106,
   "id": "ead5aea2",
   "metadata": {},
   "outputs": [],
   "source": [
    "temp = X[['qsec']] #X변수에서 qsec 열만 추출한 후 temp 변수에 저장하기"
   ]
  },
  {
   "cell_type": "code",
   "execution_count": 107,
   "id": "978305fa",
   "metadata": {},
   "outputs": [],
   "source": [
    "scaler = StandardScaler() #StandardScaler 함수 호출하여 표준 크기변환 기능을 같는 Scaler 객체 만들기"
   ]
  },
  {
   "cell_type": "code",
   "execution_count": 108,
   "id": "ef313490",
   "metadata": {},
   "outputs": [
    {
     "name": "stdout",
     "output_type": "stream",
     "text": [
      "[[-2.73141413e-01]\n",
      " [-1.73554554e-01]\n",
      " [ 1.09200992e-01]\n",
      " [-3.18250037e+00]\n",
      " [-1.73554554e-01]\n",
      " [ 3.95513212e-01]\n",
      " [-3.83398293e-01]\n",
      " [ 3.56389804e-01]\n",
      " [ 8.72107467e-01]\n",
      " [ 5.40725524e-02]\n",
      " [-7.04110215e-02]\n",
      " [-1.05977757e-01]\n",
      " [-7.04110215e-02]\n",
      " [ 7.22449313e-04]\n",
      " [-2.83422423e-03]\n",
      " [-3.12876126e-02]\n",
      " [-1.02421083e-01]\n",
      " [ 2.62137955e-01]\n",
      " [ 9.31959614e-02]\n",
      " [ 3.38606436e-01]\n",
      " [ 3.58168140e-01]\n",
      " [-2.00229606e-01]\n",
      " [-1.23761125e-01]\n",
      " [-4.59866774e-01]\n",
      " [ 4.33986417e+00]\n",
      " [ 1.60772759e-01]\n",
      " [-2.30461331e-01]\n",
      " [-1.94894596e-01]\n",
      " [-6.21695421e-01]\n",
      " [-4.43861743e-01]\n",
      " [-6.03912053e-01]\n",
      " [ 1.07422656e-01]]\n"
     ]
    }
   ],
   "source": [
    "print(scaler.fit_transform(temp)) #scaler에게 fit_transform 명령으로 temp 변수의 크기변환 요청"
   ]
  },
  {
   "cell_type": "code",
   "execution_count": 109,
   "id": "1bbff1fe",
   "metadata": {},
   "outputs": [],
   "source": [
    "qsec_s_scaler = pd.DataFrame(scaler.fit_transform(temp)) # 표준 크기변환을 수행한 결과를 qsec_s_scaler 변수에 저장"
   ]
  },
  {
   "cell_type": "code",
   "execution_count": 111,
   "id": "717c12c7",
   "metadata": {},
   "outputs": [
    {
     "name": "stdout",
     "output_type": "stream",
     "text": [
      "                  0\n",
      "count  3.200000e+01\n",
      "mean  -6.461845e-16\n",
      "std    1.016001e+00\n",
      "min   -3.182500e+00\n",
      "25%   -2.077875e-01\n",
      "50%   -7.041102e-02\n",
      "75%    1.220939e-01\n",
      "max    4.339864e+00\n"
     ]
    }
   ],
   "source": [
    "print(qsec_s_scaler.describe()) #qesc_s_scaler 변수의 기초 통계량 확인하기 평균은 0에 근사 표준편차는 1에 근사한 정규분포로 변화"
   ]
  },
  {
   "cell_type": "markdown",
   "id": "4461cd92",
   "metadata": {},
   "source": [
    "최소- 최대 크기변환 MinMaxScaler\n",
    "최소값이 0 최댓값이 1로 변환"
   ]
  },
  {
   "cell_type": "code",
   "execution_count": 112,
   "id": "e5f3ec91",
   "metadata": {},
   "outputs": [],
   "source": [
    "from sklearn.preprocessing import MinMaxScaler"
   ]
  },
  {
   "cell_type": "code",
   "execution_count": 113,
   "id": "12ec2ec5",
   "metadata": {},
   "outputs": [],
   "source": [
    "temp = X[['qsec']]"
   ]
  },
  {
   "cell_type": "code",
   "execution_count": 114,
   "id": "754bc35e",
   "metadata": {},
   "outputs": [],
   "source": [
    "scaler = MinMaxScaler() #MinMaxScaler 함수 호출하여 최소-최대 크기변환 기능을 갖는 scaler 객체 만들기"
   ]
  },
  {
   "cell_type": "code",
   "execution_count": 115,
   "id": "2951008f",
   "metadata": {},
   "outputs": [],
   "source": [
    "#최소최대크기변환 기능이 있는 scaler에게 temp변수의 크기변환을 요청하고\n",
    "#변환결과는 qsec_m_scaler 변수에 저장하기\n",
    "qsec_m_scaler = pd.DataFrame(scaler.fit_transform(temp))"
   ]
  },
  {
   "cell_type": "code",
   "execution_count": 116,
   "id": "1be25028",
   "metadata": {},
   "outputs": [
    {
     "name": "stdout",
     "output_type": "stream",
     "text": [
      "           0\n",
      "0   0.386761\n",
      "1   0.400000\n",
      "2   0.437589\n",
      "3   0.000000\n",
      "4   0.400000\n",
      "5   0.475650\n",
      "6   0.372104\n",
      "7   0.470449\n",
      "8   0.539007\n",
      "9   0.430260\n",
      "10  0.413712\n",
      "11  0.408983\n",
      "12  0.413712\n",
      "13  0.423168\n",
      "14  0.422695\n",
      "15  0.418913\n",
      "16  0.409456\n",
      "17  0.457920\n",
      "18  0.435461\n",
      "19  0.468085\n",
      "20  0.470686\n",
      "21  0.396454\n",
      "22  0.406619\n",
      "23  0.361939\n",
      "24  1.000000\n",
      "25  0.444444\n",
      "26  0.392435\n",
      "27  0.397163\n",
      "28  0.340426\n",
      "29  0.364066\n",
      "30  0.342790\n",
      "31  0.437352\n"
     ]
    }
   ],
   "source": [
    "#최소최대 크기변환 결과인 qsec_m_scaler 변수 확인\n",
    "print(qsec_m_scaler)"
   ]
  },
  {
   "cell_type": "code",
   "execution_count": 117,
   "id": "71225e3c",
   "metadata": {},
   "outputs": [
    {
     "name": "stdout",
     "output_type": "stream",
     "text": [
      "               0\n",
      "count  32.000000\n",
      "mean    0.423072\n",
      "std     0.135064\n",
      "min     0.000000\n",
      "25%     0.395449\n",
      "50%     0.413712\n",
      "75%     0.439303\n",
      "max     1.000000\n"
     ]
    }
   ],
   "source": [
    "print(qsec_m_scaler.describe()) #최소값은 0 최대값은 1로 변환된거 확인"
   ]
  },
  {
   "cell_type": "markdown",
   "id": "d5e0073e",
   "metadata": {},
   "source": [
    "로버스트 크기변환 RobustScaler\n",
    "중앙값이 0 IQR이 1인 분포로 변환"
   ]
  },
  {
   "cell_type": "code",
   "execution_count": 123,
   "id": "c09ba9e2",
   "metadata": {},
   "outputs": [],
   "source": [
    "from sklearn.preprocessing import RobustScaler"
   ]
  },
  {
   "cell_type": "code",
   "execution_count": 124,
   "id": "fd92678a",
   "metadata": {},
   "outputs": [],
   "source": [
    "temp = X[['qsec']]"
   ]
  },
  {
   "cell_type": "code",
   "execution_count": 128,
   "id": "4cee87df",
   "metadata": {},
   "outputs": [],
   "source": [
    "scaler= RobustScaler()"
   ]
  },
  {
   "cell_type": "code",
   "execution_count": 129,
   "id": "d60214f5",
   "metadata": {},
   "outputs": [],
   "source": [
    "#로버스트 크기변환 기능이 있는 scaler에게 temp 변수의 크기변환을 요청하고\n",
    "#변환 결과는 qsec_r_scaler 변수에 저장하기\n",
    "qesc_r_scaler = pd.DataFrame(scaler.fit_transform(temp))"
   ]
  },
  {
   "cell_type": "code",
   "execution_count": 130,
   "id": "ebe978be",
   "metadata": {},
   "outputs": [
    {
     "name": "stdout",
     "output_type": "stream",
     "text": [
      "            0\n",
      "0   -0.614555\n",
      "1   -0.312668\n",
      "2    0.544474\n",
      "3   -9.433962\n",
      "4   -0.312668\n",
      "5    1.412399\n",
      "6   -0.948787\n",
      "7    1.293801\n",
      "8    2.857143\n",
      "9    0.377358\n",
      "10   0.000000\n",
      "11  -0.107817\n",
      "12   0.000000\n",
      "13   0.215633\n",
      "14   0.204852\n",
      "15   0.118598\n",
      "16  -0.097035\n",
      "17   1.008086\n",
      "18   0.495957\n",
      "19   1.239892\n",
      "20   1.299191\n",
      "21  -0.393531\n",
      "22  -0.161725\n",
      "23  -1.180593\n",
      "24  13.369272\n",
      "25   0.700809\n",
      "26  -0.485175\n",
      "27  -0.377358\n",
      "28  -1.671159\n",
      "29  -1.132075\n",
      "30  -1.617251\n",
      "31   0.539084\n"
     ]
    }
   ],
   "source": [
    "#로버스트 크기변환 결과인 qsec_r_scaler 변수 확인하기\n",
    "print(qesc_r_scaler)"
   ]
  },
  {
   "cell_type": "code",
   "execution_count": 131,
   "id": "75c83afb",
   "metadata": {},
   "outputs": [
    {
     "name": "stdout",
     "output_type": "stream",
     "text": [
      "               0\n",
      "count  32.000000\n",
      "mean    0.213443\n",
      "std     3.079897\n",
      "min    -9.433962\n",
      "25%    -0.416442\n",
      "50%     0.000000\n",
      "75%     0.583558\n",
      "max    13.369272\n"
     ]
    }
   ],
   "source": [
    "print(qesc_r_scaler.describe()) #중위값 50% 0 IQR 1에근사"
   ]
  },
  {
   "cell_type": "markdown",
   "id": "765af509",
   "metadata": {},
   "source": [
    "데이터 타입 변경하기"
   ]
  },
  {
   "cell_type": "code",
   "execution_count": 132,
   "id": "4c4f6f76",
   "metadata": {},
   "outputs": [
    {
     "name": "stdout",
     "output_type": "stream",
     "text": [
      "<class 'pandas.core.frame.DataFrame'>\n",
      "RangeIndex: 32 entries, 0 to 31\n",
      "Data columns (total 10 columns):\n",
      " #   Column  Non-Null Count  Dtype  \n",
      "---  ------  --------------  -----  \n",
      " 0   cyl     32 non-null     float64\n",
      " 1   disp    32 non-null     float64\n",
      " 2   hp      32 non-null     float64\n",
      " 3   drat    32 non-null     float64\n",
      " 4   wt      32 non-null     float64\n",
      " 5   qsec    32 non-null     float64\n",
      " 6   vs      32 non-null     int64  \n",
      " 7   am      32 non-null     object \n",
      " 8   gear    32 non-null     object \n",
      " 9   carb    32 non-null     float64\n",
      "dtypes: float64(7), int64(1), object(2)\n",
      "memory usage: 2.6+ KB\n",
      "None\n"
     ]
    }
   ],
   "source": [
    "print(X.info()) #X변수의 요약정보 확인하기 범주형 : object 연속형 : int64"
   ]
  },
  {
   "cell_type": "code",
   "execution_count": 133,
   "id": "035ae334",
   "metadata": {},
   "outputs": [],
   "source": [
    "#gear(기어 개수)의 열의 데이터 타입을 int64로 변경한 후 다시 gear 열에 저장\n",
    "X['gear'] = X['gear'].astype('int64')"
   ]
  },
  {
   "cell_type": "code",
   "execution_count": 135,
   "id": "3a05d72d",
   "metadata": {},
   "outputs": [
    {
     "data": {
      "text/plain": [
       "dtype('int64')"
      ]
     },
     "execution_count": 135,
     "metadata": {},
     "output_type": "execute_result"
    }
   ],
   "source": [
    "X['gear'].dtype #gear열의 데이터 타입(dtype)확인하기"
   ]
  },
  {
   "cell_type": "markdown",
   "id": "96fd78a4",
   "metadata": {},
   "source": [
    "범주형을 수치형으로 변경하기 : 인코딩"
   ]
  },
  {
   "cell_type": "markdown",
   "id": "6e4dd2c8",
   "metadata": {},
   "source": [
    "원핫 인코딩 One-Hot Encoding 각 범주형 데이터를 개별 열로 만들고 각 열에 해당하는 값에만 1로 설정 나머지 0 <br>\n",
    "결과의 왜곡이 적고 변환된 값의 서열이 없다는 특징 주로 사용"
   ]
  },
  {
   "cell_type": "code",
   "execution_count": 136,
   "id": "11c3bb79",
   "metadata": {},
   "outputs": [
    {
     "name": "stdout",
     "output_type": "stream",
     "text": [
      "   cyl   disp     hp  drat     wt   qsec  vs      am  gear  carb\n",
      "0  6.0  160.0  110.0  3.90  2.620  16.46   0  manual     4   4.0\n",
      "1  6.0  160.0  110.0  3.90  2.875  17.02   0  manual     4   4.0\n",
      "2  4.0  108.0   93.0  3.85  2.320  18.61   1  manual     4   1.0\n",
      "3  6.0  258.0  110.0  3.08  3.215   0.10   1    auto     3   1.0\n",
      "4  8.0  360.0  175.0  3.15  3.440  17.02   0    auto     3   2.0\n"
     ]
    }
   ],
   "source": [
    "print(X.head())"
   ]
  },
  {
   "cell_type": "code",
   "execution_count": 137,
   "id": "589b6a81",
   "metadata": {},
   "outputs": [
    {
     "name": "stdout",
     "output_type": "stream",
     "text": [
      "['manual' 'auto']\n"
     ]
    }
   ],
   "source": [
    "print(X['am'].unique()) #am열에서 중복 제거한 값들을 확인하기"
   ]
  },
  {
   "cell_type": "code",
   "execution_count": 138,
   "id": "081bc27b",
   "metadata": {},
   "outputs": [
    {
     "name": "stdout",
     "output_type": "stream",
     "text": [
      "    auto  manual\n",
      "0      0       1\n",
      "1      0       1\n",
      "2      0       1\n",
      "3      1       0\n",
      "4      1       0\n",
      "5      1       0\n",
      "6      1       0\n",
      "7      1       0\n",
      "8      1       0\n",
      "9      1       0\n",
      "10     1       0\n",
      "11     1       0\n",
      "12     1       0\n",
      "13     1       0\n",
      "14     1       0\n",
      "15     1       0\n",
      "16     1       0\n",
      "17     0       1\n",
      "18     0       1\n",
      "19     0       1\n",
      "20     1       0\n",
      "21     1       0\n",
      "22     1       0\n",
      "23     1       0\n",
      "24     1       0\n",
      "25     0       1\n",
      "26     0       1\n",
      "27     0       1\n",
      "28     0       1\n",
      "29     0       1\n",
      "30     0       1\n",
      "31     0       1\n"
     ]
    }
   ],
   "source": [
    "print(pd.get_dummies(X['am'])) #X변수의 am열에 대해서 원핫 인코딩 수행하기 변속기 유형(1)"
   ]
  },
  {
   "cell_type": "code",
   "execution_count": 139,
   "id": "d46a64d8",
   "metadata": {},
   "outputs": [
    {
     "name": "stdout",
     "output_type": "stream",
     "text": [
      "    manual\n",
      "0        1\n",
      "1        1\n",
      "2        1\n",
      "3        0\n",
      "4        0\n",
      "5        0\n",
      "6        0\n",
      "7        0\n",
      "8        0\n",
      "9        0\n",
      "10       0\n",
      "11       0\n",
      "12       0\n",
      "13       0\n",
      "14       0\n",
      "15       0\n",
      "16       0\n",
      "17       1\n",
      "18       1\n",
      "19       1\n",
      "20       0\n",
      "21       0\n",
      "22       0\n",
      "23       0\n",
      "24       0\n",
      "25       1\n",
      "26       1\n",
      "27       1\n",
      "28       1\n",
      "29       1\n",
      "30       1\n",
      "31       1\n"
     ]
    }
   ],
   "source": [
    "print(pd.get_dummies(X['am'],drop_first=True)) #X변수의 am열에 원핫 인코딩 수행 단 생성된 첫 번째 열은 삭제 변속기 유형 원핫인코딩(2)"
   ]
  },
  {
   "cell_type": "code",
   "execution_count": 140,
   "id": "1dfa6130",
   "metadata": {},
   "outputs": [
    {
     "name": "stdout",
     "output_type": "stream",
     "text": [
      "<class 'pandas.core.frame.DataFrame'>\n",
      "RangeIndex: 32 entries, 0 to 31\n",
      "Data columns (total 10 columns):\n",
      " #   Column  Non-Null Count  Dtype  \n",
      "---  ------  --------------  -----  \n",
      " 0   cyl     32 non-null     float64\n",
      " 1   disp    32 non-null     float64\n",
      " 2   hp      32 non-null     float64\n",
      " 3   drat    32 non-null     float64\n",
      " 4   wt      32 non-null     float64\n",
      " 5   qsec    32 non-null     float64\n",
      " 6   vs      32 non-null     int64  \n",
      " 7   am      32 non-null     object \n",
      " 8   gear    32 non-null     int64  \n",
      " 9   carb    32 non-null     float64\n",
      "dtypes: float64(7), int64(2), object(1)\n",
      "memory usage: 2.6+ KB\n",
      "None\n"
     ]
    }
   ],
   "source": [
    "#X변수의 데이터 타입 확인\n",
    "print(X.info())"
   ]
  },
  {
   "cell_type": "code",
   "execution_count": 141,
   "id": "4f58da26",
   "metadata": {},
   "outputs": [
    {
     "name": "stdout",
     "output_type": "stream",
     "text": [
      "     cyl   disp      hp  drat     wt   qsec  vs  gear   carb  am_manual\n",
      "0    6.0  160.0  110.00  3.90  2.620  16.46   0     4  4.000          1\n",
      "1    6.0  160.0  110.00  3.90  2.875  17.02   0     4  4.000          1\n",
      "2    4.0  108.0   93.00  3.85  2.320  18.61   1     4  1.000          1\n",
      "3    6.0  258.0  110.00  3.08  3.215   0.10   1     3  1.000          0\n",
      "4    8.0  360.0  175.00  3.15  3.440  17.02   0     3  2.000          0\n",
      "5    6.0  225.0  105.00  2.76  3.460  20.22   1     3  1.000          0\n",
      "6    8.0  360.0  245.00  3.21  3.570  15.84   0     3  4.000          0\n",
      "7    7.6  146.7   62.00  3.69  3.190  20.00   1     4  2.000          0\n",
      "8    4.0  140.8   95.00  3.92  3.150  22.90   1     4  2.000          0\n",
      "9    6.0  167.6  123.00  3.92  3.440  18.30   1     4  4.000          0\n",
      "10   6.0  167.6  123.00  3.92  3.440  17.60   1     4  4.000          0\n",
      "11   8.0  275.8  180.00  3.07  4.070  17.40   0     3  3.000          0\n",
      "12   8.0  275.8  180.00  3.07  3.730  17.60   0     3  3.000          0\n",
      "13   8.0  275.8  180.00  3.07  3.780  18.00   0     3  3.000          0\n",
      "14  14.0  472.0  205.00  2.93  5.250  17.98   0     3  4.000          0\n",
      "15   8.0  460.0  215.00  3.00  5.424  17.82   0     3  4.000          0\n",
      "16   8.0  440.0  230.00  3.23  5.345  17.42   0     3  4.000          0\n",
      "17   4.0   78.7   66.00  4.08  2.200  19.47   1     4  1.000          1\n",
      "18   4.0   75.7   52.00  4.93  1.615  18.52   1     4  2.000          1\n",
      "19   4.0   71.1   65.00  4.22  1.835  19.90   1     4  1.000          1\n",
      "20   4.0  120.1   97.00  3.70  2.465  20.01   1     3  1.000          0\n",
      "21   8.0  318.0  150.00  2.76  3.520  16.87   0     3  2.000          0\n",
      "22   8.0  304.0  150.00  3.15  3.435  17.30   0     3  2.000          0\n",
      "23   8.0  350.0  245.00  3.73  3.840  15.41   0     3  4.000          0\n",
      "24   7.6  400.0  175.00  3.08  3.845  42.40   0     3  2.000          0\n",
      "25   4.0   79.0   66.00  4.08  1.935  18.90   1     4  1.000          1\n",
      "26   4.0  120.3   91.00  4.43  2.140  16.70   0     5  2.000          1\n",
      "27   4.0   95.1  113.00  3.77  1.513  16.90   1     5  2.000          1\n",
      "28   8.0  351.0  264.00  4.22  3.170  14.50   0     5  4.000          1\n",
      "29   6.0  145.0  175.00  3.62  2.770  15.50   0     5  5.235          1\n",
      "30   8.0  301.0  305.25  3.54  3.570  14.60   0     5  5.235          1\n",
      "31   4.0  121.0  109.00  4.11  2.780  18.60   1     4  2.000          1\n"
     ]
    }
   ],
   "source": [
    "#X변수의 전체 열을 대상으로 원핫 인코딩 수행\n",
    "print(pd.get_dummies(X,drop_first=True))"
   ]
  },
  {
   "cell_type": "markdown",
   "id": "0b2246a7",
   "metadata": {},
   "source": [
    "라벨 인코딩 : Label Encoding <br>\n",
    "범주형 변수를 일련번호를 부여하는 방식의 연속형 변수로 변환"
   ]
  },
  {
   "cell_type": "code",
   "execution_count": 142,
   "id": "a25f8286",
   "metadata": {},
   "outputs": [
    {
     "name": "stdout",
     "output_type": "stream",
     "text": [
      "0    manual\n",
      "1    manual\n",
      "2    manual\n",
      "3      auto\n",
      "4      auto\n",
      "Name: am, dtype: object\n"
     ]
    }
   ],
   "source": [
    "print(X['am'].head())"
   ]
  },
  {
   "cell_type": "code",
   "execution_count": 143,
   "id": "1fa860dc",
   "metadata": {},
   "outputs": [],
   "source": [
    "from sklearn.preprocessing import LabelEncoder #sklearn 라이브러리에서 LabelEncoder 함수 가져오기"
   ]
  },
  {
   "cell_type": "code",
   "execution_count": 144,
   "id": "9272d20d",
   "metadata": {},
   "outputs": [],
   "source": [
    "#LabelEncoder 호출을 통해 인코딩 기능을 갖는 encoder 변수를 만들기\n",
    "encoder = LabelEncoder()"
   ]
  },
  {
   "cell_type": "code",
   "execution_count": 146,
   "id": "09cb1455",
   "metadata": {},
   "outputs": [
    {
     "name": "stdout",
     "output_type": "stream",
     "text": [
      "[1 1 1 0 0 0 0 0 0 0 0 0 0 0 0 0 0 1 1 1 0 0 0 0 0 1 1 1 1 1 1 1]\n"
     ]
    }
   ],
   "source": [
    "#encoder을 통해 am열 값에 대해 라벨 인코딩 수행하기\n",
    "print(encoder.fit_transform(X['am'])) #인코더에 'am'값을 넣어서 변환하기 manual은 1 auto는 0으로 바뀜"
   ]
  },
  {
   "cell_type": "markdown",
   "id": "03c54389",
   "metadata": {},
   "source": [
    "3가지 종류의 범주형 변수 라벨 인코딩 하기 "
   ]
  },
  {
   "cell_type": "code",
   "execution_count": 147,
   "id": "39fb1438",
   "metadata": {},
   "outputs": [],
   "source": [
    "# 3가지 과일이 들어 있는 fruit 변수 만들기\n",
    "fruit =['apple','banana','grape']"
   ]
  },
  {
   "cell_type": "code",
   "execution_count": 148,
   "id": "a2424c6e",
   "metadata": {},
   "outputs": [],
   "source": [
    "#LabelEncoder 호출을 통해 라벨 인코딩 기능을 갖는 encoder 변수 만들기\n",
    "encoder= LabelEncoder()"
   ]
  },
  {
   "cell_type": "code",
   "execution_count": 149,
   "id": "4cdb7281",
   "metadata": {},
   "outputs": [],
   "source": [
    "#encoder을 통해 fruit 변수에 대한 라벨 인코딩 수행 후 결과는 fruit_new에 저장\n",
    "fruit_new = encoder.fit_transform(fruit)"
   ]
  },
  {
   "cell_type": "code",
   "execution_count": 150,
   "id": "3a050e88",
   "metadata": {},
   "outputs": [
    {
     "name": "stdout",
     "output_type": "stream",
     "text": [
      "['apple', 'banana', 'grape'] [0 1 2]\n"
     ]
    }
   ],
   "source": [
    "print(fruit,fruit_new) #기존 fruit 변수와 라벨 인코딩한 fruit_new 변수 비교"
   ]
  },
  {
   "cell_type": "markdown",
   "id": "2ddaa196",
   "metadata": {},
   "source": [
    "수동 인코딩 : Replace <br>\n",
    "ex) 합격/불합격, 신청/미신청, 방문/미방문 등의 이진 데이터는 수동으로 인코딩하기 쉬움"
   ]
  },
  {
   "cell_type": "code",
   "execution_count": 151,
   "id": "c09d1327",
   "metadata": {},
   "outputs": [],
   "source": [
    "#am 열에서 manual은 0으로 auto는 1로 변경한 후 새로운 am_new에 저장\n",
    "X['am_new']= X['am'].replace('manual',0).replace('auto',1)"
   ]
  },
  {
   "cell_type": "code",
   "execution_count": 152,
   "id": "ef5883fe",
   "metadata": {},
   "outputs": [
    {
     "name": "stdout",
     "output_type": "stream",
     "text": [
      "   cyl   disp     hp  drat     wt   qsec  vs      am  gear  carb  am_new\n",
      "0  6.0  160.0  110.0  3.90  2.620  16.46   0  manual     4   4.0       0\n",
      "1  6.0  160.0  110.0  3.90  2.875  17.02   0  manual     4   4.0       0\n",
      "2  4.0  108.0   93.0  3.85  2.320  18.61   1  manual     4   1.0       0\n",
      "3  6.0  258.0  110.0  3.08  3.215   0.10   1    auto     3   1.0       1\n",
      "4  8.0  360.0  175.0  3.15  3.440  17.02   0    auto     3   2.0       1\n"
     ]
    }
   ],
   "source": [
    "print(X.head())"
   ]
  },
  {
   "cell_type": "code",
   "execution_count": 154,
   "id": "a5212191",
   "metadata": {},
   "outputs": [],
   "source": [
    "X=X.drop(columns=['am']) #기존 am열은 불필요함으로 삭제한 후 다시 X변수에 저장"
   ]
  },
  {
   "cell_type": "code",
   "execution_count": 155,
   "id": "f1f93879",
   "metadata": {},
   "outputs": [
    {
     "name": "stdout",
     "output_type": "stream",
     "text": [
      "   cyl   disp     hp  drat     wt   qsec  vs  gear  carb  am_new\n",
      "0  6.0  160.0  110.0  3.90  2.620  16.46   0     4   4.0       0\n",
      "1  6.0  160.0  110.0  3.90  2.875  17.02   0     4   4.0       0\n",
      "2  4.0  108.0   93.0  3.85  2.320  18.61   1     4   1.0       0\n",
      "3  6.0  258.0  110.0  3.08  3.215   0.10   1     3   1.0       1\n",
      "4  8.0  360.0  175.0  3.15  3.440  17.02   0     3   2.0       1\n"
     ]
    }
   ],
   "source": [
    "print(X.head())"
   ]
  },
  {
   "cell_type": "markdown",
   "id": "713144a5",
   "metadata": {},
   "source": [
    "파생변수 만들기"
   ]
  },
  {
   "cell_type": "code",
   "execution_count": null,
   "id": "14b9bb9b",
   "metadata": {},
   "outputs": [],
   "source": []
  },
  {
   "cell_type": "code",
   "execution_count": null,
   "id": "e0f111b1",
   "metadata": {},
   "outputs": [],
   "source": []
  },
  {
   "cell_type": "code",
   "execution_count": null,
   "id": "b0dddcc4",
   "metadata": {},
   "outputs": [],
   "source": []
  },
  {
   "cell_type": "code",
   "execution_count": null,
   "id": "4cc2a5f0",
   "metadata": {},
   "outputs": [],
   "source": []
  },
  {
   "cell_type": "code",
   "execution_count": null,
   "id": "330867f4",
   "metadata": {},
   "outputs": [],
   "source": []
  },
  {
   "cell_type": "code",
   "execution_count": null,
   "id": "e321ddaa",
   "metadata": {},
   "outputs": [],
   "source": []
  },
  {
   "cell_type": "code",
   "execution_count": null,
   "id": "2147ed3a",
   "metadata": {},
   "outputs": [],
   "source": []
  },
  {
   "cell_type": "code",
   "execution_count": null,
   "id": "75c8a9f0",
   "metadata": {},
   "outputs": [],
   "source": []
  },
  {
   "cell_type": "code",
   "execution_count": null,
   "id": "aa1690cc",
   "metadata": {},
   "outputs": [],
   "source": []
  },
  {
   "cell_type": "code",
   "execution_count": null,
   "id": "0b097e2e",
   "metadata": {},
   "outputs": [],
   "source": []
  },
  {
   "cell_type": "code",
   "execution_count": null,
   "id": "2fc3a57e",
   "metadata": {},
   "outputs": [],
   "source": []
  },
  {
   "cell_type": "code",
   "execution_count": null,
   "id": "18c18760",
   "metadata": {},
   "outputs": [],
   "source": []
  }
 ],
 "metadata": {
  "kernelspec": {
   "display_name": "Python 3",
   "language": "python",
   "name": "python3"
  },
  "language_info": {
   "codemirror_mode": {
    "name": "ipython",
    "version": 3
   },
   "file_extension": ".py",
   "mimetype": "text/x-python",
   "name": "python",
   "nbconvert_exporter": "python",
   "pygments_lexer": "ipython3",
   "version": "3.8.8"
  }
 },
 "nbformat": 4,
 "nbformat_minor": 5
}
