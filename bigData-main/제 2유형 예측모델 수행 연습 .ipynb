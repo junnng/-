{
 "cells": [
  {
   "cell_type": "markdown",
   "id": "dedb288a",
   "metadata": {},
   "source": [
    "### 예측 모델 수행하기"
   ]
  },
  {
   "cell_type": "markdown",
   "id": "069a69e3",
   "metadata": {},
   "source": [
    "고객 10866건에 대한 학습용 데이터를 이용하여 자전거 대여량 예측 모형을 만든다.<br>\n",
    "생성한 예측 모형으로 평가용 데이터에 해당하는 6493건의 자전거 대여량 예측값을 다음과 같은 형식은 CSV 파일로 생성하시오.<br>\n",
    "제출한 모델의 성능은 R^2 score 평가지표에 따라 채점"
   ]
  },
  {
   "cell_type": "markdown",
   "id": "f2cef42a",
   "metadata": {},
   "source": [
    "### 3.1 데이터 탐색하기 "
   ]
  },
  {
   "cell_type": "markdown",
   "id": "9841a5c7",
   "metadata": {},
   "source": [
    "데이터 가져오기"
   ]
  },
  {
   "cell_type": "code",
   "execution_count": 1,
   "id": "ee1a37ce",
   "metadata": {},
   "outputs": [],
   "source": [
    "import pandas as pd\n",
    "\n",
    "x_train = pd.read_csv('bike_x_train.csv', encoding='CP949')\n",
    "x_test = pd.read_csv('bike_x_test.csv' , encoding = 'CP949')\n",
    "y_train = pd.read_csv('bike_y_train.csv')"
   ]
  },
  {
   "cell_type": "code",
   "execution_count": 2,
   "id": "f72d3d2a",
   "metadata": {},
   "outputs": [
    {
     "name": "stdout",
     "output_type": "stream",
     "text": [
      "          datetime  계절  공휴일  근무일  날씨    온도    체감온도  습도   풍속\n",
      "0  2011-01-01 0:00   1    0    0   1  9.84  14.395  81  0.0\n",
      "1  2011-01-01 1:00   1    0    0   1  9.02  13.635  80  0.0\n",
      "2  2011-01-01 2:00   1    0    0   1  9.02  13.635  80  0.0\n"
     ]
    }
   ],
   "source": [
    "# 독립변수인 x_train, x_test의 상위 3개 행을 확인하기\n",
    "print(x_train.head(3))"
   ]
  },
  {
   "cell_type": "code",
   "execution_count": 3,
   "id": "24a8fc27",
   "metadata": {},
   "outputs": [
    {
     "name": "stdout",
     "output_type": "stream",
     "text": [
      "          datetime  계절  공휴일  근무일  날씨     온도    체감온도  습도       풍속\n",
      "0  2011-01-20 0:00   1    0    1   1  10.66  11.365  56  26.0027\n",
      "1  2011-01-20 1:00   1    0    1   1  10.66  13.635  56   0.0000\n",
      "2  2011-01-20 2:00   1    0    1   1  10.66  13.635  56   0.0000\n"
     ]
    }
   ],
   "source": [
    "print(x_test.head(3))\n",
    "#날짜 유형인 datetime 칼럼과 연속형 변수인 온도,체감온도,습도,풍속 칼럼이 있고 범주형은 계절,공휴일,근무일,날씨가 있음"
   ]
  },
  {
   "cell_type": "code",
   "execution_count": 4,
   "id": "14fa3c0b",
   "metadata": {},
   "outputs": [
    {
     "name": "stdout",
     "output_type": "stream",
     "text": [
      "          datetime  count\n",
      "0  2011-01-01 0:00     16\n",
      "1  2011-01-01 1:00     40\n",
      "2  2011-01-01 2:00     32\n"
     ]
    }
   ],
   "source": [
    "print(y_train.head(3)) # datetime 칼럼과 해당시간에 자전거 대여 수량인 count 칼럼이 있다. "
   ]
  },
  {
   "cell_type": "markdown",
   "id": "2737da4f",
   "metadata": {},
   "source": [
    "행/열 확인하기"
   ]
  },
  {
   "cell_type": "code",
   "execution_count": 5,
   "id": "b06fc245",
   "metadata": {},
   "outputs": [
    {
     "name": "stdout",
     "output_type": "stream",
     "text": [
      "(10886, 9)\n",
      "(6493, 9)\n",
      "(10886, 2)\n"
     ]
    }
   ],
   "source": [
    "# 각 데이터 세트의 행과 열 개수를 확인하기\n",
    "print(x_train.shape)\n",
    "print(x_test.shape)\n",
    "print(y_train.shape)"
   ]
  },
  {
   "cell_type": "markdown",
   "id": "28079c17",
   "metadata": {},
   "source": [
    "요약정보 확인하기"
   ]
  },
  {
   "cell_type": "code",
   "execution_count": 6,
   "id": "a9bdf297",
   "metadata": {},
   "outputs": [
    {
     "name": "stdout",
     "output_type": "stream",
     "text": [
      "<class 'pandas.core.frame.DataFrame'>\n",
      "RangeIndex: 10886 entries, 0 to 10885\n",
      "Data columns (total 9 columns):\n",
      " #   Column    Non-Null Count  Dtype  \n",
      "---  ------    --------------  -----  \n",
      " 0   datetime  10886 non-null  object \n",
      " 1   계절        10886 non-null  int64  \n",
      " 2   공휴일       10886 non-null  int64  \n",
      " 3   근무일       10886 non-null  int64  \n",
      " 4   날씨        10886 non-null  int64  \n",
      " 5   온도        10886 non-null  float64\n",
      " 6   체감온도      10886 non-null  float64\n",
      " 7   습도        10886 non-null  int64  \n",
      " 8   풍속        10886 non-null  float64\n",
      "dtypes: float64(3), int64(5), object(1)\n",
      "memory usage: 765.5+ KB\n",
      "None\n"
     ]
    }
   ],
   "source": [
    "# x_train 세트의 요약정보 확인하기\n",
    "print(x_train.info())"
   ]
  },
  {
   "cell_type": "code",
   "execution_count": 7,
   "id": "15ce79cd",
   "metadata": {
    "scrolled": true
   },
   "outputs": [
    {
     "name": "stdout",
     "output_type": "stream",
     "text": [
      "[1 2 3 4]\n",
      "[0 1]\n",
      "[0 1]\n",
      "[1 2 3 4]\n"
     ]
    }
   ],
   "source": [
    "# 범주형 변수들의 값을 확인하기\n",
    "print(x_train['계절'].unique())\n",
    "print(x_train['공휴일'].unique())\n",
    "print(x_train['근무일'].unique())\n",
    "print(x_train['날씨'].unique())"
   ]
  },
  {
   "cell_type": "markdown",
   "id": "cf409f71",
   "metadata": {},
   "source": [
    "기초 통계량 확인하기"
   ]
  },
  {
   "cell_type": "code",
   "execution_count": 8,
   "id": "d1260d92",
   "metadata": {},
   "outputs": [
    {
     "name": "stdout",
     "output_type": "stream",
     "text": [
      "        count       mean        std   min      25%     50%      75%       max\n",
      "계절    10886.0   2.506614   1.116174  1.00   2.0000   3.000   4.0000    4.0000\n",
      "공휴일   10886.0   0.028569   0.166599  0.00   0.0000   0.000   0.0000    1.0000\n",
      "근무일   10886.0   0.680875   0.466159  0.00   0.0000   1.000   1.0000    1.0000\n",
      "날씨    10886.0   1.418427   0.633839  1.00   1.0000   1.000   2.0000    4.0000\n",
      "온도    10886.0  20.230860   7.791590  0.82  13.9400  20.500  26.2400   41.0000\n",
      "체감온도  10886.0  23.655084   8.474601  0.76  16.6650  24.240  31.0600   45.4550\n",
      "습도    10886.0  61.886460  19.245033  0.00  47.0000  62.000  77.0000  100.0000\n",
      "풍속    10886.0  12.799395   8.164537  0.00   7.0015  12.998  16.9979   56.9969\n"
     ]
    }
   ],
   "source": [
    "# x_train의 기초 통계량을 확인하고, 가독성을 위해 행/열 바꿔서 출력하기\n",
    "print(x_train.describe().T)"
   ]
  },
  {
   "cell_type": "markdown",
   "id": "c8008547",
   "metadata": {},
   "source": [
    "독립변수와 종속변수의 관계 확인하기<br>\n",
    "둘의 관계를 파악하여 자전거 대여량에 영향을 미치는 변수 확인하기"
   ]
  },
  {
   "cell_type": "code",
   "execution_count": 9,
   "id": "70d1ad56",
   "metadata": {},
   "outputs": [],
   "source": [
    "# x_train, y_train을 세로 방향으로 통합한 후 data 변수에 저장하기\n",
    "data =pd.concat([x_train,y_train],axis=1)"
   ]
  },
  {
   "cell_type": "code",
   "execution_count": 10,
   "id": "4634b225",
   "metadata": {},
   "outputs": [
    {
     "name": "stdout",
     "output_type": "stream",
     "text": [
      "계절\n",
      "1    312498\n",
      "2    588282\n",
      "3    640662\n",
      "4    544034\n",
      "Name: count, dtype: int64\n"
     ]
    }
   ],
   "source": [
    "#계절 칼럼에 따른 count(자전거 대여량)합계를 구하기\n",
    "# 1(봄),2(여름),3(가을),4(겨울)\n",
    "print(data.groupby(['계절'])['count'].sum())\n",
    "# 가을이 봄의 2배"
   ]
  },
  {
   "cell_type": "code",
   "execution_count": 11,
   "id": "7a9abd2b",
   "metadata": {},
   "outputs": [
    {
     "name": "stdout",
     "output_type": "stream",
     "text": [
      "공휴일\n",
      "0    2027668\n",
      "1      57808\n",
      "Name: count, dtype: int64\n"
     ]
    }
   ],
   "source": [
    "#공휴일 칼럼에 따른 count 합계 구하기\n",
    "# 0(공휴일아님),1(공휴일)\n",
    "print(data.groupby(['공휴일'])['count'].sum())\n",
    "# 공휴일 아닌 날이 앞도적으로 높다"
   ]
  },
  {
   "cell_type": "code",
   "execution_count": 12,
   "id": "adc5379a",
   "metadata": {},
   "outputs": [
    {
     "name": "stdout",
     "output_type": "stream",
     "text": [
      "근무일\n",
      "0     654872\n",
      "1    1430604\n",
      "Name: count, dtype: int64\n"
     ]
    }
   ],
   "source": [
    "#근무일 칼럼에 따른 count 합계 구하기\n",
    "#0(근무일 아님),1(근무일)\n",
    "print(data.groupby(['근무일'])['count'].sum())\n",
    "#근무일 대여량이 더 높다"
   ]
  },
  {
   "cell_type": "code",
   "execution_count": 13,
   "id": "78e705d9",
   "metadata": {},
   "outputs": [
    {
     "name": "stdout",
     "output_type": "stream",
     "text": [
      "날씨\n",
      "1    1476063\n",
      "2     507160\n",
      "3     102089\n",
      "4        164\n",
      "Name: count, dtype: int64\n"
     ]
    }
   ],
   "source": [
    "#날씨 칼럼에 따른 count 합계 구하기\n",
    "#1(아주 깨끗한 날씨),2(안개와 구름 있는),3(조금의 눈과 비 또는 조금의 천둥),4(아주 많은 비 또는 우박)\n",
    "print(data.groupby(['날씨'])['count'].sum())\n",
    "#날씨가 좋을 수록 대여량이 높다"
   ]
  },
  {
   "cell_type": "code",
   "execution_count": 14,
   "id": "fa018571",
   "metadata": {},
   "outputs": [],
   "source": [
    "# 각 독립변수들이 자전거 대여량에 영향을 미침"
   ]
  },
  {
   "cell_type": "markdown",
   "id": "772d7680",
   "metadata": {},
   "source": [
    "### 3.2 전처리하기 "
   ]
  },
  {
   "cell_type": "markdown",
   "id": "37da69d6",
   "metadata": {},
   "source": [
    "파생변수 만들기<br>\n",
    "datetime 칼럼은 연도 월 요일 시간대로 분리 가능 <br>\n",
    "년, 월, 일, 시간으로 데이터 분리하고 요일 데이터 새로 만들기"
   ]
  },
  {
   "cell_type": "code",
   "execution_count": 15,
   "id": "9b4c3368",
   "metadata": {},
   "outputs": [],
   "source": [
    "# datetime 칼럼의 데이터 타입을 날짜 타입으로 변환하기\n",
    "x_train['datetime']=pd.to_datetime(x_train['datetime'])"
   ]
  },
  {
   "cell_type": "code",
   "execution_count": 16,
   "id": "852dcbae",
   "metadata": {},
   "outputs": [],
   "source": [
    "#x_train의 datetime 칼럼에서 연도 데이터를 추출하여 year 칼럼에 저장하기\n",
    "x_train['datetime']=pd.to_datetime(x_train['datetime'])"
   ]
  },
  {
   "cell_type": "code",
   "execution_count": 17,
   "id": "2e0d2d36",
   "metadata": {},
   "outputs": [
    {
     "name": "stdout",
     "output_type": "stream",
     "text": [
      "[2011 2012]\n"
     ]
    }
   ],
   "source": [
    "#x_train의 year에서 중복 제거 값 확인하기\n",
    "print(x_train['year'].unique())"
   ]
  },
  {
   "cell_type": "code",
   "execution_count": 18,
   "id": "11e8d335",
   "metadata": {},
   "outputs": [
    {
     "name": "stdout",
     "output_type": "stream",
     "text": [
      "[ 1  2  3  4  5  6  7  8  9 10 11 12]\n"
     ]
    }
   ],
   "source": [
    "#x_train의 datetime 칼럼에서 월 데이터를 추출하여 month 칼럼에 저장하기\n",
    "x_train['month']=x_train['datetime'].dt.month\n",
    "#x_train의 month에서 중복 제거 값 확인하기\n",
    "print(x_train['month'].unique())"
   ]
  },
  {
   "cell_type": "code",
   "execution_count": 19,
   "id": "24513730",
   "metadata": {},
   "outputs": [
    {
     "name": "stdout",
     "output_type": "stream",
     "text": [
      "[ 1  2  3  4  5  6  7  8  9 10 11 12 13 14 15 16 17 18 19]\n"
     ]
    }
   ],
   "source": [
    "#x_train의 datetime 칼럼에서 일 데이터를 추출하여 day 칼럼에 저장하기\n",
    "x_train['day']=x_train['datetime'].dt.day\n",
    "#x_train의 day에서 중복 제거 값 확인하기\n",
    "print(x_train['day'].unique())"
   ]
  },
  {
   "cell_type": "code",
   "execution_count": 20,
   "id": "d35104c8",
   "metadata": {},
   "outputs": [
    {
     "name": "stdout",
     "output_type": "stream",
     "text": [
      "[ 0  1  2  3  4  5  6  7  8  9 10 11 12 13 14 15 16 17 18 19 20 21 22 23]\n"
     ]
    }
   ],
   "source": [
    "#x_train의 datetime 칼럼에서 시간 데이터를 추출하여 hour 칼럼에 저장하기\n",
    "x_train['hour']=x_train['datetime'].dt.hour\n",
    "#x_train의 hour에서 중복 제거 값 확인하기\n",
    "print(x_train['hour'].unique())"
   ]
  },
  {
   "cell_type": "code",
   "execution_count": 21,
   "id": "957e4900",
   "metadata": {},
   "outputs": [
    {
     "name": "stdout",
     "output_type": "stream",
     "text": [
      "[5 6 0 1 2 3 4]\n"
     ]
    }
   ],
   "source": [
    "#x_train의 datetime 칼럼에서 요일 데이터를 추출하여 dayofweek 칼럼에 저장하기\n",
    "x_train['dayofweek']=x_train['datetime'].dt.dayofweek\n",
    "#x_train의 dayofweek에서 중복 제거 값 확인하기\n",
    "#0(월),1(화),2(수),3(목),4(금),5(토),6(일)\n",
    "print(x_train['dayofweek'].unique())"
   ]
  },
  {
   "cell_type": "markdown",
   "id": "08e7c1e5",
   "metadata": {},
   "source": [
    "x_trian의 연도 월 일 시간 요일에 대한 파생변수를 생성한 후 y_train 세트를 세로방향으로 통합하여 추가 분석 진행"
   ]
  },
  {
   "cell_type": "code",
   "execution_count": 22,
   "id": "4e6eb2c1",
   "metadata": {},
   "outputs": [],
   "source": [
    "# 파생변수가 포함된 독립변수와 종속변수를 통합한 data2 만들기\n",
    "data2=pd.concat([x_train,y_train],axis=1)"
   ]
  },
  {
   "cell_type": "markdown",
   "id": "b3f7902d",
   "metadata": {},
   "source": [
    "새로 만든 'year', 'month','day','hour','dayofweek' 칼럼별로 자전거 대여량의 합계를 계산한 후 <br>\n",
    "각 독립변수에 따른 count 값의 추세를 확인"
   ]
  },
  {
   "cell_type": "code",
   "execution_count": 23,
   "id": "f21cfaa4",
   "metadata": {},
   "outputs": [
    {
     "name": "stdout",
     "output_type": "stream",
     "text": [
      "year\n",
      "2011     781979\n",
      "2012    1303497\n",
      "Name: count, dtype: int64\n"
     ]
    }
   ],
   "source": [
    "# year 칼럼에 따른 count 합계 구하기\n",
    "print(data2.groupby(['year'])['count'].sum())\n",
    "#2012년이 2011년보다 두배 정도 많음"
   ]
  },
  {
   "cell_type": "code",
   "execution_count": 24,
   "id": "793de3da",
   "metadata": {},
   "outputs": [
    {
     "name": "stdout",
     "output_type": "stream",
     "text": [
      "month\n",
      "1      79884\n",
      "2      99113\n",
      "3     133501\n",
      "4     167402\n",
      "5     200147\n",
      "6     220733\n",
      "7     214617\n",
      "8     213516\n",
      "9     212529\n",
      "10    207434\n",
      "11    176440\n",
      "12    160160\n",
      "Name: count, dtype: int64\n"
     ]
    }
   ],
   "source": [
    "# month 칼럼에 따른 count 합계 구하기\n",
    "print(data2.groupby(['month'])['count'].sum())\n",
    "#1,2월은 적은 편이고 3-12월은 상대적으로 대여량이 증가함 그러나 특정한 대여량이 월등하지 않고 비슷하므로 분석 대상에서 제외\n",
    "x_train=x_train.drop(columns=['month'])"
   ]
  },
  {
   "cell_type": "code",
   "execution_count": 25,
   "id": "8084f435",
   "metadata": {},
   "outputs": [
    {
     "name": "stdout",
     "output_type": "stream",
     "text": [
      "day\n",
      "1     103692\n",
      "2     105381\n",
      "3     111561\n",
      "4     112335\n",
      "5     109115\n",
      "6     108600\n",
      "7     105486\n",
      "8     102770\n",
      "9     108041\n",
      "10    111645\n",
      "11    111146\n",
      "12    109257\n",
      "13    111448\n",
      "14    112406\n",
      "15    115677\n",
      "16    109837\n",
      "17    118255\n",
      "18    108437\n",
      "19    110387\n",
      "Name: count, dtype: int64\n"
     ]
    }
   ],
   "source": [
    "# day 칼럼에 따른 count 합계 구하기\n",
    "print(data2.groupby(['day'])['count'].sum())\n",
    "#1일부터 19일 까지 모두 비슷한 값이므로 분석대상에서 제외\n",
    "x_train=x_train.drop(columns=['day'])"
   ]
  },
  {
   "cell_type": "code",
   "execution_count": 26,
   "id": "ddb2a0f0",
   "metadata": {},
   "outputs": [
    {
     "name": "stdout",
     "output_type": "stream",
     "text": [
      "hour\n",
      "0      25088\n",
      "1      15372\n",
      "2      10259\n",
      "3       5091\n",
      "4       2832\n",
      "5       8935\n",
      "6      34698\n",
      "7      96968\n",
      "8     165060\n",
      "9     100910\n",
      "10     79667\n",
      "11     95857\n",
      "12    116968\n",
      "13    117551\n",
      "14    111010\n",
      "15    115960\n",
      "16    144266\n",
      "17    213757\n",
      "18    196472\n",
      "19    143767\n",
      "20    104204\n",
      "21     79057\n",
      "22     60911\n",
      "23     40816\n",
      "Name: count, dtype: int64\n"
     ]
    }
   ],
   "source": [
    "# hour 칼럼에 따른 count 합계 구하기\n",
    "print(data2.groupby(['hour'])['count'].sum())\n",
    "#출근 시간대인 8-9시 퇴근시간인 17-18시에 자전거 대여량이 상대적으로 높아짐"
   ]
  },
  {
   "cell_type": "code",
   "execution_count": 27,
   "id": "b9ff827a",
   "metadata": {},
   "outputs": [
    {
     "name": "stdout",
     "output_type": "stream",
     "text": [
      "dayofweek\n",
      "0    295296\n",
      "1    291985\n",
      "2    292226\n",
      "3    306401\n",
      "4    302504\n",
      "5    311518\n",
      "6    285546\n",
      "Name: count, dtype: int64\n"
     ]
    }
   ],
   "source": [
    "# dayofweek 칼럼에 따른 count 합계 구하기\n",
    "print(data2.groupby(['dayofweek'])['count'].sum())\n",
    "# 각 요일별 큰 차이가 없어 분석대상에서 제외\n",
    "x_train=x_train.drop(columns=['dayofweek'])"
   ]
  },
  {
   "cell_type": "markdown",
   "id": "fe7642b8",
   "metadata": {},
   "source": [
    "파생변수 생성 과정은 테스트 데이터 세트에도 동일 적용"
   ]
  },
  {
   "cell_type": "code",
   "execution_count": 28,
   "id": "07f664b1",
   "metadata": {},
   "outputs": [],
   "source": [
    "x_test['datetime']=pd.to_datetime(x_test['datetime'])\n",
    "x_test['year']=x_test['datetime'].dt.year\n",
    "x_test['hour']=x_test['datetime'].dt.hour"
   ]
  },
  {
   "cell_type": "markdown",
   "id": "edba7094",
   "metadata": {},
   "source": [
    "불 필요한 칼럼 삭제하기"
   ]
  },
  {
   "cell_type": "code",
   "execution_count": 29,
   "id": "e703bb52",
   "metadata": {},
   "outputs": [],
   "source": [
    "#x_test의 datetime 칼럼 값은 x_test_datetime 변수에 저장하기\n",
    "x_test_datetime = x_test['datetime']"
   ]
  },
  {
   "cell_type": "code",
   "execution_count": 30,
   "id": "e402e0c5",
   "metadata": {},
   "outputs": [],
   "source": [
    "#x_train,x_test에서 datetime 칼럼을 삭제하기\n",
    "x_train = x_train.drop(columns=['datetime'])\n",
    "x_test = x_test.drop(columns=['datetime'])\n",
    "y_train = y_train.drop(columns=['datetime'])"
   ]
  },
  {
   "cell_type": "markdown",
   "id": "085f2191",
   "metadata": {},
   "source": [
    "### 3.3 학습하고 평가하기"
   ]
  },
  {
   "cell_type": "markdown",
   "id": "3d831356",
   "metadata": {},
   "source": [
    "데이터 분리하기"
   ]
  },
  {
   "cell_type": "code",
   "execution_count": 31,
   "id": "1211654d",
   "metadata": {},
   "outputs": [],
   "source": [
    "# 데이터 분리하기 위한 train_test_split 함수 가져오기\n",
    "from sklearn.model_selection import train_test_split"
   ]
  },
  {
   "cell_type": "code",
   "execution_count": 32,
   "id": "e74ae49e",
   "metadata": {},
   "outputs": [],
   "source": [
    "#학습용과 검증용을 8:2로 분리하여 각 4개의 변수에 저장하기\n",
    "X_TRAIN,X_TEST,Y_TRAIN,Y_TEST = train_test_split(x_train,y_train,\\\n",
    "                                                test_size=0.2, random_state=10)"
   ]
  },
  {
   "cell_type": "code",
   "execution_count": 33,
   "id": "8c2721e5",
   "metadata": {},
   "outputs": [
    {
     "name": "stdout",
     "output_type": "stream",
     "text": [
      "(8708, 10)\n",
      "(2178, 10)\n",
      "(8708, 1)\n",
      "(2178, 1)\n"
     ]
    }
   ],
   "source": [
    "#분리된 데이터의 행/열 구조 확인\n",
    "print(X_TRAIN.shape)\n",
    "print(X_TEST.shape)\n",
    "print(Y_TRAIN.shape)\n",
    "print(Y_TEST.shape)"
   ]
  },
  {
   "cell_type": "markdown",
   "id": "0a163eb0",
   "metadata": {},
   "source": [
    "데이터 학습 및 하이퍼 파라미터 튜닝하기<br>\n",
    "예측모델에서 주로 사용하는 XGB회귀를 활용하여 데이터를 학습할 모델 생성"
   ]
  },
  {
   "cell_type": "code",
   "execution_count": 34,
   "id": "04ec1b09",
   "metadata": {},
   "outputs": [],
   "source": [
    "#xgboost 라이브러리에서 XGBRegressor 함수 가져오기\n",
    "from xgboost import XGBRegressor"
   ]
  },
  {
   "cell_type": "code",
   "execution_count": 35,
   "id": "8296f201",
   "metadata": {},
   "outputs": [
    {
     "name": "stdout",
     "output_type": "stream",
     "text": [
      "[16:10:23] WARNING: ..\\src\\learner.cc:576: \n",
      "Parameters: { \"n_estimator\" } might not be used.\n",
      "\n",
      "  This could be a false alarm, with some parameters getting used by language bindings but\n",
      "  then being mistakenly passed down to XGBoost core, or some parameter actually being used\n",
      "  but getting flagged wrongly here. Please open an issue if you find any such cases.\n",
      "\n",
      "\n"
     ]
    },
    {
     "data": {
      "text/plain": [
       "XGBRegressor(base_score=0.5, booster='gbtree', colsample_bylevel=1,\n",
       "             colsample_bynode=1, colsample_bytree=1, enable_categorical=False,\n",
       "             gamma=0, gpu_id=-1, importance_type=None,\n",
       "             interaction_constraints='', learning_rate=0.300000012,\n",
       "             max_delta_step=0, max_depth=3, min_child_weight=1, missing=nan,\n",
       "             monotone_constraints='()', n_estimator=100, n_estimators=100,\n",
       "             n_jobs=4, num_parallel_tree=1, predictor='auto', random_state=10,\n",
       "             reg_alpha=0, reg_lambda=1, scale_pos_weight=1, subsample=1,\n",
       "             tree_method='exact', validate_parameters=1, verbosity=None)"
      ]
     },
     "execution_count": 35,
     "metadata": {},
     "output_type": "execute_result"
    }
   ],
   "source": [
    "# XGB 회귀 분석으로 수행할 첫 번째 모델을 만들고, 공부시키기\n",
    "model = XGBRegressor(n_estimator=100, max_depth=3, random_state=10)\n",
    "model.fit(X_TRAIN,Y_TRAIN)"
   ]
  },
  {
   "cell_type": "code",
   "execution_count": 36,
   "id": "1e686629",
   "metadata": {},
   "outputs": [
    {
     "data": {
      "text/plain": [
       "XGBRegressor(base_score=0.5, booster='gbtree', colsample_bylevel=1,\n",
       "             colsample_bynode=1, colsample_bytree=1, enable_categorical=False,\n",
       "             gamma=0, gpu_id=-1, importance_type=None,\n",
       "             interaction_constraints='', learning_rate=0.300000012,\n",
       "             max_delta_step=0, max_depth=5, min_child_weight=1, missing=nan,\n",
       "             monotone_constraints='()', n_estimators=200, n_jobs=4,\n",
       "             num_parallel_tree=1, predictor='auto', random_state=10,\n",
       "             reg_alpha=0, reg_lambda=1, scale_pos_weight=1, subsample=1,\n",
       "             tree_method='exact', validate_parameters=1, verbosity=None)"
      ]
     },
     "execution_count": 36,
     "metadata": {},
     "output_type": "execute_result"
    }
   ],
   "source": [
    "#XGB 회귀 분석으로 수행할 두번 째 모델을 만들고 공부시키기\n",
    "model2= XGBRegressor(n_estimators=200,max_depth=5, random_state=10)\n",
    "model2.fit(X_TRAIN,Y_TRAIN)"
   ]
  },
  {
   "cell_type": "markdown",
   "id": "f41b5f19",
   "metadata": {},
   "source": [
    "결과 예측하기<br>\n",
    "종속변수인 count값을 예측하기 위해 다음 코드의 predict() 함수 사용<br>\n",
    "즉 문제에서 주어진 테스트 데이터(x_test)로 predict를 수행하여 y_test를 예측(y_test_predicted)하는 것<br>\n",
    "반드시 pd.DateFrame() 함수를 사용하여 데이터 타입 변경<br>\n",
    "최종 제출할 칼럼명은 'count'이므로 칼럼명 0을 count 문자열로 설정 칼럼명 변경코드는 rename(columns={0:'count'})입니다"
   ]
  },
  {
   "cell_type": "code",
   "execution_count": 37,
   "id": "d1eb39a5",
   "metadata": {},
   "outputs": [],
   "source": [
    "# 학습이 완료된 모델을 통해 y_test 값을 예측하기 :최종 결과 제출용\n",
    "y_test_predicted = pd.DataFrame(model.predict(x_test)).rename(columns={0:'count'})\n",
    "y_test_predicted2 = pd.DataFrame(model2.predict(x_test)).rename(columns={0:'count'})"
   ]
  },
  {
   "cell_type": "code",
   "execution_count": 38,
   "id": "8183c6ed",
   "metadata": {},
   "outputs": [],
   "source": [
    "#y_test_predicted의 count 칼럼 값이 음수인 데이터를 추출하여 0으로 바꾸기\n",
    "y_test_predicted[y_test_predicted['count']<0]=0\n",
    "y_test_predicted2[y_test_predicted2['count']<0]=0"
   ]
  },
  {
   "cell_type": "code",
   "execution_count": 39,
   "id": "2480edb3",
   "metadata": {},
   "outputs": [
    {
     "name": "stdout",
     "output_type": "stream",
     "text": [
      "        count\n",
      "0    2.139193\n",
      "1    0.979986\n",
      "2    0.000000\n",
      "3    0.000000\n",
      "4    0.000000\n",
      "5    7.486256\n",
      "6   79.849319\n",
      "7  141.700363\n",
      "8  319.266785\n",
      "9   91.251663\n",
      "        count\n",
      "0   21.486200\n",
      "1    0.061608\n",
      "2    0.000000\n",
      "3    2.039008\n",
      "4    2.553952\n",
      "5   10.101068\n",
      "6   33.650478\n",
      "7  109.718521\n",
      "8  248.734039\n",
      "9  145.416061\n"
     ]
    }
   ],
   "source": [
    "#y_test_predicted에서 상위 10개 행을 확인하기\n",
    "print(y_test_predicted.head(10))\n",
    "print(y_test_predicted2.head(10))"
   ]
  },
  {
   "cell_type": "markdown",
   "id": "4563c3e7",
   "metadata": {},
   "source": [
    "향후 R^2 평가지표를 계산하기 위해 X_TEST 검증용 세트에 대응하는 Y_TEST 예측값을 계산<br>\n",
    "예측된 Y_TEST 값은 Y_TEST_PREDICTED 변수에 저장\n",
    "Y_TEST_PREDICTED 는 자전거 대여량을 의미하기 때문에 만약 음수가 존재한다면 0으로 바꾸기"
   ]
  },
  {
   "cell_type": "code",
   "execution_count": 40,
   "id": "6d09710b",
   "metadata": {},
   "outputs": [],
   "source": [
    "# 학습이 완료된 모델을 통해 Y_TEST 값을 예측하기 : 평가지표 계산용\n",
    "Y_TEST_PREDICTED=pd.DataFrame(model.predict(X_TEST)).rename(columns={0:'count'})\n",
    "Y_TEST_PREDICTED2=pd.DataFrame(model2.predict(X_TEST)).rename(columns={0:'count'})"
   ]
  },
  {
   "cell_type": "code",
   "execution_count": 41,
   "id": "328ae111",
   "metadata": {},
   "outputs": [],
   "source": [
    "# Y_TEST_PREDICTED의 count 값이 음수인 데이터를 0으로 바꾸기\n",
    "Y_TEST_PREDICTED[Y_TEST_PREDICTED['count']<0]=0\n",
    "Y_TEST_PREDICTED2[Y_TEST_PREDICTED2['count']<0]=0"
   ]
  },
  {
   "cell_type": "markdown",
   "id": "7fe5bf1b",
   "metadata": {},
   "source": [
    "모델 평가하기"
   ]
  },
  {
   "cell_type": "code",
   "execution_count": 42,
   "id": "2471ef0e",
   "metadata": {},
   "outputs": [],
   "source": [
    "# sklearn 패키지의 metrics 모듈에서 r2_score 함수를 가져오기\n",
    "from sklearn.metrics import r2_score"
   ]
  },
  {
   "cell_type": "code",
   "execution_count": 43,
   "id": "ca1dceee",
   "metadata": {},
   "outputs": [
    {
     "name": "stdout",
     "output_type": "stream",
     "text": [
      "0.9044130641900863\n"
     ]
    }
   ],
   "source": [
    "#1차 학습 모델의 R^2 평가지표 값을 확인하기\n",
    "print(r2_score(Y_TEST,Y_TEST_PREDICTED))"
   ]
  },
  {
   "cell_type": "code",
   "execution_count": 44,
   "id": "d96caa36",
   "metadata": {},
   "outputs": [
    {
     "name": "stdout",
     "output_type": "stream",
     "text": [
      "0.9381182890431057\n"
     ]
    }
   ],
   "source": [
    "#2차 학습 모델의 R^2 평가지표 값을 확인하기\n",
    "print(r2_score(Y_TEST,Y_TEST_PREDICTED2))"
   ]
  },
  {
   "cell_type": "markdown",
   "id": "5bfef413",
   "metadata": {},
   "source": [
    "두 번째 모델의 평가 지표결과가 더 높으므로 2번째 모델 선택"
   ]
  },
  {
   "cell_type": "markdown",
   "id": "36a758e1",
   "metadata": {},
   "source": [
    "### 3.4 결과 제출하기\n",
    "최종 데이터는 datetime 칼럼과 y_test 세트의 예측값이 포함 되어야 한다 <br>\n",
    "따라서 x_test_datetime 변수와 y_test_predicted2 변수를 세로 방향으로 통합"
   ]
  },
  {
   "cell_type": "code",
   "execution_count": 46,
   "id": "e8a9712f",
   "metadata": {},
   "outputs": [
    {
     "name": "stdout",
     "output_type": "stream",
     "text": [
      "                datetime       count\n",
      "0    2011-01-20 00:00:00   21.486200\n",
      "1    2011-01-20 01:00:00    0.061608\n",
      "2    2011-01-20 02:00:00    0.000000\n",
      "3    2011-01-20 03:00:00    2.039008\n",
      "4    2011-01-20 04:00:00    2.553952\n",
      "...                  ...         ...\n",
      "6488 2012-12-31 19:00:00  204.254379\n",
      "6489 2012-12-31 20:00:00  142.610077\n",
      "6490 2012-12-31 21:00:00  132.809982\n",
      "6491 2012-12-31 22:00:00   92.404938\n",
      "6492 2012-12-31 23:00:00   38.964684\n",
      "\n",
      "[6493 rows x 2 columns]\n"
     ]
    }
   ],
   "source": [
    "#x_test_datetime 변수와 y_test_predicted2 변수를 세로 방향으로 붙이기\n",
    "print(pd.concat([x_test_datetime,y_test_predicted2],axis=1))"
   ]
  },
  {
   "cell_type": "code",
   "execution_count": 47,
   "id": "9891e89d",
   "metadata": {},
   "outputs": [],
   "source": [
    "# 앞의 출력 결과를 final 변수에 저장하기\n",
    "final = pd.concat([x_test_datetime,y_test_predicted2],axis=1)"
   ]
  },
  {
   "cell_type": "code",
   "execution_count": 48,
   "id": "f6d23e41",
   "metadata": {},
   "outputs": [],
   "source": [
    "# final 변수를 1234567.csv 이름으로 저장하기\n",
    "final.to_csv('1234567.csv',index=False)"
   ]
  }
 ],
 "metadata": {
  "kernelspec": {
   "display_name": "Python 3",
   "language": "python",
   "name": "python3"
  },
  "language_info": {
   "codemirror_mode": {
    "name": "ipython",
    "version": 3
   },
   "file_extension": ".py",
   "mimetype": "text/x-python",
   "name": "python",
   "nbconvert_exporter": "python",
   "pygments_lexer": "ipython3",
   "version": "3.8.8"
  }
 },
 "nbformat": 4,
 "nbformat_minor": 5
}
