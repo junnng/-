{
 "cells": [
  {
   "cell_type": "markdown",
   "id": "6762423f",
   "metadata": {},
   "source": [
    "### 데이터 분석 연습하기\n",
    "1. 고객 3500명에 대한 학습용 데이터를 이용하여 성별 예측 모형을 만든 후 <br>\n",
    "이를 평가용 데이터에 적용하여 얻은 2482명 고객의 성별 예측값(남자일 확률)을 다음과 같은 형식의 CSV 파일로 생성하라<br>\n",
    "제출한 모델의 성능은 ROC-AUC 평가지표에 따라 채점"
   ]
  },
  {
   "cell_type": "code",
   "execution_count": 1,
   "id": "57068f46",
   "metadata": {},
   "outputs": [],
   "source": [
    "#라이브러리와 파일 읽기\n",
    "import pandas as pd\n",
    "x_train = pd.read_csv('x_train.csv', encoding = 'CP949')\n",
    "x_test = pd.read_csv('x_test.csv', encoding = 'CP949')\n",
    "y_train = pd.read_csv('y_train.csv', encoding = 'CP949')"
   ]
  },
  {
   "cell_type": "code",
   "execution_count": 2,
   "id": "2440c9bb",
   "metadata": {},
   "outputs": [],
   "source": [
    "# 테스트 데이터의 cust_id 저장하기\n",
    "x_test_cust_id = x_test['cust_id']"
   ]
  },
  {
   "cell_type": "code",
   "execution_count": 3,
   "id": "5425aaf7",
   "metadata": {},
   "outputs": [],
   "source": [
    "#cust_id 칼럼 삭제하기\n",
    "x_train=x_train.drop(columns=['cust_id'])\n",
    "x_test=x_test.drop(columns=['cust_id'])\n",
    "y_train=y_train.drop(columns=['cust_id'])"
   ]
  },
  {
   "cell_type": "code",
   "execution_count": 4,
   "id": "7fc2dfe2",
   "metadata": {},
   "outputs": [],
   "source": [
    "# 결측치 처리하기\n",
    "x_train['환불금액']=x_train['환불금액'].fillna(0)\n",
    "x_test['환불금액']=x_test['환불금액'].fillna(0)"
   ]
  },
  {
   "cell_type": "code",
   "execution_count": 5,
   "id": "f1aa8346",
   "metadata": {},
   "outputs": [],
   "source": [
    "# 라벨 인코딩 수행하기\n",
    "from sklearn.preprocessing import LabelEncoder\n",
    "encoder=LabelEncoder()\n",
    "x_train['주구매상품']=encoder.fit_transform(x_train['주구매상품'])\n",
    "x_test['주구매상품']=encoder.fit_transform(x_test['주구매상품'])\n",
    "x_train['주구매지점']=encoder.fit_transform(x_train['주구매지점'])\n",
    "x_test['주구매지점']=encoder.fit_transform(x_test['주구매지점'])"
   ]
  },
  {
   "cell_type": "code",
   "execution_count": 6,
   "id": "dc4ff387",
   "metadata": {},
   "outputs": [],
   "source": [
    "#파생변수 만들기\n",
    "condition = x_train['환불금액']>0\n",
    "x_train.loc[condition,'환불금액_new']=1\n",
    "x_train.loc[~condition,'환불금액_new']=0\n",
    "x_train=x_train.drop(columns=['환불금액'])\n",
    "x_test.loc[condition,'환불금액_new']=1\n",
    "x_test.loc[~condition,'환불금액_new']=0\n",
    "x_test=x_test.drop(columns=['환불금액'])"
   ]
  },
  {
   "cell_type": "code",
   "execution_count": 7,
   "id": "0e83dac1",
   "metadata": {},
   "outputs": [],
   "source": [
    "# 데이터 스케일링 : 표준화 크기로 변환하기\n",
    "from sklearn.preprocessing import StandardScaler\n",
    "scaler = StandardScaler()\n",
    "x_train = pd.DataFrame(scaler.fit_transform(x_train),columns=x_train.columns)\n",
    "x_test=pd.DataFrame(scaler.fit_transform(x_test),columns= x_test.columns)"
   ]
  },
  {
   "cell_type": "code",
   "execution_count": 8,
   "id": "7d45f894",
   "metadata": {},
   "outputs": [],
   "source": [
    "# 불필요한 칼럼 삭제하기\n",
    "x_train = x_train.drop(columns=['최대구매액'])\n",
    "x_test = x_test.drop(columns=['최대구매액'])"
   ]
  },
  {
   "cell_type": "code",
   "execution_count": 9,
   "id": "1b3db7b3",
   "metadata": {},
   "outputs": [],
   "source": [
    "# 학습용/검증용 데이터로 분리하기\n",
    "from sklearn.model_selection import train_test_split\n",
    "X_TRAIN, X_TEST, Y_TRAIN, Y_TEST = train_test_split(x_train,y_train,\\\n",
    "                                                   test_size=0.2, random_state=10)"
   ]
  },
  {
   "cell_type": "code",
   "execution_count": 13,
   "id": "2f09c731",
   "metadata": {},
   "outputs": [],
   "source": [
    "# 모델 학습 및 평가하기\n",
    "from sklearn.tree import DecisionTreeClassifier\n",
    "model = DecisionTreeClassifier(max_depth=10 , criterion='entropy',\n",
    "                              random_state=10)\n",
    "model.fit(X_TRAIN,Y_TRAIN)\n",
    "y_test_proba= model.predict_proba(X_TEST)"
   ]
  },
  {
   "cell_type": "code",
   "execution_count": 14,
   "id": "5ae7a6cd",
   "metadata": {},
   "outputs": [],
   "source": [
    "#결과 제출하기\n",
    "result = pd.DataFrame(y_test_proba)[1]\n",
    "final = pd.concat([x_test_cust_id,result], axis=1).rename(columns={1:'gender'})\n",
    "final.to_csv('12345.csv',index=False)"
   ]
  }
 ],
 "metadata": {
  "kernelspec": {
   "display_name": "Python 3",
   "language": "python",
   "name": "python3"
  },
  "language_info": {
   "codemirror_mode": {
    "name": "ipython",
    "version": 3
   },
   "file_extension": ".py",
   "mimetype": "text/x-python",
   "name": "python",
   "nbconvert_exporter": "python",
   "pygments_lexer": "ipython3",
   "version": "3.8.8"
  }
 },
 "nbformat": 4,
 "nbformat_minor": 5
}
