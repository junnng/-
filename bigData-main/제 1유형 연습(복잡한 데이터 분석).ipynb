{
 "cells": [
  {
   "cell_type": "markdown",
   "id": "37fd5740",
   "metadata": {},
   "source": [
    "### 그룹별 집계/요약하기\n",
    "1. boston 데이터 세트의 TAX 칼럼이 TAX 칼럼의 중위값보다 큰 데이터를 대상으로 CHAS 칼럼과 RAD 칼럼 순으로 그룹을 지은 후 <br>\n",
    "각 그룹의 데이터 개수를 구하시오 단 CHAS, RAD 칼럼별 데이터 개수는 COUNT 라는 칼럼으로 출력"
   ]
  },
  {
   "cell_type": "code",
   "execution_count": 1,
   "id": "c8eb84a0",
   "metadata": {},
   "outputs": [],
   "source": [
    "import pandas as pd\n",
    "data= pd.read_csv('boston.csv')"
   ]
  },
  {
   "cell_type": "code",
   "execution_count": 2,
   "id": "265084d4",
   "metadata": {},
   "outputs": [],
   "source": [
    "# TAX 칼럼의 중위값 구하기\n",
    "tax_median = data['TAX'].median()"
   ]
  },
  {
   "cell_type": "code",
   "execution_count": 3,
   "id": "7fcd7620",
   "metadata": {},
   "outputs": [
    {
     "name": "stdout",
     "output_type": "stream",
     "text": [
      "330.0\n"
     ]
    }
   ],
   "source": [
    "print(tax_median)"
   ]
  },
  {
   "cell_type": "code",
   "execution_count": 4,
   "id": "620711ae",
   "metadata": {},
   "outputs": [
    {
     "name": "stdout",
     "output_type": "stream",
     "text": [
      "0      False\n",
      "1      False\n",
      "2      False\n",
      "3      False\n",
      "4      False\n",
      "       ...  \n",
      "501    False\n",
      "502    False\n",
      "503    False\n",
      "504    False\n",
      "505    False\n",
      "Name: TAX, Length: 506, dtype: bool\n"
     ]
    }
   ],
   "source": [
    "# TAX 칼럼에서 tax_median보다 큰지 여부를 확인하기\n",
    "print(data['TAX']>tax_median)"
   ]
  },
  {
   "cell_type": "code",
   "execution_count": 5,
   "id": "439268ef",
   "metadata": {},
   "outputs": [
    {
     "name": "stdout",
     "output_type": "stream",
     "text": [
      "        CRIM    ZN  INDUS  CHAS    NOX     RM   AGE     DIS  RAD  TAX  \\\n",
      "54   0.01360  75.0   4.00     0  0.410  5.888  47.6  7.3197    3  469   \n",
      "65   0.03584  80.0   3.37     0  0.398  6.290  17.8  6.6115    4  337   \n",
      "66   0.04379  80.0   3.37     0  0.398  5.787  31.1  6.6115    4  337   \n",
      "67   0.05789  12.5   6.07     0  0.409  5.878  21.4  6.4980    4  345   \n",
      "68   0.13554  12.5   6.07     0  0.409  5.594  36.8  6.4980    4  345   \n",
      "..       ...   ...    ...   ...    ...    ...   ...     ...  ...  ...   \n",
      "496  0.28960   0.0   9.69     0  0.585  5.390  72.9  2.7986    6  391   \n",
      "497  0.26838   0.0   9.69     0  0.585    NaN  70.6  2.8927    6  391   \n",
      "498  0.23912   0.0   9.69     0  0.585  6.019  65.3  2.4091    6  391   \n",
      "499  0.17783   0.0   9.69     0  0.585  5.569  73.5  2.3999    6  391   \n",
      "500  0.22438   0.0   9.69     0  0.585  6.027  79.7  2.4982    6  391   \n",
      "\n",
      "     PTRATIO       B  LSTAT  MEDV  \n",
      "54      21.1  396.90  14.80  18.9  \n",
      "65      16.1  396.90   4.67  23.5  \n",
      "66      16.1  396.90  10.24  19.4  \n",
      "67      18.9  396.21   8.10  22.0  \n",
      "68      18.9  396.90  13.09  17.4  \n",
      "..       ...     ...    ...   ...  \n",
      "496     19.2  396.90  21.14  19.7  \n",
      "497     19.2  396.90  14.10  18.3  \n",
      "498     19.2  396.90  12.92  21.2  \n",
      "499     19.2  395.77  15.10  17.5  \n",
      "500     19.2  396.90  14.33  16.8  \n",
      "\n",
      "[250 rows x 14 columns]\n"
     ]
    }
   ],
   "source": [
    "# TAX 칼럼이 중위값보다 큰 값들만 추출해서 확인하기\n",
    "print(data[data['TAX']>tax_median])"
   ]
  },
  {
   "cell_type": "code",
   "execution_count": 7,
   "id": "ea26879d",
   "metadata": {},
   "outputs": [
    {
     "name": "stdout",
     "output_type": "stream",
     "text": [
      "     CHAS  RAD\n",
      "54      0    3\n",
      "65      0    4\n",
      "66      0    4\n",
      "67      0    4\n",
      "68      0    4\n",
      "..    ...  ...\n",
      "496     0    6\n",
      "497     0    6\n",
      "498     0    6\n",
      "499     0    6\n",
      "500     0    6\n",
      "\n",
      "[250 rows x 2 columns]\n"
     ]
    }
   ],
   "source": [
    "# TAX 칼럼에서 중위값보다 큰 값을 기준으로 CHAS 칼럼과 RAD 칼럼만 추출하기\n",
    "print(data[data['TAX']>tax_median][['CHAS','RAD']])"
   ]
  },
  {
   "cell_type": "code",
   "execution_count": 9,
   "id": "183be22c",
   "metadata": {},
   "outputs": [],
   "source": [
    "# 앞서 결과를 data_new 변수에 저장하기\n",
    "data_new = data[data['TAX']>tax_median][['CHAS','RAD']]"
   ]
  },
  {
   "cell_type": "code",
   "execution_count": 10,
   "id": "5c46b8a9",
   "metadata": {},
   "outputs": [
    {
     "name": "stdout",
     "output_type": "stream",
     "text": [
      "[0 1]\n"
     ]
    }
   ],
   "source": [
    "# CHAS 칼럼에 들어있는 값 종류를 확인하기\n",
    "print(data_new['CHAS'].unique())"
   ]
  },
  {
   "cell_type": "code",
   "execution_count": 11,
   "id": "9f154d57",
   "metadata": {},
   "outputs": [
    {
     "name": "stdout",
     "output_type": "stream",
     "text": [
      "[ 3  4  5  6  2  1 24]\n"
     ]
    }
   ],
   "source": [
    "#RAD 칼럼에 들어있는 값 종류 확인\n",
    "print(data_new['RAD'].unique())"
   ]
  },
  {
   "cell_type": "code",
   "execution_count": 12,
   "id": "c0e28ece",
   "metadata": {},
   "outputs": [],
   "source": [
    "# CHAS, RAD 칼럼 순으로 그룹을 짓고, 그룹 안에 속한 RAD 칼럼 값을 센 변수 만들기\n",
    "data_new2= data_new.groupby(['CHAS','RAD'])['RAD'].count()"
   ]
  },
  {
   "cell_type": "code",
   "execution_count": 13,
   "id": "aa0c65c5",
   "metadata": {},
   "outputs": [
    {
     "name": "stdout",
     "output_type": "stream",
     "text": [
      "CHAS  RAD\n",
      "0     1        3\n",
      "      2        2\n",
      "      3        5\n",
      "      4       33\n",
      "      5       51\n",
      "      6       17\n",
      "      24     124\n",
      "1     5        7\n",
      "      24       8\n",
      "Name: RAD, dtype: int64\n"
     ]
    }
   ],
   "source": [
    "#data_new2 변수의 결과 확인하기\n",
    "print(data_new2)"
   ]
  },
  {
   "cell_type": "markdown",
   "id": "a304a2ad",
   "metadata": {},
   "source": [
    "계산된 칼럼을 COUNT 로 맞추기 위해 비어있는 칼럼 이름에 COUNT를 채워야함 <br>\n",
    "그 전에 data_new2 변수의 데이터 타입을 확인해본 후 이름 설정"
   ]
  },
  {
   "cell_type": "code",
   "execution_count": 15,
   "id": "3cf6ec63",
   "metadata": {},
   "outputs": [
    {
     "name": "stdout",
     "output_type": "stream",
     "text": [
      "<class 'pandas.core.series.Series'>\n"
     ]
    }
   ],
   "source": [
    "# data_new2 변수의 데이터 타입 확인하기\n",
    "print(type(data_new2))"
   ]
  },
  {
   "cell_type": "code",
   "execution_count": 16,
   "id": "490c50b6",
   "metadata": {},
   "outputs": [],
   "source": [
    "# data_new2 변수를 데이터프레임 타입으로 변경하고 data_new3 변수에 저장하기\n",
    "data_new3= pd.DataFrame(data_new2)"
   ]
  },
  {
   "cell_type": "code",
   "execution_count": 17,
   "id": "f714b85d",
   "metadata": {},
   "outputs": [],
   "source": [
    "#data_new3 변수에서 카운트 연산을 수행한 결과 칼럼 이름은 COUNT로 설정\n",
    "data_new3.columns=['COUNT']"
   ]
  },
  {
   "cell_type": "code",
   "execution_count": 18,
   "id": "ee184b07",
   "metadata": {},
   "outputs": [
    {
     "name": "stdout",
     "output_type": "stream",
     "text": [
      "          COUNT\n",
      "CHAS RAD       \n",
      "0    1        3\n",
      "     2        2\n",
      "     3        5\n",
      "     4       33\n",
      "     5       51\n",
      "     6       17\n",
      "     24     124\n",
      "1    5        7\n",
      "     24       8\n"
     ]
    }
   ],
   "source": [
    "# 최종 제출가능한 data_new 값을 확인하기\n",
    "print(data_new3)"
   ]
  },
  {
   "cell_type": "markdown",
   "id": "87806f32",
   "metadata": {},
   "source": [
    "### 오름차순/ 내림차순 정렬하기\n",
    "boston 데이터 세트의 TAX 칼럼을 오름차순으로 정렬한 결과와 내림차순으로 정렬한 결과를 각각 구한다. <br>\n",
    "그리고 각 순번에 맞는 오름차순 값과 내림차순 값을 차이를 구하여 분산값을 출력하시오"
   ]
  },
  {
   "cell_type": "code",
   "execution_count": 19,
   "id": "4abd6596",
   "metadata": {},
   "outputs": [],
   "source": [
    "import pandas as pd\n",
    "data= pd.read_csv('boston.csv')"
   ]
  },
  {
   "cell_type": "code",
   "execution_count": 20,
   "id": "a638768f",
   "metadata": {},
   "outputs": [],
   "source": [
    "#TAX 칼럼을 추출하여 data_asc 변수에 저장하기\n",
    "data_asc=data['TAX'].copy()"
   ]
  },
  {
   "cell_type": "code",
   "execution_count": 21,
   "id": "ca23c222",
   "metadata": {},
   "outputs": [],
   "source": [
    "#TAX 칼럼을 추출하여 data_desc 변수에 저장하기\n",
    "data_desc = data['TAX'].copy()"
   ]
  },
  {
   "cell_type": "code",
   "execution_count": 22,
   "id": "7d7d520e",
   "metadata": {},
   "outputs": [
    {
     "name": "stdout",
     "output_type": "stream",
     "text": [
      "353    187\n",
      "123    188\n",
      "122    188\n",
      "126    188\n",
      "125    188\n",
      "      ... \n",
      "492    711\n",
      "491    711\n",
      "490    711\n",
      "489    711\n",
      "488    711\n",
      "Name: TAX, Length: 506, dtype: int64\n"
     ]
    }
   ],
   "source": [
    "# data_asc 변수를 오름차순으로 정렬하기\n",
    "print(data_asc.sort_values(ascending=True))"
   ]
  },
  {
   "cell_type": "code",
   "execution_count": 47,
   "id": "797c812b",
   "metadata": {},
   "outputs": [],
   "source": [
    "# data_asc 변수를 오름차순으로 정렬하고 정렬된 데이터를 data_asc 변수에 저장하기\n",
    "data_asc.sort_values(inplace= True)"
   ]
  },
  {
   "cell_type": "code",
   "execution_count": 48,
   "id": "3f4becd5",
   "metadata": {},
   "outputs": [
    {
     "name": "stdout",
     "output_type": "stream",
     "text": [
      "0      187\n",
      "1      188\n",
      "2      188\n",
      "3      188\n",
      "4      188\n",
      "      ... \n",
      "504    711\n",
      "501    711\n",
      "502    711\n",
      "503    711\n",
      "505    711\n",
      "Name: TAX, Length: 506, dtype: int64\n"
     ]
    }
   ],
   "source": [
    "# data_asc 변수 확인\n",
    "print(data_asc)"
   ]
  },
  {
   "cell_type": "code",
   "execution_count": 49,
   "id": "a19a951c",
   "metadata": {},
   "outputs": [
    {
     "name": "stdout",
     "output_type": "stream",
     "text": [
      "492    711\n",
      "490    711\n",
      "489    711\n",
      "488    711\n",
      "491    711\n",
      "      ... \n",
      "121    188\n",
      "120    188\n",
      "125    188\n",
      "124    188\n",
      "353    187\n",
      "Name: TAX, Length: 506, dtype: int64\n"
     ]
    }
   ],
   "source": [
    "# data_desc 변수를 내림차순으로 정렬하기\n",
    "print(data_desc.sort_values(ascending = False))"
   ]
  },
  {
   "cell_type": "code",
   "execution_count": 50,
   "id": "6ac1e3db",
   "metadata": {},
   "outputs": [],
   "source": [
    "# data_desc 변수를 내림차순으로 정렬하고 정렬된 데이터를 data_desc 변수에 저장하기\n",
    "data_desc.sort_values(ascending =False, inplace = True )"
   ]
  },
  {
   "cell_type": "code",
   "execution_count": 51,
   "id": "fe23adf5",
   "metadata": {},
   "outputs": [
    {
     "name": "stdout",
     "output_type": "stream",
     "text": [
      "492    711\n",
      "490    711\n",
      "489    711\n",
      "488    711\n",
      "491    711\n",
      "      ... \n",
      "121    188\n",
      "120    188\n",
      "125    188\n",
      "124    188\n",
      "353    187\n",
      "Name: TAX, Length: 506, dtype: int64\n"
     ]
    }
   ],
   "source": [
    "# data_desc 변수확인\n",
    "print(data_desc)"
   ]
  },
  {
   "cell_type": "code",
   "execution_count": 52,
   "id": "8ffbd478",
   "metadata": {},
   "outputs": [],
   "source": [
    "# data_asc 변수의 인덱스를 재설정하기\n",
    "data_asc.reset_index(drop = True, inplace= True )"
   ]
  },
  {
   "cell_type": "code",
   "execution_count": 53,
   "id": "b4c3acc9",
   "metadata": {
    "scrolled": true
   },
   "outputs": [
    {
     "name": "stdout",
     "output_type": "stream",
     "text": [
      "0      187\n",
      "1      188\n",
      "2      188\n",
      "3      188\n",
      "4      188\n",
      "      ... \n",
      "501    711\n",
      "502    711\n",
      "503    711\n",
      "504    711\n",
      "505    711\n",
      "Name: TAX, Length: 506, dtype: int64\n"
     ]
    }
   ],
   "source": [
    "# data_asc 변수 확인\n",
    "print(data_asc)"
   ]
  },
  {
   "cell_type": "code",
   "execution_count": 61,
   "id": "22d13638",
   "metadata": {},
   "outputs": [],
   "source": [
    "# data_desc 변수의 인덱스를 재설정하기\n",
    "data_desc.reset_index(drop =True, inplace =True)"
   ]
  },
  {
   "cell_type": "markdown",
   "id": "8696dde8",
   "metadata": {},
   "source": [
    "오름차순으로 정렬한 data_asc 변수와 내림차순으로 정렬한 data_desc 변수를 칼럼 단위로 붙이기<br>\n",
    "concat() 함수 사용 행 단위가 아닌 칼럼 단위 이므로 axis = 1 옵션 추가 <br>\n",
    "만약 data_asc 값아래로 data_desc 값을 덧붙인다면 axis= 0옵션 작성"
   ]
  },
  {
   "cell_type": "code",
   "execution_count": 62,
   "id": "97ad434e",
   "metadata": {},
   "outputs": [],
   "source": [
    "# data_asc,data_desc 변수를 칼럼 기준으로 통합한 후 data_concat 변수에 저장하기\n",
    "data_concat = pd.concat([data_asc,data_desc],axis=1)"
   ]
  },
  {
   "cell_type": "code",
   "execution_count": 63,
   "id": "5686b42d",
   "metadata": {},
   "outputs": [
    {
     "name": "stdout",
     "output_type": "stream",
     "text": [
      "     TAX  TAX\n",
      "0    187  711\n",
      "1    188  711\n",
      "2    188  711\n",
      "3    188  711\n",
      "4    188  711\n",
      "..   ...  ...\n",
      "501  711  188\n",
      "502  711  188\n",
      "503  711  188\n",
      "504  711  188\n",
      "505  711  187\n",
      "\n",
      "[506 rows x 2 columns]\n"
     ]
    }
   ],
   "source": [
    "# data_concat 변수 확인\n",
    "print(data_concat)"
   ]
  },
  {
   "cell_type": "code",
   "execution_count": 64,
   "id": "7d4e4256",
   "metadata": {},
   "outputs": [
    {
     "name": "stdout",
     "output_type": "stream",
     "text": [
      "0      187\n",
      "1      188\n",
      "2      188\n",
      "3      188\n",
      "4      188\n",
      "      ... \n",
      "501    711\n",
      "502    711\n",
      "503    711\n",
      "504    711\n",
      "505    711\n",
      "Name: TAX, Length: 506, dtype: int64\n"
     ]
    }
   ],
   "source": [
    "# data_concat 변수에서 첫번째 칼럼을 추출하기\n",
    "print(data_concat.iloc[:,0])"
   ]
  },
  {
   "cell_type": "code",
   "execution_count": 65,
   "id": "8e99e621",
   "metadata": {},
   "outputs": [
    {
     "name": "stdout",
     "output_type": "stream",
     "text": [
      "0      711\n",
      "1      711\n",
      "2      711\n",
      "3      711\n",
      "4      711\n",
      "      ... \n",
      "501    188\n",
      "502    188\n",
      "503    188\n",
      "504    188\n",
      "505    187\n",
      "Name: TAX, Length: 506, dtype: int64\n"
     ]
    }
   ],
   "source": [
    "# data_concat 변수에서 두번째 칼럼을 추출하기\n",
    "print(data_concat.iloc[:,1])"
   ]
  },
  {
   "cell_type": "code",
   "execution_count": 66,
   "id": "e1a71aa1",
   "metadata": {},
   "outputs": [],
   "source": [
    "# 첫번째 칼럼 - 두번째 칼럼 에 절댓값을 취한 후 data_concat 변수의 diff에 저장하기\n",
    "data_concat['diff']= abs(data_concat.iloc[:,0]-data_concat.iloc[:,1])"
   ]
  },
  {
   "cell_type": "code",
   "execution_count": 67,
   "id": "a16956bb",
   "metadata": {},
   "outputs": [
    {
     "name": "stdout",
     "output_type": "stream",
     "text": [
      "     TAX  TAX  diff\n",
      "0    187  711   524\n",
      "1    188  711   523\n",
      "2    188  711   523\n",
      "3    188  711   523\n",
      "4    188  711   523\n",
      "..   ...  ...   ...\n",
      "501  711  188   523\n",
      "502  711  188   523\n",
      "503  711  188   523\n",
      "504  711  188   523\n",
      "505  711  187   524\n",
      "\n",
      "[506 rows x 3 columns]\n"
     ]
    }
   ],
   "source": [
    "# diff 칼럼이 추가된 data_concat 변수 확인하기\n",
    "print(data_concat)"
   ]
  },
  {
   "cell_type": "code",
   "execution_count": 68,
   "id": "f953b43e",
   "metadata": {},
   "outputs": [
    {
     "name": "stdout",
     "output_type": "stream",
     "text": [
      "28490.5986459515\n"
     ]
    }
   ],
   "source": [
    "# diff 칼럼의 분산구하기\n",
    "print(data_concat['diff'].var())"
   ]
  },
  {
   "cell_type": "markdown",
   "id": "83d17627",
   "metadata": {},
   "source": [
    "### 최소최대 변환하기\n",
    "boston 데이터 세트의 MEDV 칼럼을 최소최대 척도 (Min-Max Scale)로 변환한 후 0.5보다 큰 값을 가지는 레코드 수를 구하시오"
   ]
  },
  {
   "cell_type": "code",
   "execution_count": 69,
   "id": "f3958a9c",
   "metadata": {},
   "outputs": [],
   "source": [
    "import pandas as pd\n",
    "data= pd.read_csv('boston.csv')"
   ]
  },
  {
   "cell_type": "code",
   "execution_count": 70,
   "id": "72b29d18",
   "metadata": {},
   "outputs": [],
   "source": [
    "#sklearn 라이브러리의 preprocessing 모듈에서 MinMaxScaler 함수 가져오기\n",
    "from sklearn.preprocessing import MinMaxScaler"
   ]
  },
  {
   "cell_type": "code",
   "execution_count": 71,
   "id": "2b895e49",
   "metadata": {},
   "outputs": [],
   "source": [
    "# MinMaxScale() 함수를 수행할 빈 박스 생성\n",
    "scaler = MinMaxScaler()"
   ]
  },
  {
   "cell_type": "code",
   "execution_count": 72,
   "id": "b266f29a",
   "metadata": {},
   "outputs": [],
   "source": [
    "# 최소최대 척도로 변환하기\n",
    "data_minmax= scaler.fit_transform(data)"
   ]
  },
  {
   "cell_type": "code",
   "execution_count": 73,
   "id": "ebc24941",
   "metadata": {
    "scrolled": true
   },
   "outputs": [
    {
     "name": "stdout",
     "output_type": "stream",
     "text": [
      "<class 'numpy.ndarray'>\n"
     ]
    }
   ],
   "source": [
    "#data_minmax 변수의 데이터 타입 확인하기\n",
    "print(type(data_minmax))"
   ]
  },
  {
   "cell_type": "markdown",
   "id": "97d95f3e",
   "metadata": {},
   "source": [
    "numpy.ndarray 타입은 pandas 라이브러리로 데이터 가공 불가 프레임으로 변환해야함<br>\n",
    "칼럼 이름은 data 변수의 칼럼 이름 그대로 사용하고자 columns = data.columns 옵션 추가"
   ]
  },
  {
   "cell_type": "code",
   "execution_count": 74,
   "id": "346ce3d1",
   "metadata": {},
   "outputs": [],
   "source": [
    "# data_minmax 변수를 데이터 프레임으로 변환하기\n",
    "data_minmax = pd.DataFrame(data_minmax, columns =data.columns)"
   ]
  },
  {
   "cell_type": "code",
   "execution_count": 75,
   "id": "d7457a04",
   "metadata": {},
   "outputs": [
    {
     "name": "stdout",
     "output_type": "stream",
     "text": [
      "       CRIM    ZN     INDUS  CHAS       NOX        RM       AGE       DIS  \\\n",
      "0  0.000000  0.18  0.067815   0.0  0.314815  0.577505  0.641607  0.269203   \n",
      "1  0.000236  0.00  0.242302   0.0  0.172840  0.547998  0.782698  0.348962   \n",
      "2  0.000236  0.00  0.242302   0.0  0.172840  0.694386  0.599382  0.348962   \n",
      "\n",
      "        RAD       TAX   PTRATIO         B     LSTAT      MEDV  \n",
      "0  0.000000  0.208015  0.287234  1.000000  0.089680  0.422222  \n",
      "1  0.043478  0.104962  0.553191  1.000000  0.204470  0.368889  \n",
      "2  0.043478  0.104962  0.553191  0.989737  0.063466  0.660000  \n"
     ]
    }
   ],
   "source": [
    "# data_minmax 변수의 상위 3개의 행 출력하기\n",
    "print(data_minmax.head(3))"
   ]
  },
  {
   "cell_type": "code",
   "execution_count": 76,
   "id": "6308f664",
   "metadata": {},
   "outputs": [
    {
     "name": "stdout",
     "output_type": "stream",
     "text": [
      "count    506.000000\n",
      "mean       0.389618\n",
      "std        0.204380\n",
      "min        0.000000\n",
      "25%        0.267222\n",
      "50%        0.360000\n",
      "75%        0.444444\n",
      "max        1.000000\n",
      "Name: MEDV, dtype: float64\n"
     ]
    }
   ],
   "source": [
    "# data_minmax 변수의 MEDV 칼럼에 대한 기초 통계량 구하기\n",
    "print(data_minmax['MEDV'].describe())"
   ]
  },
  {
   "cell_type": "code",
   "execution_count": 77,
   "id": "fb7b777f",
   "metadata": {},
   "outputs": [
    {
     "name": "stdout",
     "output_type": "stream",
     "text": [
      "0      False\n",
      "1      False\n",
      "2       True\n",
      "3       True\n",
      "4       True\n",
      "       ...  \n",
      "501    False\n",
      "502    False\n",
      "503    False\n",
      "504    False\n",
      "505    False\n",
      "Name: MEDV, Length: 506, dtype: bool\n"
     ]
    }
   ],
   "source": [
    "# MEDV 칼럼의 값이 0.5보다 큰지 확인하기\n",
    "print(data_minmax['MEDV']>0.5)"
   ]
  },
  {
   "cell_type": "code",
   "execution_count": 78,
   "id": "85172123",
   "metadata": {},
   "outputs": [
    {
     "name": "stdout",
     "output_type": "stream",
     "text": [
      "         CRIM    ZN     INDUS  CHAS       NOX        RM       AGE       DIS  \\\n",
      "2    0.000236  0.00  0.242302   0.0  0.172840  0.694386  0.599382  0.348962   \n",
      "3    0.000293  0.00  0.063050   0.0  0.150206  0.658555  0.441813  0.448545   \n",
      "4    0.000705  0.00  0.063050   0.0  0.150206  0.687105  0.528321  0.448545   \n",
      "5    0.000264  0.00  0.063050   0.0  0.150206  0.549722  0.574665  0.448545   \n",
      "39   0.000240  0.75  0.091276   0.0  0.088477  0.581337  0.194645  0.388428   \n",
      "..        ...   ...       ...   ...       ...       ...       ...       ...   \n",
      "370  0.073423  0.00  0.646628   1.0  0.506173  0.662004  0.974253  0.006620   \n",
      "371  0.103698  0.00  0.646628   0.0  0.506173  0.508718  1.000000  0.003592   \n",
      "372  0.092851  0.00  0.646628   1.0  0.582305  0.443380  0.892894  0.000000   \n",
      "407  0.134256  0.00  0.646628   0.0  0.563786  0.392221  1.000000  0.014149   \n",
      "473  0.052159  0.00  0.646628   0.0  0.471193  0.655106  0.666323  0.127609   \n",
      "\n",
      "          RAD       TAX   PTRATIO         B     LSTAT      MEDV  \n",
      "2    0.043478  0.104962  0.553191  0.989737  0.063466  0.660000  \n",
      "3    0.086957  0.066794  0.648936  0.994276  0.033389  0.631111  \n",
      "4    0.086957  0.066794  0.648936  1.000000  0.099338  0.693333  \n",
      "5    0.086957  0.066794  0.648936  0.992990  0.096026  0.526667  \n",
      "39   0.086957  0.124046  0.606383  0.996798  0.071468  0.573333  \n",
      "..        ...       ...       ...       ...       ...       ...  \n",
      "370  1.000000  0.914122  0.808511  0.987770  0.033940  1.000000  \n",
      "371  1.000000  0.914122  0.808511  0.922462  0.215232  1.000000  \n",
      "372  1.000000  0.914122  0.808511  0.876393  0.197296  1.000000  \n",
      "407  1.000000  0.914122  0.808511  0.836578  0.286976  0.508889  \n",
      "473  1.000000  0.914122  0.808511  0.943971  0.274007  0.551111  \n",
      "\n",
      "[106 rows x 14 columns]\n"
     ]
    }
   ],
   "source": [
    "# data_minmax 변수의 MEDV 칼럼에서 0.5를 초과하는 전체 값을 출력하기\n",
    "print(data_minmax[data_minmax['MEDV']>0.5])"
   ]
  },
  {
   "cell_type": "code",
   "execution_count": 79,
   "id": "c155ce1f",
   "metadata": {},
   "outputs": [
    {
     "name": "stdout",
     "output_type": "stream",
     "text": [
      "2      0.660000\n",
      "3      0.631111\n",
      "4      0.693333\n",
      "5      0.526667\n",
      "39     0.573333\n",
      "         ...   \n",
      "370    1.000000\n",
      "371    1.000000\n",
      "372    1.000000\n",
      "407    0.508889\n",
      "473    0.551111\n",
      "Name: MEDV, Length: 106, dtype: float64\n"
     ]
    }
   ],
   "source": [
    "#data_minmax 변수의 MEDV 칼럼에서 0.5를 초과하는 MEDV 값만 출력하기\n",
    "print(data_minmax[data_minmax['MEDV']>0.5]['MEDV'])"
   ]
  },
  {
   "cell_type": "code",
   "execution_count": 80,
   "id": "15ce8ba8",
   "metadata": {},
   "outputs": [
    {
     "name": "stdout",
     "output_type": "stream",
     "text": [
      "106\n"
     ]
    }
   ],
   "source": [
    "# 개수 세기\n",
    "print(data_minmax[data_minmax['MEDV']>0.5]['MEDV'].count())"
   ]
  },
  {
   "cell_type": "markdown",
   "id": "e2179752",
   "metadata": {},
   "source": [
    "### 빈도값 구하기\n",
    "boston 데이터 세트의 AGE 칼럼을 소수점 첫 번째 자리에서 반올림하고<br>\n",
    "가장 많은 비중을 차지하는 AGE 값과 그 개수를 차례대로 출력하시오<br>\n",
    "즉 AGE 칼럼의 최빈값과 그 개수를 출력하시오"
   ]
  },
  {
   "cell_type": "markdown",
   "id": "97aa864c",
   "metadata": {},
   "source": [
    "첫번째 방법"
   ]
  },
  {
   "cell_type": "code",
   "execution_count": 81,
   "id": "fc75b4aa",
   "metadata": {},
   "outputs": [],
   "source": [
    "import pandas as pd\n",
    "data= pd.read_csv('boston.csv')"
   ]
  },
  {
   "cell_type": "code",
   "execution_count": 82,
   "id": "50147236",
   "metadata": {},
   "outputs": [
    {
     "name": "stdout",
     "output_type": "stream",
     "text": [
      "0      65.2\n",
      "1      78.9\n",
      "2      61.1\n",
      "3      45.8\n",
      "4      54.2\n",
      "       ... \n",
      "501    69.1\n",
      "502    76.7\n",
      "503    91.0\n",
      "504    89.3\n",
      "505    80.8\n",
      "Name: AGE, Length: 506, dtype: float64\n"
     ]
    }
   ],
   "source": [
    "# data 변수의 AGE 칼럼 확인\n",
    "print(data['AGE'])"
   ]
  },
  {
   "cell_type": "code",
   "execution_count": 83,
   "id": "18c2aa9d",
   "metadata": {},
   "outputs": [
    {
     "name": "stdout",
     "output_type": "stream",
     "text": [
      "0      65.0\n",
      "1      79.0\n",
      "2      61.0\n",
      "3      46.0\n",
      "4      54.0\n",
      "       ... \n",
      "501    69.0\n",
      "502    77.0\n",
      "503    91.0\n",
      "504    89.0\n",
      "505    81.0\n",
      "Name: AGE, Length: 506, dtype: float64\n"
     ]
    }
   ],
   "source": [
    "# data 변수의 AGE 칼럼을 반올림해서 일의 자리로 만들기\n",
    "print(round(data['AGE'],0))"
   ]
  },
  {
   "cell_type": "code",
   "execution_count": 84,
   "id": "9749a312",
   "metadata": {},
   "outputs": [],
   "source": [
    "# 반올림한 값을 data2 변수에 저장하기\n",
    "data2 = round(data['AGE'],0)"
   ]
  },
  {
   "cell_type": "code",
   "execution_count": 85,
   "id": "a3e39052",
   "metadata": {},
   "outputs": [],
   "source": [
    "# 시리즈인 data2 변수를 데이터 프레임으로 변환하여 다시 data2 변수에 저장\n",
    "data2 = pd.DataFrame(data2)"
   ]
  },
  {
   "cell_type": "code",
   "execution_count": 86,
   "id": "75aa9b61",
   "metadata": {},
   "outputs": [
    {
     "name": "stdout",
     "output_type": "stream",
     "text": [
      "AGE\n",
      "3.0       1\n",
      "6.0       3\n",
      "7.0       3\n",
      "8.0       3\n",
      "9.0       1\n",
      "         ..\n",
      "96.0     15\n",
      "97.0     17\n",
      "98.0     19\n",
      "99.0     10\n",
      "100.0    43\n",
      "Name: AGE, Length: 91, dtype: int64\n"
     ]
    }
   ],
   "source": [
    "# data2 변수에서 AGE 칼럼으로 그룹화하고 그룹별 AGE 칼럼의 개수 세기\n",
    "print(data2.groupby(['AGE'])['AGE'].count())"
   ]
  },
  {
   "cell_type": "code",
   "execution_count": 87,
   "id": "2a8741af",
   "metadata": {},
   "outputs": [],
   "source": [
    "# 그룹화 결과를 data3 에 저장하기\n",
    "data3 = data2.groupby(['AGE'])['AGE'].count()"
   ]
  },
  {
   "cell_type": "code",
   "execution_count": 88,
   "id": "5cd02ef6",
   "metadata": {},
   "outputs": [
    {
     "name": "stdout",
     "output_type": "stream",
     "text": [
      "AGE\n",
      "3.0       1\n",
      "6.0       3\n",
      "7.0       3\n",
      "8.0       3\n",
      "9.0       1\n",
      "         ..\n",
      "96.0     15\n",
      "97.0     17\n",
      "98.0     19\n",
      "99.0     10\n",
      "100.0    43\n",
      "Name: AGE, Length: 91, dtype: int64\n"
     ]
    }
   ],
   "source": [
    "# data3 변수 확인하기\n",
    "print(data3)"
   ]
  },
  {
   "cell_type": "code",
   "execution_count": 89,
   "id": "7b5672e0",
   "metadata": {},
   "outputs": [
    {
     "name": "stdout",
     "output_type": "stream",
     "text": [
      "<class 'pandas.core.series.Series'>\n"
     ]
    }
   ],
   "source": [
    "# data3 변수의 데이터 타입 확인하기\n",
    "print(type(data3))"
   ]
  },
  {
   "cell_type": "code",
   "execution_count": 90,
   "id": "445dd3b7",
   "metadata": {},
   "outputs": [],
   "source": [
    "# data3 변수를 데이터 프레임으로 바꾸기\n",
    "data3 = pd.DataFrame(data3)"
   ]
  },
  {
   "cell_type": "code",
   "execution_count": 91,
   "id": "ed95e9d4",
   "metadata": {},
   "outputs": [
    {
     "name": "stdout",
     "output_type": "stream",
     "text": [
      "<class 'pandas.core.frame.DataFrame'>\n"
     ]
    }
   ],
   "source": [
    "# data3 변수의 데이터 타입 확인하기\n",
    "print(type(data3))"
   ]
  },
  {
   "cell_type": "code",
   "execution_count": 92,
   "id": "8644d0af",
   "metadata": {},
   "outputs": [
    {
     "name": "stdout",
     "output_type": "stream",
     "text": [
      "Index(['AGE'], dtype='object')\n"
     ]
    }
   ],
   "source": [
    "# data3 변수의 칼럼 이름 확인하기\n",
    "print(data3.columns)"
   ]
  },
  {
   "cell_type": "code",
   "execution_count": 93,
   "id": "4d78b864",
   "metadata": {},
   "outputs": [],
   "source": [
    "# data3 변수의 유일한 칼럼은 COUNT로 설정하기\n",
    "data3.columns = ['COUNT']"
   ]
  },
  {
   "cell_type": "code",
   "execution_count": 95,
   "id": "e3734ee6",
   "metadata": {},
   "outputs": [
    {
     "name": "stdout",
     "output_type": "stream",
     "text": [
      "     COUNT\n",
      "AGE       \n",
      "3.0      1\n",
      "6.0      3\n",
      "7.0      3\n"
     ]
    }
   ],
   "source": [
    "# data3 변수의 상위 3개 데이터 확인하기\n",
    "print(data3.head(3))"
   ]
  },
  {
   "cell_type": "code",
   "execution_count": 97,
   "id": "f0fcef63",
   "metadata": {},
   "outputs": [],
   "source": [
    "# data3 변수의 기존 인덱스는 칼럼으로 사용하고 일련번호를 새로운 인덱스로 저장\n",
    "data3.reset_index(drop = False, inplace = True)"
   ]
  },
  {
   "cell_type": "code",
   "execution_count": 98,
   "id": "25fd581b",
   "metadata": {},
   "outputs": [
    {
     "name": "stdout",
     "output_type": "stream",
     "text": [
      "   AGE  COUNT\n",
      "0  3.0      1\n",
      "1  6.0      3\n",
      "2  7.0      3\n"
     ]
    }
   ],
   "source": [
    "# data3 변수의 상위 3개 데이터 확인\n",
    "print(data3.head(3))"
   ]
  },
  {
   "cell_type": "code",
   "execution_count": 99,
   "id": "2344b12f",
   "metadata": {},
   "outputs": [],
   "source": [
    "# data3 변수의 COUNT 칼럼 기준으로 내림차순 정렬\n",
    "data3.sort_values(by='COUNT',ascending = False , inplace = True)"
   ]
  },
  {
   "cell_type": "code",
   "execution_count": 100,
   "id": "72f21062",
   "metadata": {},
   "outputs": [
    {
     "name": "stdout",
     "output_type": "stream",
     "text": [
      "      AGE  COUNT\n",
      "90  100.0     43\n",
      "88   98.0     19\n",
      "87   97.0     17\n"
     ]
    }
   ],
   "source": [
    "# data3 변수의 상위 3개 확인\n",
    "print(data3.head(3))"
   ]
  },
  {
   "cell_type": "code",
   "execution_count": 102,
   "id": "9ad01331",
   "metadata": {},
   "outputs": [
    {
     "name": "stdout",
     "output_type": "stream",
     "text": [
      "100.0 43\n"
     ]
    }
   ],
   "source": [
    "#data3 변수의 AGE 칼럼에서 최빈값과 그 개수를 출력하기\n",
    "print(data3.iloc[0,0],data3.iloc[0,1]) # 0번행의 0번 칼럼(최빈값) 0번행의 1번칼럼(최빈값 개수)"
   ]
  },
  {
   "cell_type": "markdown",
   "id": "187cbe1c",
   "metadata": {},
   "source": [
    "두 번째 방법"
   ]
  },
  {
   "cell_type": "code",
   "execution_count": 104,
   "id": "ddf7ac9b",
   "metadata": {},
   "outputs": [],
   "source": [
    "# scipy 라이브러리의 stats 모듈에서 mode 함수 가져오기\n",
    "from scipy.stats import mode"
   ]
  },
  {
   "cell_type": "code",
   "execution_count": 105,
   "id": "39aa76fd",
   "metadata": {},
   "outputs": [
    {
     "name": "stdout",
     "output_type": "stream",
     "text": [
      "ModeResult(mode=array([[100.]]), count=array([[43]]))\n"
     ]
    }
   ],
   "source": [
    "# data2 변수의 최빈값과 개수 구하기\n",
    "print(mode(data2))"
   ]
  },
  {
   "cell_type": "code",
   "execution_count": 106,
   "id": "e11f82ed",
   "metadata": {},
   "outputs": [
    {
     "name": "stdout",
     "output_type": "stream",
     "text": [
      "[[100.]]\n"
     ]
    }
   ],
   "source": [
    "# data2 변수의 최빈값만 추출하기\n",
    "print(mode(data2)[0])"
   ]
  },
  {
   "cell_type": "code",
   "execution_count": 111,
   "id": "e85270af",
   "metadata": {},
   "outputs": [
    {
     "name": "stdout",
     "output_type": "stream",
     "text": [
      "[[43]]\n"
     ]
    }
   ],
   "source": [
    "# data 변수의 최빈값 개수만 추출하기\n",
    "print(mode(data2)[1])"
   ]
  },
  {
   "cell_type": "code",
   "execution_count": 113,
   "id": "39925fa8",
   "metadata": {},
   "outputs": [
    {
     "name": "stdout",
     "output_type": "stream",
     "text": [
      "100\n"
     ]
    }
   ],
   "source": [
    "# 최빈값을 정수형으로 변환\n",
    "print(int(mode(data2)[0]))"
   ]
  },
  {
   "cell_type": "code",
   "execution_count": 114,
   "id": "2aa82897",
   "metadata": {},
   "outputs": [
    {
     "name": "stdout",
     "output_type": "stream",
     "text": [
      "43\n"
     ]
    }
   ],
   "source": [
    "# 최빈값 개수를 정수형으로 변환\n",
    "print(int(mode(data2)[1]))"
   ]
  },
  {
   "cell_type": "code",
   "execution_count": 115,
   "id": "faaed241",
   "metadata": {},
   "outputs": [
    {
     "name": "stdout",
     "output_type": "stream",
     "text": [
      "100 43\n"
     ]
    }
   ],
   "source": [
    "# 각 코드를 통합하여 최종 출력\n",
    "print(int(mode(data2)[0]),int(mode(data2)[1]))"
   ]
  },
  {
   "cell_type": "markdown",
   "id": "57a8b04a",
   "metadata": {},
   "source": [
    "###  표준 변환하기\n",
    "boston 데이터 세트의 DIS 칼럼을 표준화 척도로 변환한 후 0.4 보다 크면서 0.6보다 작은 값의 평균 구하기<br>\n",
    "단 소수점 셋째 자리에서 반올림하여 소수점 둘째 자리 까지 출력하시오 "
   ]
  },
  {
   "cell_type": "code",
   "execution_count": 116,
   "id": "7279dffe",
   "metadata": {},
   "outputs": [],
   "source": [
    "import pandas as pd\n",
    "data = pd.read_csv('boston.csv')"
   ]
  },
  {
   "cell_type": "code",
   "execution_count": 117,
   "id": "0445812e",
   "metadata": {},
   "outputs": [],
   "source": [
    "# sklearn 라이브러리의 preprocessing 모듈의 StandardScaler 함수 가져오기\n",
    "from sklearn.preprocessing import StandardScaler"
   ]
  },
  {
   "cell_type": "code",
   "execution_count": 118,
   "id": "77c1fa28",
   "metadata": {},
   "outputs": [],
   "source": [
    "# StandardScaler 함수를 수행할 빈 박스 생성\n",
    "scaler = StandardScaler()"
   ]
  },
  {
   "cell_type": "code",
   "execution_count": 119,
   "id": "493ea62f",
   "metadata": {},
   "outputs": [],
   "source": [
    "# 표준화 척도로 변환하기\n",
    "data_stdd = scaler.fit_transform(data)"
   ]
  },
  {
   "cell_type": "code",
   "execution_count": 120,
   "id": "281445d2",
   "metadata": {},
   "outputs": [
    {
     "name": "stdout",
     "output_type": "stream",
     "text": [
      "<class 'numpy.ndarray'>\n"
     ]
    }
   ],
   "source": [
    "# data_stdd 변수의 데이터 타입 확인하기\n",
    "print(type(data_stdd))"
   ]
  },
  {
   "cell_type": "code",
   "execution_count": 121,
   "id": "7d10443e",
   "metadata": {},
   "outputs": [],
   "source": [
    "# data_stdd 변수를 데이터프레임으로 변환하기\n",
    "data_stdd = pd.DataFrame(data_stdd, columns = data.columns)"
   ]
  },
  {
   "cell_type": "code",
   "execution_count": 122,
   "id": "90a4e12d",
   "metadata": {},
   "outputs": [
    {
     "name": "stdout",
     "output_type": "stream",
     "text": [
      "0      False\n",
      "1       True\n",
      "2       True\n",
      "3      False\n",
      "4      False\n",
      "       ...  \n",
      "501    False\n",
      "502    False\n",
      "503    False\n",
      "504    False\n",
      "505    False\n",
      "Name: DIS, Length: 506, dtype: bool\n"
     ]
    }
   ],
   "source": [
    "# DIS 칼럼의 값이 0.4보다 크고 0.6 보다 작은지를 확인하기\n",
    "print((data_stdd['DIS']>0.4)&(data_stdd['DIS']<0.6))"
   ]
  },
  {
   "cell_type": "code",
   "execution_count": 123,
   "id": "118ef5d0",
   "metadata": {},
   "outputs": [
    {
     "name": "stdout",
     "output_type": "stream",
     "text": [
      "         CRIM        ZN     INDUS      CHAS       NOX        RM       AGE  \\\n",
      "1   -0.417339 -0.487722 -0.593381 -0.272599 -0.740262  0.192116  0.367166   \n",
      "2   -0.417342 -0.487722 -0.593381 -0.272599 -0.740262  1.272167 -0.265812   \n",
      "13  -0.347230 -0.487722 -0.437258 -0.272599 -0.144217 -0.475140 -0.240919   \n",
      "26  -0.342325 -0.487722 -0.437258 -0.272599 -0.144217 -0.667400  0.772557   \n",
      "78  -0.413947 -0.487722  0.247057 -0.272599 -1.016689 -0.075069 -0.528960   \n",
      "84  -0.414630 -0.487722 -0.969827 -0.272599 -0.913029  0.146879 -0.731655   \n",
      "276 -0.408334  1.229060 -0.689681  3.668398 -0.930305  1.388089 -0.696095   \n",
      "277 -0.413387  1.229060 -0.689681  3.668398 -0.930305  0.764656 -1.457091   \n",
      "280 -0.416354  0.370669 -1.139082 -0.272599 -0.965723  2.169853 -0.144906   \n",
      "322 -0.379654 -0.487722 -0.548149 -0.272599 -0.532942 -0.345082 -0.664090   \n",
      "323 -0.387477 -0.487722 -0.548149 -0.272599 -0.532942 -0.815837  0.203588   \n",
      "324 -0.380824 -0.487722 -0.548149 -0.272599 -0.532942  0.183634 -1.012584   \n",
      "338 -0.416670 -0.487722 -0.867691 -0.272599 -0.342899 -0.319635 -1.112153   \n",
      "339 -0.414120 -0.487722 -0.867691 -0.272599 -0.342899 -0.424248 -0.824113   \n",
      "340 -0.413359 -0.487722 -0.867691 -0.272599 -0.342899 -0.448280 -0.358269   \n",
      "\n",
      "          DIS       RAD       TAX   PTRATIO         B     LSTAT      MEDV  \n",
      "1    0.557160 -0.867883 -0.987329 -0.303094  0.441052 -0.492439 -0.101524  \n",
      "2    0.557160 -0.867883 -0.987329 -0.303094  0.396427 -1.208727  1.324247  \n",
      "13   0.433754 -0.637962 -0.601276  1.176466  0.441052 -0.615792 -0.232129  \n",
      "26   0.421632 -0.637962 -0.601276  1.176466  0.221545  0.302346 -0.645712  \n",
      "78   0.579502 -0.523001 -0.060801  0.113032  0.325926 -0.043883 -0.145059  \n",
      "84   0.467933 -0.752922 -0.957633  0.020560  0.441052 -0.425156  0.148802  \n",
      "276  0.471641 -0.637962 -0.916058 -0.395567  0.357175 -0.925576  1.160990  \n",
      "277  0.507579 -0.637962 -0.916058 -0.395567  0.403225 -1.190505  1.150107  \n",
      "280  0.427669 -0.523001 -1.141751 -1.643945  0.335904 -1.246574  2.488808  \n",
      "322  0.440219 -0.523001 -0.720062  0.529158  0.441052 -0.694290 -0.232129  \n",
      "323  0.440219 -0.523001 -0.720062  0.529158  0.377788 -0.127988 -0.438920  \n",
      "324  0.440219 -0.523001 -0.720062  0.529158  0.441052 -0.915764  0.268523  \n",
      "338  0.483525 -0.523001 -1.094237  0.806576  0.432719 -0.580749 -0.210362  \n",
      "339  0.483525 -0.523001 -1.094237  0.806576  0.441052 -0.408335 -0.384502  \n",
      "340  0.483525 -0.523001 -1.094237  0.806576  0.441052 -0.471413 -0.417153  \n"
     ]
    }
   ],
   "source": [
    "# data_stdd 변수의 DIS 칼럼이 0.4~0.6 사이에 있는 전체 값을 출력하기\n",
    "print(data_stdd[(data_stdd['DIS']>0.4)&(data_stdd['DIS']<0.6)])"
   ]
  },
  {
   "cell_type": "code",
   "execution_count": 124,
   "id": "d949880b",
   "metadata": {},
   "outputs": [],
   "source": [
    "# 간소화 목적으로 앞의 결과 데이터를 data_stdd 변수에 다시 저장하기\n",
    "data_stdd = data_stdd[(data_stdd['DIS']>0.4)&(data_stdd['DIS']<0.6)]"
   ]
  },
  {
   "cell_type": "code",
   "execution_count": 125,
   "id": "82bb64fd",
   "metadata": {},
   "outputs": [
    {
     "name": "stdout",
     "output_type": "stream",
     "text": [
      "1      0.557160\n",
      "2      0.557160\n",
      "13     0.433754\n",
      "26     0.421632\n",
      "78     0.579502\n",
      "84     0.467933\n",
      "276    0.471641\n",
      "277    0.507579\n",
      "280    0.427669\n",
      "322    0.440219\n",
      "323    0.440219\n",
      "324    0.440219\n",
      "338    0.483525\n",
      "339    0.483525\n",
      "340    0.483525\n",
      "Name: DIS, dtype: float64\n"
     ]
    }
   ],
   "source": [
    "# data_stdd 변수의 DIS 칼럼만 추출하기\n",
    "print(data_stdd['DIS'])"
   ]
  },
  {
   "cell_type": "code",
   "execution_count": 126,
   "id": "413b23dd",
   "metadata": {},
   "outputs": [
    {
     "name": "stdout",
     "output_type": "stream",
     "text": [
      "0.479684212855197\n"
     ]
    }
   ],
   "source": [
    "# DIS 칼럼의 평균값 구하기\n",
    "print(data_stdd['DIS'].mean())"
   ]
  },
  {
   "cell_type": "code",
   "execution_count": 127,
   "id": "558d3733",
   "metadata": {},
   "outputs": [
    {
     "name": "stdout",
     "output_type": "stream",
     "text": [
      "0.48\n"
     ]
    }
   ],
   "source": [
    "# DIS 칼럼의 평균값을 소수점 셋째 자리에서 반올림하기\n",
    "print(round(data_stdd['DIS'].mean(),2))"
   ]
  },
  {
   "cell_type": "markdown",
   "id": "91fb4463",
   "metadata": {},
   "source": [
    "### 유니크한 값 구하기\n",
    "boston 데이터 세트의 전체 칼럼에 대해서 중복을 제거한 유니크한 값을 구한 후<br>\n",
    "칼럼별로 유니크한 값의 개수를 기준으로 평균값을 구하시오"
   ]
  },
  {
   "cell_type": "markdown",
   "id": "2361666c",
   "metadata": {},
   "source": [
    "첫번째 방법<br>\n",
    "각 칼럼에 대한 처리를 모든 칼럼에 대해 단순 반복"
   ]
  },
  {
   "cell_type": "code",
   "execution_count": 128,
   "id": "da8bf367",
   "metadata": {},
   "outputs": [],
   "source": [
    "import pandas as pd\n",
    "data= pd.read_csv('boston.csv')"
   ]
  },
  {
   "cell_type": "code",
   "execution_count": 129,
   "id": "e182cced",
   "metadata": {},
   "outputs": [
    {
     "name": "stdout",
     "output_type": "stream",
     "text": [
      "Index(['CRIM', 'ZN', 'INDUS', 'CHAS', 'NOX', 'RM', 'AGE', 'DIS', 'RAD', 'TAX',\n",
      "       'PTRATIO', 'B', 'LSTAT', 'MEDV'],\n",
      "      dtype='object')\n"
     ]
    }
   ],
   "source": [
    "# data 변수의 칼럼 목록 확인하기\n",
    "print(data.columns)"
   ]
  },
  {
   "cell_type": "code",
   "execution_count": 130,
   "id": "40b6aa48",
   "metadata": {},
   "outputs": [],
   "source": [
    "# data 변수의 칼럼 목록을 data_col 변수에 저장하기\n",
    "data_col = data.columns"
   ]
  },
  {
   "cell_type": "code",
   "execution_count": 131,
   "id": "23d4ccb5",
   "metadata": {},
   "outputs": [
    {
     "name": "stdout",
     "output_type": "stream",
     "text": [
      "14\n"
     ]
    }
   ],
   "source": [
    "# data_col 변수 안의 개수 구하기\n",
    "print(data_col.size)"
   ]
  },
  {
   "cell_type": "code",
   "execution_count": 132,
   "id": "0d62489b",
   "metadata": {},
   "outputs": [
    {
     "name": "stdout",
     "output_type": "stream",
     "text": [
      "[0 1]\n"
     ]
    }
   ],
   "source": [
    "# CHAS 칼럼에서 유일한 값들의 목록 확인하기\n",
    "print(data['CHAS'].unique())"
   ]
  },
  {
   "cell_type": "code",
   "execution_count": 133,
   "id": "7c84764a",
   "metadata": {},
   "outputs": [
    {
     "name": "stdout",
     "output_type": "stream",
     "text": [
      "   0\n",
      "0  0\n",
      "1  1\n"
     ]
    }
   ],
   "source": [
    "# 데이터 프레임 타입으로 변환하기\n",
    "print(pd.DataFrame(data['CHAS'].unique()))"
   ]
  },
  {
   "cell_type": "code",
   "execution_count": 135,
   "id": "5a6be49f",
   "metadata": {},
   "outputs": [
    {
     "name": "stdout",
     "output_type": "stream",
     "text": [
      "0    2\n",
      "dtype: int64\n"
     ]
    }
   ],
   "source": [
    "# 결과 건수를 계산하기\n",
    "print(pd.DataFrame(data['CHAS'].unique()).count())"
   ]
  },
  {
   "cell_type": "code",
   "execution_count": 136,
   "id": "da272181",
   "metadata": {},
   "outputs": [
    {
     "name": "stdout",
     "output_type": "stream",
     "text": [
      "2\n"
     ]
    }
   ],
   "source": [
    "# CHAS 칼럼의 유니크한 값 개수를 정수형으로 변환해 출력하기\n",
    "print(int(pd.DataFrame(data['CHAS'].unique()).count()))"
   ]
  },
  {
   "cell_type": "code",
   "execution_count": 137,
   "id": "168cdba4",
   "metadata": {},
   "outputs": [],
   "source": [
    "# data 변수의 각 칼럼에 대해서 유니크한 값을 구한 후 평균값 구하기"
   ]
  },
  {
   "cell_type": "markdown",
   "id": "2a980fbb",
   "metadata": {},
   "source": [
    "두 번째 방법<br>\n",
    "자동화 처리"
   ]
  },
  {
   "cell_type": "code",
   "execution_count": 138,
   "id": "7f37dce7",
   "metadata": {},
   "outputs": [],
   "source": [
    "# 최초 합계는 0 으로 설정\n",
    "sum = 0"
   ]
  },
  {
   "cell_type": "code",
   "execution_count": 139,
   "id": "9020793a",
   "metadata": {},
   "outputs": [],
   "source": [
    "# data 변수의 칼럼별로 유니크한 값 개수를 구한 후 sum 변수에 더하는 for 문 만들기\n",
    "for 한개씩 in data_col:\n",
    "    sum = sum + int(pd.DataFrame(data[한개씩].unique()).count()[0])"
   ]
  },
  {
   "cell_type": "code",
   "execution_count": 140,
   "id": "4c1d756e",
   "metadata": {},
   "outputs": [
    {
     "name": "stdout",
     "output_type": "stream",
     "text": [
      "3052\n"
     ]
    }
   ],
   "source": [
    "# sum 변수 확인하기\n",
    "print(sum)"
   ]
  },
  {
   "cell_type": "code",
   "execution_count": 141,
   "id": "54ec7df2",
   "metadata": {},
   "outputs": [
    {
     "name": "stdout",
     "output_type": "stream",
     "text": [
      "14\n"
     ]
    }
   ],
   "source": [
    "# data_col 변수의 사이즈 확인\n",
    "print(data_col.size)"
   ]
  },
  {
   "cell_type": "code",
   "execution_count": 142,
   "id": "17944d5c",
   "metadata": {},
   "outputs": [
    {
     "name": "stdout",
     "output_type": "stream",
     "text": [
      "218.0\n"
     ]
    }
   ],
   "source": [
    "# sum 변수에서 data_col.size 값을 나누기\n",
    "print(sum/data_col.size)"
   ]
  }
 ],
 "metadata": {
  "kernelspec": {
   "display_name": "Python 3",
   "language": "python",
   "name": "python3"
  },
  "language_info": {
   "codemirror_mode": {
    "name": "ipython",
    "version": 3
   },
   "file_extension": ".py",
   "mimetype": "text/x-python",
   "name": "python",
   "nbconvert_exporter": "python",
   "pygments_lexer": "ipython3",
   "version": "3.8.8"
  }
 },
 "nbformat": 4,
 "nbformat_minor": 5
}
