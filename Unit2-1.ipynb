{
 "cells": [
  {
   "cell_type": "code",
   "execution_count": 1,
   "id": "9dd8f980",
   "metadata": {},
   "outputs": [
    {
     "data": {
      "text/plain": [
       "('한라산', '지리산', '설악산', '덕유산')"
      ]
     },
     "execution_count": 1,
     "metadata": {},
     "output_type": "execute_result"
    }
   ],
   "source": [
    "산 = ('한라산','지리산','설악산','덕유산')\n",
    "산"
   ]
  },
  {
   "cell_type": "code",
   "execution_count": 3,
   "id": "57d26623",
   "metadata": {},
   "outputs": [
    {
     "data": {
      "text/plain": [
       "tuple"
      ]
     },
     "execution_count": 3,
     "metadata": {},
     "output_type": "execute_result"
    }
   ],
   "source": [
    "type(산)"
   ]
  },
  {
   "cell_type": "code",
   "execution_count": 4,
   "id": "746cbfcb",
   "metadata": {},
   "outputs": [
    {
     "data": {
      "text/plain": [
       "'지리산'"
      ]
     },
     "execution_count": 4,
     "metadata": {},
     "output_type": "execute_result"
    }
   ],
   "source": [
    "산[1]"
   ]
  },
  {
   "cell_type": "code",
   "execution_count": 5,
   "id": "6c5125bc",
   "metadata": {},
   "outputs": [
    {
     "data": {
      "text/plain": [
       "'지리산'"
      ]
     },
     "execution_count": 5,
     "metadata": {},
     "output_type": "execute_result"
    }
   ],
   "source": [
    "산[-3]"
   ]
  },
  {
   "cell_type": "code",
   "execution_count": 6,
   "id": "e5174211",
   "metadata": {},
   "outputs": [
    {
     "data": {
      "text/plain": [
       "['한라산', '지리산', '설악산', '덕유산']"
      ]
     },
     "execution_count": 6,
     "metadata": {},
     "output_type": "execute_result"
    }
   ],
   "source": [
    "산=['한라산','지리산','설악산','덕유산']\n",
    "산"
   ]
  },
  {
   "cell_type": "code",
   "execution_count": 7,
   "id": "65c43d47",
   "metadata": {},
   "outputs": [
    {
     "data": {
      "text/plain": [
       "list"
      ]
     },
     "execution_count": 7,
     "metadata": {},
     "output_type": "execute_result"
    }
   ],
   "source": [
    "type(산)"
   ]
  },
  {
   "cell_type": "code",
   "execution_count": 8,
   "id": "890bdb76",
   "metadata": {},
   "outputs": [
    {
     "data": {
      "text/plain": [
       "'설악산'"
      ]
     },
     "execution_count": 8,
     "metadata": {},
     "output_type": "execute_result"
    }
   ],
   "source": [
    "산[2]"
   ]
  },
  {
   "cell_type": "code",
   "execution_count": 9,
   "id": "f7a586d8",
   "metadata": {},
   "outputs": [
    {
     "data": {
      "text/plain": [
       "['지리산', '설악산']"
      ]
     },
     "execution_count": 9,
     "metadata": {},
     "output_type": "execute_result"
    }
   ],
   "source": [
    "산[1:3]"
   ]
  },
  {
   "cell_type": "code",
   "execution_count": 10,
   "id": "ad585419",
   "metadata": {},
   "outputs": [
    {
     "data": {
      "text/plain": [
       "'한라산'"
      ]
     },
     "execution_count": 10,
     "metadata": {},
     "output_type": "execute_result"
    }
   ],
   "source": [
    "산[-4]"
   ]
  },
  {
   "cell_type": "code",
   "execution_count": 11,
   "id": "70de77d5",
   "metadata": {},
   "outputs": [
    {
     "data": {
      "text/plain": [
       "['한라산', '지리산', '설악산', '덕유산']"
      ]
     },
     "execution_count": 11,
     "metadata": {},
     "output_type": "execute_result"
    }
   ],
   "source": [
    "산"
   ]
  },
  {
   "cell_type": "code",
   "execution_count": 12,
   "id": "14a2c6b7",
   "metadata": {},
   "outputs": [
    {
     "data": {
      "text/plain": [
       "['한라산', '지리산', '설악산', '덕유산', '한라산', '지리산', '설악산', '덕유산']"
      ]
     },
     "execution_count": 12,
     "metadata": {},
     "output_type": "execute_result"
    }
   ],
   "source": [
    "산 + 산"
   ]
  },
  {
   "cell_type": "code",
   "execution_count": 13,
   "id": "bf2f7522",
   "metadata": {},
   "outputs": [
    {
     "data": {
      "text/plain": [
       "['한라산',\n",
       " '지리산',\n",
       " '설악산',\n",
       " '덕유산',\n",
       " '한라산',\n",
       " '지리산',\n",
       " '설악산',\n",
       " '덕유산',\n",
       " '한라산',\n",
       " '지리산',\n",
       " '설악산',\n",
       " '덕유산']"
      ]
     },
     "execution_count": 13,
     "metadata": {},
     "output_type": "execute_result"
    }
   ],
   "source": [
    "산 *3"
   ]
  },
  {
   "cell_type": "code",
   "execution_count": 14,
   "id": "09085d49",
   "metadata": {},
   "outputs": [
    {
     "data": {
      "text/plain": [
       "['한라산', '지리산', '설악산', '덕유산']"
      ]
     },
     "execution_count": 14,
     "metadata": {},
     "output_type": "execute_result"
    }
   ],
   "source": [
    "산"
   ]
  },
  {
   "cell_type": "code",
   "execution_count": 15,
   "id": "0171f635",
   "metadata": {},
   "outputs": [],
   "source": [
    "산[2]='설악산!'"
   ]
  },
  {
   "cell_type": "code",
   "execution_count": 16,
   "id": "f4fb11f3",
   "metadata": {},
   "outputs": [
    {
     "data": {
      "text/plain": [
       "['한라산', '지리산', '설악산!', '덕유산']"
      ]
     },
     "execution_count": 16,
     "metadata": {},
     "output_type": "execute_result"
    }
   ],
   "source": [
    "산"
   ]
  },
  {
   "cell_type": "code",
   "execution_count": 17,
   "id": "62f07e43",
   "metadata": {},
   "outputs": [],
   "source": [
    "del 산[2]"
   ]
  },
  {
   "cell_type": "code",
   "execution_count": 18,
   "id": "5ed88340",
   "metadata": {},
   "outputs": [
    {
     "data": {
      "text/plain": [
       "['한라산', '지리산', '덕유산']"
      ]
     },
     "execution_count": 18,
     "metadata": {},
     "output_type": "execute_result"
    }
   ],
   "source": [
    "산"
   ]
  },
  {
   "cell_type": "code",
   "execution_count": 19,
   "id": "cd31ba8d",
   "metadata": {},
   "outputs": [],
   "source": [
    "산.append('태백산')"
   ]
  },
  {
   "cell_type": "code",
   "execution_count": 20,
   "id": "984a42f9",
   "metadata": {},
   "outputs": [
    {
     "data": {
      "text/plain": [
       "['한라산', '지리산', '덕유산', '태백산']"
      ]
     },
     "execution_count": 20,
     "metadata": {},
     "output_type": "execute_result"
    }
   ],
   "source": [
    "산"
   ]
  },
  {
   "cell_type": "code",
   "execution_count": 21,
   "id": "4bec11cd",
   "metadata": {},
   "outputs": [],
   "source": [
    "산.insert(2,'설악산')"
   ]
  },
  {
   "cell_type": "code",
   "execution_count": 22,
   "id": "1a53949f",
   "metadata": {},
   "outputs": [
    {
     "data": {
      "text/plain": [
       "['한라산', '지리산', '설악산', '덕유산', '태백산']"
      ]
     },
     "execution_count": 22,
     "metadata": {},
     "output_type": "execute_result"
    }
   ],
   "source": [
    "산"
   ]
  },
  {
   "cell_type": "code",
   "execution_count": 23,
   "id": "0b6da4e3",
   "metadata": {},
   "outputs": [],
   "source": [
    "산.insert(0,'태백산')"
   ]
  },
  {
   "cell_type": "code",
   "execution_count": 24,
   "id": "8591ec39",
   "metadata": {},
   "outputs": [
    {
     "data": {
      "text/plain": [
       "['태백산', '한라산', '지리산', '설악산', '덕유산', '태백산']"
      ]
     },
     "execution_count": 24,
     "metadata": {},
     "output_type": "execute_result"
    }
   ],
   "source": [
    "산"
   ]
  },
  {
   "cell_type": "code",
   "execution_count": 25,
   "id": "5204ab11",
   "metadata": {},
   "outputs": [
    {
     "data": {
      "text/plain": [
       "2"
      ]
     },
     "execution_count": 25,
     "metadata": {},
     "output_type": "execute_result"
    }
   ],
   "source": [
    "산.count('태백산')"
   ]
  },
  {
   "cell_type": "code",
   "execution_count": 27,
   "id": "0b0fc73e",
   "metadata": {},
   "outputs": [
    {
     "data": {
      "text/plain": [
       "['한라산', '지리산', '설악산', '덕유산']"
      ]
     },
     "execution_count": 27,
     "metadata": {},
     "output_type": "execute_result"
    }
   ],
   "source": [
    "산.remove('태백산')\n",
    "산"
   ]
  },
  {
   "cell_type": "code",
   "execution_count": 28,
   "id": "31305662",
   "metadata": {},
   "outputs": [
    {
     "data": {
      "text/plain": [
       "'덕유산'"
      ]
     },
     "execution_count": 28,
     "metadata": {},
     "output_type": "execute_result"
    }
   ],
   "source": [
    "산.pop()"
   ]
  },
  {
   "cell_type": "code",
   "execution_count": 29,
   "id": "8f26934d",
   "metadata": {},
   "outputs": [
    {
     "data": {
      "text/plain": [
       "['한라산', '지리산', '설악산']"
      ]
     },
     "execution_count": 29,
     "metadata": {},
     "output_type": "execute_result"
    }
   ],
   "source": [
    "산"
   ]
  },
  {
   "cell_type": "code",
   "execution_count": 32,
   "id": "66a510b5",
   "metadata": {},
   "outputs": [
    {
     "data": {
      "text/plain": [
       "['설악산', '지리산', '한라산']"
      ]
     },
     "execution_count": 32,
     "metadata": {},
     "output_type": "execute_result"
    }
   ],
   "source": [
    "산.sort()\n",
    "산"
   ]
  },
  {
   "cell_type": "code",
   "execution_count": 33,
   "id": "9ead0577",
   "metadata": {},
   "outputs": [
    {
     "data": {
      "text/plain": [
       "{'1등높이': '한라산', '2등높이': '지리산', '3등높이': '설악산', '4등높이': '덕유산'}"
      ]
     },
     "execution_count": 33,
     "metadata": {},
     "output_type": "execute_result"
    }
   ],
   "source": [
    "산={ '1등높이' : '한라산',\n",
    "      '2등높이' : '지리산',\n",
    "      '3등높이' : '설악산',\n",
    "      '4등높이' : '덕유산'}\n",
    "산"
   ]
  },
  {
   "cell_type": "code",
   "execution_count": 34,
   "id": "7ebe4ec3",
   "metadata": {},
   "outputs": [
    {
     "data": {
      "text/plain": [
       "dict"
      ]
     },
     "execution_count": 34,
     "metadata": {},
     "output_type": "execute_result"
    }
   ],
   "source": [
    "type(산)"
   ]
  },
  {
   "cell_type": "code",
   "execution_count": 36,
   "id": "2cbef1f9",
   "metadata": {},
   "outputs": [
    {
     "data": {
      "text/plain": [
       "'덕유산'"
      ]
     },
     "execution_count": 36,
     "metadata": {},
     "output_type": "execute_result"
    }
   ],
   "source": [
    "산['2등높이']\n",
    "산['4등높이']"
   ]
  },
  {
   "cell_type": "code",
   "execution_count": 37,
   "id": "ed73592a",
   "metadata": {},
   "outputs": [
    {
     "data": {
      "text/plain": [
       "{'e', 'h', 'l', 'o'}"
      ]
     },
     "execution_count": 37,
     "metadata": {},
     "output_type": "execute_result"
    }
   ],
   "source": [
    "헬로우 = set(\"hello\")\n",
    "헬로우"
   ]
  },
  {
   "cell_type": "code",
   "execution_count": 38,
   "id": "4388788a",
   "metadata": {},
   "outputs": [
    {
     "data": {
      "text/plain": [
       "{'h', 'i'}"
      ]
     },
     "execution_count": 38,
     "metadata": {},
     "output_type": "execute_result"
    }
   ],
   "source": [
    "하이 = set(['h','i'])\n",
    "하이"
   ]
  },
  {
   "cell_type": "code",
   "execution_count": 39,
   "id": "a0793e45",
   "metadata": {},
   "outputs": [
    {
     "data": {
      "text/plain": [
       "{'h'}"
      ]
     },
     "execution_count": 39,
     "metadata": {},
     "output_type": "execute_result"
    }
   ],
   "source": [
    "헬로우.intersection(하이) #intersection키워드로 교집합 구하기"
   ]
  },
  {
   "cell_type": "code",
   "execution_count": 40,
   "id": "c2aede8b",
   "metadata": {},
   "outputs": [
    {
     "data": {
      "text/plain": [
       "{'h'}"
      ]
     },
     "execution_count": 40,
     "metadata": {},
     "output_type": "execute_result"
    }
   ],
   "source": [
    "헬로우&하이 #&연산자로 교집합 구하기"
   ]
  },
  {
   "cell_type": "code",
   "execution_count": 41,
   "id": "48b7e602",
   "metadata": {},
   "outputs": [
    {
     "data": {
      "text/plain": [
       "{'e', 'h', 'i', 'l', 'o'}"
      ]
     },
     "execution_count": 41,
     "metadata": {},
     "output_type": "execute_result"
    }
   ],
   "source": [
    "헬로우.union(하이) #union 키워드로 합집합 만들기"
   ]
  },
  {
   "cell_type": "code",
   "execution_count": 44,
   "id": "92c99bc6",
   "metadata": {},
   "outputs": [
    {
     "data": {
      "text/plain": [
       "{'e', 'h', 'i', 'l', 'o'}"
      ]
     },
     "execution_count": 44,
     "metadata": {},
     "output_type": "execute_result"
    }
   ],
   "source": [
    "헬로우|하이 #|(파이프연산자)로 합집합 만들기"
   ]
  },
  {
   "cell_type": "code",
   "execution_count": 45,
   "id": "5ba11c6c",
   "metadata": {},
   "outputs": [
    {
     "data": {
      "text/plain": [
       "{'e', 'l', 'o'}"
      ]
     },
     "execution_count": 45,
     "metadata": {},
     "output_type": "execute_result"
    }
   ],
   "source": [
    "헬로우.difference(하이)"
   ]
  },
  {
   "cell_type": "code",
   "execution_count": 46,
   "id": "c5a98a0d",
   "metadata": {},
   "outputs": [
    {
     "data": {
      "text/plain": [
       "{'e', 'l', 'o'}"
      ]
     },
     "execution_count": 46,
     "metadata": {},
     "output_type": "execute_result"
    }
   ],
   "source": [
    "헬로우-하이"
   ]
  },
  {
   "cell_type": "code",
   "execution_count": 47,
   "id": "7eb57bd6",
   "metadata": {},
   "outputs": [
    {
     "data": {
      "text/plain": [
       "{'i'}"
      ]
     },
     "execution_count": 47,
     "metadata": {},
     "output_type": "execute_result"
    }
   ],
   "source": [
    "하이.difference(헬로우)"
   ]
  },
  {
   "cell_type": "code",
   "execution_count": 48,
   "id": "20e8ece2",
   "metadata": {},
   "outputs": [
    {
     "data": {
      "text/plain": [
       "{'i'}"
      ]
     },
     "execution_count": 48,
     "metadata": {},
     "output_type": "execute_result"
    }
   ],
   "source": [
    "하이-헬로우"
   ]
  },
  {
   "cell_type": "code",
   "execution_count": 50,
   "id": "58a419a4",
   "metadata": {},
   "outputs": [
    {
     "data": {
      "text/plain": [
       "{'!', 'e', 'h', 'l', 'o'}"
      ]
     },
     "execution_count": 50,
     "metadata": {},
     "output_type": "execute_result"
    }
   ],
   "source": [
    "헬로우.add('!')\n",
    "헬로우"
   ]
  },
  {
   "cell_type": "code",
   "execution_count": 51,
   "id": "c396bea7",
   "metadata": {},
   "outputs": [],
   "source": [
    "헬로우.update(['w','o','w'])"
   ]
  },
  {
   "cell_type": "code",
   "execution_count": 52,
   "id": "c3516905",
   "metadata": {},
   "outputs": [
    {
     "data": {
      "text/plain": [
       "{'!', 'e', 'h', 'l', 'o', 'w'}"
      ]
     },
     "execution_count": 52,
     "metadata": {},
     "output_type": "execute_result"
    }
   ],
   "source": [
    "헬로우"
   ]
  },
  {
   "cell_type": "code",
   "execution_count": 53,
   "id": "e2e7ef7f",
   "metadata": {},
   "outputs": [
    {
     "data": {
      "text/plain": [
       "{'!', 'e', 'h', 'l', 'o'}"
      ]
     },
     "execution_count": 53,
     "metadata": {},
     "output_type": "execute_result"
    }
   ],
   "source": [
    "헬로우.remove('w')\n",
    "헬로우"
   ]
  },
  {
   "cell_type": "code",
   "execution_count": null,
   "id": "2ab9842e",
   "metadata": {},
   "outputs": [],
   "source": []
  }
 ],
 "metadata": {
  "kernelspec": {
   "display_name": "Python 3",
   "language": "python",
   "name": "python3"
  },
  "language_info": {
   "codemirror_mode": {
    "name": "ipython",
    "version": 3
   },
   "file_extension": ".py",
   "mimetype": "text/x-python",
   "name": "python",
   "nbconvert_exporter": "python",
   "pygments_lexer": "ipython3",
   "version": "3.8.8"
  }
 },
 "nbformat": 4,
 "nbformat_minor": 5
}
