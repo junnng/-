{
 "cells": [
  {
   "cell_type": "markdown",
   "id": "e64d1db4",
   "metadata": {},
   "source": [
    "### 분류 모델 수행하기\n",
    "고객 891명에 대한 학습용 데이터를 이용하여 생존 여부를 예측하는 모형을 만듭니다.<br>\n",
    "이후 예측 모형을 평가용 데이터에 적용하여 418명 승객의 생존 여부 예측값을 다음과 같은 형식의 CSV 파일로 생성하시오<br>\n",
    "(제출한 모델의 성능은 ROC-AUC 평가지표에 따라 채점)"
   ]
  },
  {
   "cell_type": "markdown",
   "id": "9d3da94e",
   "metadata": {},
   "source": [
    "### 2.1 데이터 탐색하기 "
   ]
  },
  {
   "cell_type": "markdown",
   "id": "ac6a69a1",
   "metadata": {},
   "source": [
    "데이터 가져오기"
   ]
  },
  {
   "cell_type": "code",
   "execution_count": 1,
   "id": "ed32492b",
   "metadata": {},
   "outputs": [],
   "source": [
    "import pandas as pd"
   ]
  },
  {
   "cell_type": "code",
   "execution_count": 2,
   "id": "8be11d79",
   "metadata": {},
   "outputs": [],
   "source": [
    "x_train = pd.read_csv('titanic_x_train.csv', encoding='CP949')\n",
    "x_test = pd.read_csv('titanic_x_test.csv', encoding='CP949')\n",
    "y_train = pd.read_csv('titanic_y_train.csv')"
   ]
  },
  {
   "cell_type": "code",
   "execution_count": 3,
   "id": "e7ffd16d",
   "metadata": {},
   "outputs": [
    {
     "name": "stdout",
     "output_type": "stream",
     "text": [
      "                                   0\n",
      "PassengerId                        1\n",
      "티켓등급                               3\n",
      "승객이름         Braund, Mr. Owen Harris\n",
      "성별                              male\n",
      "나이                              22.0\n",
      "형제자매배우자수                           1\n",
      "부모자식수                              0\n",
      "티켓번호                       A/5 21171\n",
      "운임요금                            7.25\n",
      "객실번호                             NaN\n",
      "선착장                                S\n"
     ]
    }
   ],
   "source": [
    "# x_train, x_test 상위 1개 행 확인하기\n",
    "print(x_train.head(1).T)"
   ]
  },
  {
   "cell_type": "code",
   "execution_count": 4,
   "id": "8ab76f7a",
   "metadata": {},
   "outputs": [
    {
     "name": "stdout",
     "output_type": "stream",
     "text": [
      "                            0\n",
      "PassengerId               892\n",
      "티켓등급                        3\n",
      "승객이름         Kelly, Mr. James\n",
      "성별                       male\n",
      "나이                       34.5\n",
      "형제자매배우자수                    0\n",
      "부모자식수                       0\n",
      "티켓번호                   330911\n",
      "운임요금                   7.8292\n",
      "객실번호                      NaN\n",
      "선착장                         Q\n"
     ]
    }
   ],
   "source": [
    "print(x_test.head(1).T)"
   ]
  },
  {
   "cell_type": "code",
   "execution_count": 5,
   "id": "8d392c0e",
   "metadata": {},
   "outputs": [
    {
     "name": "stdout",
     "output_type": "stream",
     "text": [
      "   PassengerId  Survived\n",
      "0            1         0\n",
      "1            2         1\n",
      "2            3         1\n",
      "3            4         1\n",
      "4            5         0\n"
     ]
    }
   ],
   "source": [
    "print(y_train.head(5))"
   ]
  },
  {
   "cell_type": "markdown",
   "id": "0e245fe3",
   "metadata": {},
   "source": [
    "행/열 확인하기"
   ]
  },
  {
   "cell_type": "code",
   "execution_count": 6,
   "id": "6ae3516b",
   "metadata": {},
   "outputs": [
    {
     "name": "stdout",
     "output_type": "stream",
     "text": [
      "(891, 11)\n"
     ]
    }
   ],
   "source": [
    "# 각 데이터 세트의 행과 열의 개수를 확인하기\n",
    "print(x_train.shape) # 11개 칼럼과 891건의 데이터 세트"
   ]
  },
  {
   "cell_type": "code",
   "execution_count": 7,
   "id": "badc3811",
   "metadata": {},
   "outputs": [
    {
     "name": "stdout",
     "output_type": "stream",
     "text": [
      "(418, 11)\n"
     ]
    }
   ],
   "source": [
    "print(x_test.shape) #11개 칼럼과 418건의 데이터 세트"
   ]
  },
  {
   "cell_type": "code",
   "execution_count": 8,
   "id": "3537ae5f",
   "metadata": {},
   "outputs": [
    {
     "name": "stdout",
     "output_type": "stream",
     "text": [
      "(891, 2)\n"
     ]
    }
   ],
   "source": [
    "print(y_train.shape) # 2개 칼럼과 891건의 데이터 세트"
   ]
  },
  {
   "cell_type": "markdown",
   "id": "1d8b7476",
   "metadata": {},
   "source": [
    "요약정보 확인하기"
   ]
  },
  {
   "cell_type": "code",
   "execution_count": 9,
   "id": "3bb944ec",
   "metadata": {},
   "outputs": [
    {
     "name": "stdout",
     "output_type": "stream",
     "text": [
      "<class 'pandas.core.frame.DataFrame'>\n",
      "RangeIndex: 891 entries, 0 to 890\n",
      "Data columns (total 11 columns):\n",
      " #   Column       Non-Null Count  Dtype  \n",
      "---  ------       --------------  -----  \n",
      " 0   PassengerId  891 non-null    int64  \n",
      " 1   티켓등급         891 non-null    int64  \n",
      " 2   승객이름         891 non-null    object \n",
      " 3   성별           891 non-null    object \n",
      " 4   나이           714 non-null    float64\n",
      " 5   형제자매배우자수     891 non-null    int64  \n",
      " 6   부모자식수        891 non-null    int64  \n",
      " 7   티켓번호         891 non-null    object \n",
      " 8   운임요금         891 non-null    float64\n",
      " 9   객실번호         204 non-null    object \n",
      " 10  선착장          889 non-null    object \n",
      "dtypes: float64(2), int64(4), object(5)\n",
      "memory usage: 76.7+ KB\n",
      "None\n"
     ]
    }
   ],
   "source": [
    "# x_train 세트의 요약정보 확인하기\n",
    "print(x_train.info()) #승객이름 , 성별, 티켓번호, 객실번호, 선착장은 문자형변수"
   ]
  },
  {
   "cell_type": "code",
   "execution_count": 10,
   "id": "d8a3e44d",
   "metadata": {},
   "outputs": [
    {
     "name": "stdout",
     "output_type": "stream",
     "text": [
      "2\n"
     ]
    }
   ],
   "source": [
    "# 성별 칼럼의 중복 제거한 값과 개수 확인하기\n",
    "print(x_train['성별'].unique().size)"
   ]
  },
  {
   "cell_type": "code",
   "execution_count": 11,
   "id": "f5f7ef13",
   "metadata": {},
   "outputs": [
    {
     "name": "stdout",
     "output_type": "stream",
     "text": [
      "['male' 'female']\n"
     ]
    }
   ],
   "source": [
    "print(x_train['성별'].unique())"
   ]
  },
  {
   "cell_type": "code",
   "execution_count": 12,
   "id": "537b55fd",
   "metadata": {},
   "outputs": [
    {
     "name": "stdout",
     "output_type": "stream",
     "text": [
      "4\n"
     ]
    }
   ],
   "source": [
    "#선착장 칼럼의 중복 제거한 값과 개수 확인하기\n",
    "print(x_train['선착장'].unique().size)"
   ]
  },
  {
   "cell_type": "code",
   "execution_count": 13,
   "id": "ace1691b",
   "metadata": {},
   "outputs": [
    {
     "name": "stdout",
     "output_type": "stream",
     "text": [
      "['S' 'C' 'Q' nan]\n"
     ]
    }
   ],
   "source": [
    "print(x_train['선착장'].unique()) # 3개의 값과 결측치"
   ]
  },
  {
   "cell_type": "code",
   "execution_count": 14,
   "id": "84d23786",
   "metadata": {},
   "outputs": [
    {
     "name": "stdout",
     "output_type": "stream",
     "text": [
      "891\n",
      "681\n",
      "148\n"
     ]
    }
   ],
   "source": [
    "# 나머지 3개의 칼럼의 중복제거한 값의 개수 확인하기\n",
    "print(x_train['승객이름'].unique().size)\n",
    "print(x_train['티켓번호'].unique().size)\n",
    "print(x_train['객실번호'].unique().size)\n",
    "# 소수의 값인 성별과 선착장은 범주형 데이터 나머지는 문자열값"
   ]
  },
  {
   "cell_type": "markdown",
   "id": "ea298dec",
   "metadata": {},
   "source": [
    "기초 통계량 확인하기"
   ]
  },
  {
   "cell_type": "code",
   "execution_count": 15,
   "id": "22b2d9de",
   "metadata": {},
   "outputs": [
    {
     "name": "stdout",
     "output_type": "stream",
     "text": [
      "             count        mean         std   min       25%       50%    75%  \\\n",
      "PassengerId  891.0  446.000000  257.353842  1.00  223.5000  446.0000  668.5   \n",
      "티켓등급         891.0    2.308642    0.836071  1.00    2.0000    3.0000    3.0   \n",
      "나이           714.0   29.699118   14.526497  0.42   20.1250   28.0000   38.0   \n",
      "형제자매배우자수     891.0    0.523008    1.102743  0.00    0.0000    0.0000    1.0   \n",
      "부모자식수        891.0    0.381594    0.806057  0.00    0.0000    0.0000    0.0   \n",
      "운임요금         891.0   32.204208   49.693429  0.00    7.9104   14.4542   31.0   \n",
      "\n",
      "                  max  \n",
      "PassengerId  891.0000  \n",
      "티켓등급           3.0000  \n",
      "나이            80.0000  \n",
      "형제자매배우자수       8.0000  \n",
      "부모자식수          6.0000  \n",
      "운임요금         512.3292  \n"
     ]
    }
   ],
   "source": [
    "# x_train의 기초 통계량을 확인하고 가독성을 위해 행/열 바꿔서 출력하기\n",
    "print(x_train.describe().T)"
   ]
  },
  {
   "cell_type": "markdown",
   "id": "3950a2ba",
   "metadata": {},
   "source": [
    "독립변수와 종속변수의 관계 확인하기"
   ]
  },
  {
   "cell_type": "code",
   "execution_count": 16,
   "id": "78006dba",
   "metadata": {},
   "outputs": [],
   "source": [
    "# x_train, y_train을 세로 방향으로 통합한 후 data 변수에 저장하기\n",
    "data=pd.concat([x_train,y_train],axis=1)"
   ]
  },
  {
   "cell_type": "code",
   "execution_count": 17,
   "id": "b8d580aa",
   "metadata": {},
   "outputs": [
    {
     "name": "stdout",
     "output_type": "stream",
     "text": [
      "성별\n",
      "female    0.742038\n",
      "male      0.188908\n",
      "Name: Survived, dtype: float64\n"
     ]
    }
   ],
   "source": [
    "# 성별 칼럼에 따라 Survived의 평균값을 구하기\n",
    "print(data.groupby(['성별'])['Survived'].mean()) # 여성이 남성보다 생존율이 높음을 알 수 있음"
   ]
  },
  {
   "cell_type": "code",
   "execution_count": 18,
   "id": "8d36abe0",
   "metadata": {},
   "outputs": [
    {
     "name": "stdout",
     "output_type": "stream",
     "text": [
      "티켓등급\n",
      "1    0.629630\n",
      "2    0.472826\n",
      "3    0.242363\n",
      "Name: Survived, dtype: float64\n"
     ]
    }
   ],
   "source": [
    "# 티켓등급 칼럼에 따라 Survived의 평균값을 구하기\n",
    "print(data.groupby(['티켓등급'])['Survived'].mean()) #티켓등급이 높을 수록 생존율이 높음"
   ]
  },
  {
   "cell_type": "code",
   "execution_count": 19,
   "id": "360bee32",
   "metadata": {},
   "outputs": [
    {
     "name": "stdout",
     "output_type": "stream",
     "text": [
      "선착장\n",
      "C    0.553571\n",
      "Q    0.389610\n",
      "S    0.336957\n",
      "Name: Survived, dtype: float64\n"
     ]
    }
   ],
   "source": [
    "# 선착장 칼럼에 따라 Survived의 평균값 구하기\n",
    "print(data.groupby(['선착장'])['Survived'].mean()) # C 선착장이 가장 생존율 가장 높음"
   ]
  },
  {
   "cell_type": "markdown",
   "id": "b3d442f4",
   "metadata": {},
   "source": [
    "이러한 결과를 통해 성별 티켓등급 선착장 칼럼들은 최종적으로 분류해야하는 Survived 칼럼과 명확한 관계가 있으므로 포함해야함"
   ]
  },
  {
   "cell_type": "markdown",
   "id": "120a5c1d",
   "metadata": {},
   "source": [
    "### 2.2 전처리하기 "
   ]
  },
  {
   "cell_type": "markdown",
   "id": "e1ee317e",
   "metadata": {},
   "source": [
    "불필요한 칼럼 삭제"
   ]
  },
  {
   "cell_type": "code",
   "execution_count": 20,
   "id": "b30595f2",
   "metadata": {},
   "outputs": [],
   "source": [
    "# 테스트 데이터의 PassengerId 값은 x_test_passenger_id 변수에 저장하기\n",
    "x_test_passenger_id = x_test['PassengerId']"
   ]
  },
  {
   "cell_type": "code",
   "execution_count": 21,
   "id": "7039c3cf",
   "metadata": {},
   "outputs": [],
   "source": [
    "#PassengerId 칼럼을 삭제하기\n",
    "x_train= x_train.drop(columns=['PassengerId'])\n",
    "x_test= x_test.drop(columns=['PassengerId'])\n",
    "y_train= y_train.drop(columns=['PassengerId'])"
   ]
  },
  {
   "cell_type": "code",
   "execution_count": 22,
   "id": "1d982285",
   "metadata": {},
   "outputs": [
    {
     "name": "stdout",
     "output_type": "stream",
     "text": [
      "   티켓등급                                               승객이름      성별    나이  \\\n",
      "0     3                            Braund, Mr. Owen Harris    male  22.0   \n",
      "1     1  Cumings, Mrs. John Bradley (Florence Briggs Th...  female  38.0   \n",
      "2     3                             Heikkinen, Miss. Laina  female  26.0   \n",
      "3     1       Futrelle, Mrs. Jacques Heath (Lily May Peel)  female  35.0   \n",
      "4     3                           Allen, Mr. William Henry    male  35.0   \n",
      "\n",
      "   형제자매배우자수  부모자식수              티켓번호     운임요금  객실번호 선착장  \n",
      "0         1      0         A/5 21171   7.2500   NaN   S  \n",
      "1         1      0          PC 17599  71.2833   C85   C  \n",
      "2         0      0  STON/O2. 3101282   7.9250   NaN   S  \n",
      "3         1      0            113803  53.1000  C123   S  \n",
      "4         0      0            373450   8.0500   NaN   S  \n"
     ]
    }
   ],
   "source": [
    "# 칼럼이 삭제된 상위 5개 행을 확인하기\n",
    "print(x_train.head(5))"
   ]
  },
  {
   "cell_type": "code",
   "execution_count": 23,
   "id": "3a8907bb",
   "metadata": {
    "scrolled": true
   },
   "outputs": [
    {
     "name": "stdout",
     "output_type": "stream",
     "text": [
      "   Survived\n",
      "0         0\n",
      "1         1\n",
      "2         1\n",
      "3         1\n",
      "4         0\n"
     ]
    }
   ],
   "source": [
    "print(y_train.head())"
   ]
  },
  {
   "cell_type": "code",
   "execution_count": 24,
   "id": "1a0de3cb",
   "metadata": {},
   "outputs": [],
   "source": [
    "#학습 데이터와 테스트 데이터에서 '승객이름' 칼럼 삭제하기\n",
    "x_train = x_train.drop(columns=['티켓번호'])\n",
    "x_test = x_test.drop(columns=['티켓번호'])"
   ]
  },
  {
   "cell_type": "code",
   "execution_count": 25,
   "id": "4e308df7",
   "metadata": {},
   "outputs": [],
   "source": [
    "#학습 데이터와 테스트 데이터에서 '승객이름' 칼럼 삭제하기\n",
    "x_train = x_train.drop(columns=['승객이름'])\n",
    "x_test = x_test.drop(columns=['승객이름'])"
   ]
  },
  {
   "cell_type": "markdown",
   "id": "6dddb58d",
   "metadata": {},
   "source": [
    "결측치 처리하기"
   ]
  },
  {
   "cell_type": "code",
   "execution_count": 26,
   "id": "9cf407ed",
   "metadata": {},
   "outputs": [
    {
     "name": "stdout",
     "output_type": "stream",
     "text": [
      "177\n",
      "687\n",
      "2\n"
     ]
    }
   ],
   "source": [
    "# 나이, 객실번호 선착장 칼럼의 결측치 개수 세기\n",
    "print(x_train['나이'].isnull().sum())\n",
    "print(x_train['객실번호'].isnull().sum())\n",
    "print(x_train['선착장'].isnull().sum())"
   ]
  },
  {
   "cell_type": "code",
   "execution_count": 27,
   "id": "76bfc347",
   "metadata": {},
   "outputs": [
    {
     "name": "stdout",
     "output_type": "stream",
     "text": [
      "                나이  Survived\n",
      "나이        1.000000 -0.077221\n",
      "Survived -0.077221  1.000000\n"
     ]
    }
   ],
   "source": [
    "# 나이와 Survived 칼럼간의 상관관계 구하기\n",
    "print(data[['나이','Survived']].corr()) # 상관관계가 매우낮아 분석대상에서 삭제"
   ]
  },
  {
   "cell_type": "code",
   "execution_count": 28,
   "id": "7f279897",
   "metadata": {},
   "outputs": [],
   "source": [
    "#x_train에서 나이 칼럼을 삭제하기\n",
    "x_train=x_train.drop(columns=['나이'])"
   ]
  },
  {
   "cell_type": "code",
   "execution_count": 29,
   "id": "3b86a47d",
   "metadata": {},
   "outputs": [],
   "source": [
    "#x_test에서 나이 칼럼 삭제\n",
    "x_test = x_test.drop(columns=['나이'])"
   ]
  },
  {
   "cell_type": "code",
   "execution_count": 30,
   "id": "7fd7ac67",
   "metadata": {},
   "outputs": [
    {
     "name": "stdout",
     "output_type": "stream",
     "text": [
      "148\n"
     ]
    }
   ],
   "source": [
    "#x_train의 객실번호 값에서 중복을 제외한 값의 개수 세기\n",
    "print(x_train['객실번호'].unique().size) # 거의 서로 상이한 값이라 결측치 처리가 어려워 분석대상에 제외"
   ]
  },
  {
   "cell_type": "code",
   "execution_count": 31,
   "id": "cf2a744e",
   "metadata": {},
   "outputs": [],
   "source": [
    "# x_train에서 객실번호 칼럼 삭제\n",
    "x_train=x_train.drop(columns=['객실번호'])"
   ]
  },
  {
   "cell_type": "code",
   "execution_count": 32,
   "id": "8914f0bf",
   "metadata": {},
   "outputs": [],
   "source": [
    "# x_test에서 객실번호 삭제\n",
    "x_test = x_test.drop(columns=['객실번호'])"
   ]
  },
  {
   "cell_type": "code",
   "execution_count": 33,
   "id": "1a4051f0",
   "metadata": {},
   "outputs": [
    {
     "name": "stdout",
     "output_type": "stream",
     "text": [
      "선착장\n",
      "C    168\n",
      "Q     77\n",
      "S    644\n",
      "Name: 선착장, dtype: int64\n"
     ]
    }
   ],
   "source": [
    "# 선착장칼럼은 학습데이터의 결측치가 2건이므로 최빈값으로 대체 선착장 칼럼별로 값의 개수를 세기\n",
    "print(x_train.groupby(['선착장'])['선착장'].count()) # 결측치는 가장많은 S로 대체"
   ]
  },
  {
   "cell_type": "code",
   "execution_count": 34,
   "id": "0973eae7",
   "metadata": {},
   "outputs": [],
   "source": [
    "# x_train의 선착장 칼럼 결측치는 'S' 로 적용\n",
    "x_train['선착장'] = x_train['선착장'].fillna('S')"
   ]
  },
  {
   "cell_type": "code",
   "execution_count": 35,
   "id": "9ebb32a6",
   "metadata": {},
   "outputs": [
    {
     "name": "stdout",
     "output_type": "stream",
     "text": [
      "0\n"
     ]
    }
   ],
   "source": [
    "# x_train 선착장 칼럼에 결측치가 있는지 다시확인\n",
    "print(x_train['선착장'].isnull().sum())"
   ]
  },
  {
   "cell_type": "code",
   "execution_count": 36,
   "id": "aaef70e8",
   "metadata": {},
   "outputs": [
    {
     "name": "stdout",
     "output_type": "stream",
     "text": [
      "0\n"
     ]
    }
   ],
   "source": [
    "#x_test 선착장 칼럼에 결측치 다시 확인\n",
    "print(x_test['선착장'].isnull().sum())"
   ]
  },
  {
   "cell_type": "markdown",
   "id": "1dfdcc9e",
   "metadata": {},
   "source": [
    "범주형 변수를 인코딩하기"
   ]
  },
  {
   "cell_type": "code",
   "execution_count": 37,
   "id": "091083c1",
   "metadata": {},
   "outputs": [],
   "source": [
    "# 학습 데이터의 성별 칼럼을 인코딩하기\n",
    "x_train['성별']=x_train['성별'].replace('male',0).replace('female',1)"
   ]
  },
  {
   "cell_type": "code",
   "execution_count": 38,
   "id": "a3a7fdfb",
   "metadata": {},
   "outputs": [],
   "source": [
    "# 테스트 데이터의 성별 칼럼을 인코딩하기\n",
    "x_test['성별']=x_test['성별'].replace('male',0).replace('female',1)"
   ]
  },
  {
   "cell_type": "code",
   "execution_count": 39,
   "id": "4658b412",
   "metadata": {},
   "outputs": [],
   "source": [
    "#x_train의 선착장 칼럼에 대해 원핫 인코딩을 수행한 후 선착장_dummy에 저장하기\n",
    "선착장_dummy = pd.get_dummies(x_train['선착장'], drop_first = True).rename(columns={'Q':'선착장Q','S':'선착장S'})"
   ]
  },
  {
   "cell_type": "code",
   "execution_count": 40,
   "id": "d88d4bcf",
   "metadata": {},
   "outputs": [],
   "source": [
    "#기존 x_train의 우측에 '선착장_dummy' 변수를 덧붙여 x_train에 다시 저장하기\n",
    "x_train = pd.concat([x_train, 선착장_dummy],axis=1)"
   ]
  },
  {
   "cell_type": "code",
   "execution_count": 41,
   "id": "6ec4a3f9",
   "metadata": {},
   "outputs": [
    {
     "name": "stdout",
     "output_type": "stream",
     "text": [
      "   티켓등급  성별  형제자매배우자수  부모자식수     운임요금 선착장  선착장Q  선착장S\n",
      "0     3   0         1      0   7.2500   S     0     1\n",
      "1     1   1         1      0  71.2833   C     0     0\n",
      "2     3   1         0      0   7.9250   S     0     1\n",
      "3     1   1         1      0  53.1000   S     0     1\n",
      "4     3   0         0      0   8.0500   S     0     1\n"
     ]
    }
   ],
   "source": [
    "#x_train의 상위 5개 행 확인\n",
    "print(x_train.head())"
   ]
  },
  {
   "cell_type": "code",
   "execution_count": 42,
   "id": "f7050faa",
   "metadata": {},
   "outputs": [],
   "source": [
    "# 학습 데이터에서 선착장 칼럼 삭제하기\n",
    "x_train = x_train.drop(columns =['선착장'])"
   ]
  },
  {
   "cell_type": "code",
   "execution_count": 43,
   "id": "2d2264c6",
   "metadata": {},
   "outputs": [],
   "source": [
    "#x_test 세트의 선착장 칼럼에 대해 원핫 인코딩을 수행하고 기존 칼럼은 삭제하기\n",
    "선착장_dummy=pd.get_dummies(x_test['선착장'], drop_first = True).rename(columns={'Q':'선착장Q','S':'선착장S'})"
   ]
  },
  {
   "cell_type": "code",
   "execution_count": 44,
   "id": "58472ef7",
   "metadata": {},
   "outputs": [],
   "source": [
    "# 기존 x_test의 우측에 선착장_dummy 변수를 덧부여 x_test에 다시 저장하기\n",
    "x_test = pd.concat([x_test,선착장_dummy],axis=1)"
   ]
  },
  {
   "cell_type": "code",
   "execution_count": 45,
   "id": "7f48e9d0",
   "metadata": {},
   "outputs": [],
   "source": [
    "#테스트 데이터에서 선착장 칼럼 삭제하기\n",
    "x_test= x_test.drop(columns=['선착장'])"
   ]
  },
  {
   "cell_type": "markdown",
   "id": "969d5299",
   "metadata": {},
   "source": [
    "파생변수 만들기<br>\n",
    "데이터 세트에는 형제자매배우자수 칼럼과 부모자식수 칼럼이 있습니다.<br>\n",
    "두 칼럼 모두 가족이란 의미를 지닌 유사 칼럼이므로 각 칼럼을 더해 가족수라는 파생변수 만들기"
   ]
  },
  {
   "cell_type": "code",
   "execution_count": 46,
   "id": "6487c268",
   "metadata": {},
   "outputs": [],
   "source": [
    "# 형제자매배우자수와 부모자식수 칼럼을 더하여 가족수라는 칼럼만들기\n",
    "x_train['가족수']=x_train['형제자매배우자수']+x_train['부모자식수']"
   ]
  },
  {
   "cell_type": "code",
   "execution_count": 47,
   "id": "13cb5030",
   "metadata": {},
   "outputs": [
    {
     "name": "stdout",
     "output_type": "stream",
     "text": [
      "   형제자매배우자수  부모자식수  가족수\n",
      "0         1      0    1\n",
      "1         1      0    1\n",
      "2         0      0    0\n",
      "3         1      0    1\n",
      "4         0      0    0\n",
      "5         0      0    0\n",
      "6         0      0    0\n",
      "7         3      1    4\n",
      "8         0      2    2\n",
      "9         1      0    1\n"
     ]
    }
   ],
   "source": [
    "#결과 확인을 위해 상위 10개 행을 확인하기\n",
    "print(x_train[['형제자매배우자수','부모자식수','가족수']].head(10))"
   ]
  },
  {
   "cell_type": "code",
   "execution_count": 48,
   "id": "ed7d69a1",
   "metadata": {},
   "outputs": [],
   "source": [
    "# 학습데이터에서 형제자매배우자수, 부모자식수 칼럼 삭제하기\n",
    "x_train = x_train.drop(columns=['형제자매배우자수','부모자식수'])"
   ]
  },
  {
   "cell_type": "code",
   "execution_count": 49,
   "id": "c710f44b",
   "metadata": {},
   "outputs": [],
   "source": [
    "# 테스트 데이터의 형제자매배우자수와 부모자식수 칼럼을 더한 가족수라는 칼럼 만들기\n",
    "x_test['가족수']=x_test['형제자매배우자수']+x_test['부모자식수']\n",
    "# 테스트데이터에서 형제자매배우자수, 부모자식수 칼럼 삭제하기\n",
    "x_test = x_test.drop(columns=['형제자매배우자수','부모자식수'])"
   ]
  },
  {
   "cell_type": "markdown",
   "id": "9b1d35c3",
   "metadata": {},
   "source": [
    "### 2.3 학습하고 평가하기\n",
    "1. 모델 학습시키기 2.평가지표계산하기 3. y_test 예측값 or 예측확률 계산하기"
   ]
  },
  {
   "cell_type": "markdown",
   "id": "f939bbc6",
   "metadata": {},
   "source": [
    "데이터 분리하기"
   ]
  },
  {
   "cell_type": "code",
   "execution_count": 50,
   "id": "ccfebea7",
   "metadata": {},
   "outputs": [],
   "source": [
    "# 데이터 분리하기 위한 train_test_split 함수를 가져오기\n",
    "from sklearn.model_selection import train_test_split"
   ]
  },
  {
   "cell_type": "code",
   "execution_count": 51,
   "id": "0188bc17",
   "metadata": {},
   "outputs": [],
   "source": [
    "# 학습용과 검증용을 8:2로 분리하여 각 4개의 변수에 저장하기\n",
    "X_TRAIN,X_TEST,Y_TRAIN,Y_TEST = train_test_split(x_train,y_train,\\\n",
    "                                                test_size=0.2, random_state=10)"
   ]
  },
  {
   "cell_type": "code",
   "execution_count": 52,
   "id": "ebfb28d8",
   "metadata": {},
   "outputs": [
    {
     "name": "stdout",
     "output_type": "stream",
     "text": [
      "(712, 6)\n",
      "(179, 6)\n",
      "(712, 1)\n",
      "(179, 1)\n"
     ]
    }
   ],
   "source": [
    "#분리된 데이터의 행/열 구조 파악\n",
    "print(X_TRAIN.shape)\n",
    "print(X_TEST.shape)\n",
    "print(Y_TRAIN.shape)\n",
    "print(Y_TEST.shape)"
   ]
  },
  {
   "cell_type": "markdown",
   "id": "fdd39474",
   "metadata": {},
   "source": [
    "데이터 학습 및 하이퍼 파라미터 튜닝하기<br>\n",
    "학습할 준비가 완료되면 종속변수인 Survived(생존여부)값을 분류하는 모델을 만들기<br>\n",
    "이번 분류모델에서는 일반적으로 성능이 잘나오는 XGB 분류기를 활용하여 학습 모델을 생성"
   ]
  },
  {
   "cell_type": "code",
   "execution_count": 53,
   "id": "2b4cbb77",
   "metadata": {},
   "outputs": [],
   "source": [
    "#xgboost 라이브러리에서 제공하는 XGBClassifier 함수 가져오기\n",
    "from xgboost import XGBClassifier"
   ]
  },
  {
   "cell_type": "code",
   "execution_count": 63,
   "id": "0ff6ec8d",
   "metadata": {},
   "outputs": [
    {
     "name": "stderr",
     "output_type": "stream",
     "text": [
      "C:\\Users\\Hello Beautiful\\Desktop\\anaconda\\lib\\site-packages\\xgboost\\sklearn.py:1224: UserWarning: The use of label encoder in XGBClassifier is deprecated and will be removed in a future release. To remove this warning, do the following: 1) Pass option use_label_encoder=False when constructing XGBClassifier object; and 2) Encode your labels (y) as integers starting with 0, i.e. 0, 1, 2, ..., [num_class - 1].\n",
      "  warnings.warn(label_encoder_deprecation_msg, UserWarning)\n",
      "C:\\Users\\Hello Beautiful\\Desktop\\anaconda\\lib\\site-packages\\sklearn\\preprocessing\\_label.py:98: DataConversionWarning: A column-vector y was passed when a 1d array was expected. Please change the shape of y to (n_samples, ), for example using ravel().\n",
      "  y = column_or_1d(y, warn=True)\n",
      "C:\\Users\\Hello Beautiful\\Desktop\\anaconda\\lib\\site-packages\\sklearn\\preprocessing\\_label.py:133: DataConversionWarning: A column-vector y was passed when a 1d array was expected. Please change the shape of y to (n_samples, ), for example using ravel().\n",
      "  y = column_or_1d(y, warn=True)\n"
     ]
    },
    {
     "data": {
      "text/plain": [
       "XGBClassifier(base_score=0.5, booster='gbtree', colsample_bylevel=1,\n",
       "              colsample_bynode=1, colsample_bytree=1, enable_categorical=False,\n",
       "              eval_metric='error', gamma=0, gpu_id=-1, importance_type=None,\n",
       "              interaction_constraints='', learning_rate=0.300000012,\n",
       "              max_delta_step=0, max_depth=6, min_child_weight=1, missing=nan,\n",
       "              monotone_constraints='()', n_estimators=100, n_jobs=4,\n",
       "              num_parallel_tree=1, predictor='auto', random_state=10,\n",
       "              reg_alpha=0, reg_lambda=1, scale_pos_weight=1, subsample=1,\n",
       "              tree_method='exact', validate_parameters=1, verbosity=None)"
      ]
     },
     "execution_count": 63,
     "metadata": {},
     "output_type": "execute_result"
    }
   ],
   "source": [
    "# XGB 분류 분석을 수행할 첫 번째 모델을 만들고 공부시키기\n",
    "model = XGBClassifier(eval_metric = 'error', random_state=10)\n",
    "model.fit(X_TRAIN, Y_TRAIN)"
   ]
  },
  {
   "cell_type": "code",
   "execution_count": 70,
   "id": "0646957c",
   "metadata": {},
   "outputs": [
    {
     "data": {
      "text/plain": [
       "XGBClassifier(base_score=0.5, booster='gbtree', colsample_bylevel=1,\n",
       "              colsample_bynode=1, colsample_bytree=1, enable_categorical=False,\n",
       "              eval_metric='error', gamma=0, gpu_id=-1, importance_type=None,\n",
       "              interaction_constraints='', learning_rate=0.300000012,\n",
       "              max_delta_step=0, max_depth=5, min_child_weight=1, missing=nan,\n",
       "              monotone_constraints='()', n_estimators=100, n_jobs=4,\n",
       "              num_parallel_tree=1, predictor='auto', random_state=10,\n",
       "              reg_alpha=0, reg_lambda=1, scale_pos_weight=1, subsample=1,\n",
       "              tree_method='exact', validate_parameters=1, verbosity=None)"
      ]
     },
     "execution_count": 70,
     "metadata": {},
     "output_type": "execute_result"
    }
   ],
   "source": [
    "# XGB 분류 분석을 수행할 두 번째 모델을 만들고 공부시키기\n",
    "model = XGBClassifier(n_estimators =100 , max_depth = 5, \\\n",
    "                      eval_metric = 'error', random_state=10)\n",
    "#만들어진 모델을 공부시키기\n",
    "model.fit(X_TRAIN, Y_TRAIN)"
   ]
  },
  {
   "cell_type": "markdown",
   "id": "79a05647",
   "metadata": {},
   "source": [
    "결과 예측하기<br>\n",
    "종속변수인 Survived(생존 여부)값을 예측하기 위해서 생성한 모델에 predict() 함수를 사용하여 예측<br>\n",
    "predict()함수로 추출된 결과는 데이터 프레임 형태가 아니므로 반드시 pd.DataFrame()함수를 사용해 데이터 타입을 변경하기"
   ]
  },
  {
   "cell_type": "code",
   "execution_count": 71,
   "id": "2a5c87e5",
   "metadata": {},
   "outputs": [],
   "source": [
    "# 학습이 완료된 모델을 통해 y_test 예측하기 : 최종 결과 제출용\n",
    "y_test_predicted = pd.DataFrame(model.predict(x_test)).rename(columns={0:'Survived'})"
   ]
  },
  {
   "cell_type": "code",
   "execution_count": 72,
   "id": "64bfe98c",
   "metadata": {},
   "outputs": [
    {
     "name": "stdout",
     "output_type": "stream",
     "text": [
      "   Survived\n",
      "0         0\n",
      "1         1\n",
      "2         0\n",
      "3         0\n",
      "4         1\n",
      "5         0\n",
      "6         0\n",
      "7         1\n",
      "8         1\n",
      "9         0\n"
     ]
    }
   ],
   "source": [
    "# y_test_predicted 값 확인하기\n",
    "print(pd.DataFrame(y_test_predicted.head(10)))"
   ]
  },
  {
   "cell_type": "markdown",
   "id": "dea402bf",
   "metadata": {},
   "source": [
    "만약 승객이 사망할 확률을 구해야한다면 pd.DataFrame(model.predict_proba(x_test))[0] 코드, 생존해야한다면 [1] 코드를 작성<br>\n",
    "향후 ROC 평가지표를 계산하기 위해 X_TEST 검증용 세트에 대응되는 Y_TEST 값을 예측함"
   ]
  },
  {
   "cell_type": "code",
   "execution_count": 73,
   "id": "256e179b",
   "metadata": {},
   "outputs": [],
   "source": [
    "# 학습이 완료된 모델을 통해 Y_TEST 값을 예측하기 : 평가지표 계산용\n",
    "Y_TEST_PREDICTED = pd.DataFrame(model.predict(X_TEST))"
   ]
  },
  {
   "cell_type": "markdown",
   "id": "22075eab",
   "metadata": {},
   "source": [
    "모델 평가하기"
   ]
  },
  {
   "cell_type": "code",
   "execution_count": 67,
   "id": "c0cf9a7e",
   "metadata": {},
   "outputs": [],
   "source": [
    "# sklearn 패키지의 metrics 모듈에서 roc_auc_score 함수 가져오기\n",
    "from sklearn.metrics import roc_auc_score"
   ]
  },
  {
   "cell_type": "code",
   "execution_count": 68,
   "id": "febea0a2",
   "metadata": {},
   "outputs": [
    {
     "name": "stdout",
     "output_type": "stream",
     "text": [
      "0.7731596360628619\n"
     ]
    }
   ],
   "source": [
    "# 1차 학습 모델의 ROC 평가지표 값을 확인하기\n",
    "print(roc_auc_score(Y_TEST,Y_TEST_PREDICTED))"
   ]
  },
  {
   "cell_type": "code",
   "execution_count": 74,
   "id": "fd5633c9",
   "metadata": {},
   "outputs": [
    {
     "name": "stdout",
     "output_type": "stream",
     "text": [
      "0.7983181692859112\n"
     ]
    }
   ],
   "source": [
    "# 2차 학습 모델의 ROC 평가지표 값을 확인하기\n",
    "print(roc_auc_score(Y_TEST,Y_TEST_PREDICTED))\n",
    "#최종 제출은 2번째로 선택"
   ]
  },
  {
   "cell_type": "markdown",
   "id": "6e3958c8",
   "metadata": {},
   "source": [
    "### 2.4 결과 제출하기\n",
    "최종 데이터는 PassengerId 변수와 y_test 세트의 예측값(y_test_predicted)을 함께 출력해야함<br>\n",
    "따라서 concat() 함수를 사용하여 이전에 저장한 x_test_passenger_id 변수와 y_test_predicted 변수를 세로로 통합"
   ]
  },
  {
   "cell_type": "code",
   "execution_count": 75,
   "id": "3158af3e",
   "metadata": {},
   "outputs": [
    {
     "name": "stdout",
     "output_type": "stream",
     "text": [
      "     PassengerId  Survived\n",
      "0            892         0\n",
      "1            893         1\n",
      "2            894         0\n",
      "3            895         0\n",
      "4            896         1\n",
      "..           ...       ...\n",
      "413         1305         0\n",
      "414         1306         1\n",
      "415         1307         0\n",
      "416         1308         0\n",
      "417         1309         1\n",
      "\n",
      "[418 rows x 2 columns]\n"
     ]
    }
   ],
   "source": [
    "print(pd.concat([x_test_passenger_id,y_test_predicted],axis=1))"
   ]
  },
  {
   "cell_type": "code",
   "execution_count": 76,
   "id": "2c47d5c3",
   "metadata": {},
   "outputs": [],
   "source": [
    "# 앞의 출력결과를 final 변수에 저장하기\n",
    "final = pd.concat([x_test_passenger_id,y_test_predicted],axis=1)"
   ]
  },
  {
   "cell_type": "code",
   "execution_count": 77,
   "id": "17c235ed",
   "metadata": {},
   "outputs": [],
   "source": [
    "# final 변수를 123456.csv 이름으로 저장하기\n",
    "final.to_csv('123456.csv',index=False)"
   ]
  },
  {
   "cell_type": "code",
   "execution_count": 80,
   "id": "71c0e01a",
   "metadata": {},
   "outputs": [
    {
     "name": "stdout",
     "output_type": "stream",
     "text": [
      "     PassengerId  Survived\n",
      "0            892         0\n",
      "1            893         1\n",
      "2            894         0\n",
      "3            895         0\n",
      "4            896         1\n",
      "..           ...       ...\n",
      "413         1305         0\n",
      "414         1306         1\n",
      "415         1307         0\n",
      "416         1308         0\n",
      "417         1309         1\n",
      "\n",
      "[418 rows x 2 columns]\n"
     ]
    }
   ],
   "source": [
    "# 제출확인하기\n",
    "final = pd.read_csv('123456.csv')\n",
    "print(final)"
   ]
  }
 ],
 "metadata": {
  "kernelspec": {
   "display_name": "Python 3",
   "language": "python",
   "name": "python3"
  },
  "language_info": {
   "codemirror_mode": {
    "name": "ipython",
    "version": 3
   },
   "file_extension": ".py",
   "mimetype": "text/x-python",
   "name": "python",
   "nbconvert_exporter": "python",
   "pygments_lexer": "ipython3",
   "version": "3.8.8"
  }
 },
 "nbformat": 4,
 "nbformat_minor": 5
}
